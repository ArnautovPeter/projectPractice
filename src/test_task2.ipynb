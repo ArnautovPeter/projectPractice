{
  "cells": [
    {
      "cell_type": "code",
      "execution_count": 5,
      "metadata": {
        "id": "y_jBD8icYY3l"
      },
      "outputs": [],
      "source": [
        "from math import cos, sin, exp\n",
        "\n",
        "def fx(t, xvn, yvn, a):\n",
        "    return a*(cos(t) ** 2 * sin(t) + 2*cos(t) - (2 + xvn * yvn)*xvn) - yvn\n",
        "\n",
        "def fy(t, xvn, yvn, a):\n",
        "    return xvn + yvn - sin(t)\n",
        "\n",
        "def fx2(t):\n",
        "    return cos(t)\n",
        "\n",
        "def fy2(t):\n",
        "    return sin(t)\n",
        "\n",
        "def fx_1(t, xvn, yvn, a):\n",
        "    return 5*xvn + 3*yvn\n",
        "\n",
        "def fy_1(t, xvn, yvn, a):\n",
        "    return -3*xvn - yvn\n",
        "\n",
        "def fx2_1(t):\n",
        "    return (1 + 6 * t) * exp(2 * t)\n",
        "\n",
        "def fy2_1(t):\n",
        "    return (1 - 6 * t) * exp(2 * t)"
      ]
    },
    {
      "cell_type": "code",
      "execution_count": 6,
      "metadata": {},
      "outputs": [],
      "source": [
        "# неявный 1\n",
        "def jac1(T, xvn, yvn, t, table, k, a):\n",
        "  def jac_f(x):\n",
        "    return [[-a * (x[0] * x[1] + 2) * T - 1, (-a * x[0] * x[0] - 1) * T],\n",
        "            [T * 1, T * 1 - 1]]\n",
        "  return jac_f"
      ]
    },
    {
      "cell_type": "code",
      "execution_count": 7,
      "metadata": {},
      "outputs": [],
      "source": [
        "def jac2(T, xvn, yvn, t, table, k, ak):\n",
        "    def jac_f(x):\n",
        "      xn = [xvn + table.a[1][0] * k[0] + table.a[1][1] * x[0], xvn + table.a[1][0] * k[0] + table.a[1][1] * x[0]]\n",
        "      yn = [yvn + table.a[1][0] * k[1] + table.a[1][1] * x[1], yvn + table.a[1][0] * k[1] + table.a[1][1] * x[1]]\n",
        "      return [[-ak * (2 * xn[0] * yn[0] * table.a[1][1] + 2 * table.a[1][1]) * T - 1,\n",
        "               (-ak * xn[0] * xn[0] - 1 * table.a[1][1]) * T],\n",
        "              [T * 1 * table.a[1][1],\n",
        "               T * 1 * table.a[1][1] - 1]]\n",
        "    return jac_f"
      ]
    },
    {
      "cell_type": "code",
      "execution_count": 8,
      "metadata": {},
      "outputs": [
        {
          "name": "stdout",
          "output_type": "stream",
          "text": [
            "<function jac2.<locals>.jac_f at 0x7fb8cf810540>\n"
          ]
        },
        {
          "ename": "AttributeError",
          "evalue": "'NoneType' object has no attribute 'a'",
          "output_type": "error",
          "traceback": [
            "\u001b[0;31m---------------------------------------------------------------------------\u001b[0m",
            "\u001b[0;31mAttributeError\u001b[0m                            Traceback (most recent call last)",
            "Cell \u001b[0;32mIn[8], line 60\u001b[0m\n\u001b[1;32m     56\u001b[0m \u001b[38;5;66;03m# diff_l2 = list()\u001b[39;00m\n\u001b[1;32m     57\u001b[0m \u001b[38;5;66;03m# diff_l3 = list()\u001b[39;00m\n\u001b[1;32m     59\u001b[0m t \u001b[38;5;241m=\u001b[39m \u001b[38;5;241m0.009\u001b[39m\n\u001b[0;32m---> 60\u001b[0m dif \u001b[38;5;241m=\u001b[39m \u001b[43mf\u001b[49m\u001b[43m(\u001b[49m\u001b[43mt\u001b[49m\u001b[43m)\u001b[49m\n\u001b[1;32m     61\u001b[0m crd_move_x \u001b[38;5;241m=\u001b[39m math\u001b[38;5;241m.\u001b[39mlog(t)\n\u001b[1;32m     62\u001b[0m crd_move_y1 \u001b[38;5;241m=\u001b[39m math\u001b[38;5;241m.\u001b[39mlog(dif[\u001b[38;5;241m0\u001b[39m])\n",
            "Cell \u001b[0;32mIn[8], line 17\u001b[0m, in \u001b[0;36mf\u001b[0;34m(T)\u001b[0m\n\u001b[1;32m     14\u001b[0m sol \u001b[38;5;241m=\u001b[39m Solver2((fx, fy), [a], lst, (t_start, t_finish))\n\u001b[1;32m     15\u001b[0m \u001b[38;5;66;03m# array1 = do_method(explicit_method, t_start, t_finish, [lst], variables, False)\u001b[39;00m\n\u001b[1;32m     16\u001b[0m \u001b[38;5;66;03m# array1 = do_method(implicit_method, t_start, t_finish, [lst], variables, False)\u001b[39;00m\n\u001b[0;32m---> 17\u001b[0m array1 \u001b[38;5;241m=\u001b[39m \u001b[43msol\u001b[49m\u001b[38;5;241;43m.\u001b[39;49m\u001b[43mdo_method\u001b[49m\u001b[43m(\u001b[49m\u001b[43msol\u001b[49m\u001b[38;5;241;43m.\u001b[39;49m\u001b[43mimplicit1\u001b[49m\u001b[43m,\u001b[49m\u001b[43m \u001b[49m\u001b[43mT\u001b[49m\u001b[43m,\u001b[49m\u001b[43m \u001b[49m\u001b[43mjac2\u001b[49m\u001b[43m)\u001b[49m\n\u001b[1;32m     18\u001b[0m \u001b[38;5;66;03m# array2 = sol.do_method(sol.implicit1, T, jac1)\u001b[39;00m\n\u001b[1;32m     19\u001b[0m \u001b[38;5;66;03m# # array2 = sol.do_method(explicit4_method, t_start, t_finish, [lst], variables, False)\u001b[39;00m\n\u001b[1;32m     20\u001b[0m \u001b[38;5;66;03m# array3 = sol.do_method(sol.explicit5, T)\u001b[39;00m\n\u001b[1;32m     21\u001b[0m \u001b[38;5;66;03m# array3 = do_method(explicit4_method, t_start, t_finish, [lst], variables, False)\u001b[39;00m\n\u001b[1;32m     22\u001b[0m \u001b[38;5;66;03m# array3 = do_method(implicit_method, t_start, t_finish, [lst], variables, False)\u001b[39;00m\n\u001b[1;32m     23\u001b[0m arrayx1 \u001b[38;5;241m=\u001b[39m sol\u001b[38;5;241m.\u001b[39mget_x(array1)\n",
            "File \u001b[0;32m~/projectPractice/src/num_methods.py:172\u001b[0m, in \u001b[0;36mSolver2.do_method\u001b[0;34m(self, method, T0, jac_impl, dynamic_step)\u001b[0m\n\u001b[1;32m    170\u001b[0m array_T \u001b[38;5;241m=\u001b[39m [T]\n\u001b[1;32m    171\u001b[0m \u001b[38;5;28;01mwhile\u001b[39;00m tl[\u001b[38;5;241m-\u001b[39m\u001b[38;5;241m1\u001b[39m] \u001b[38;5;241m<\u001b[39m\u001b[38;5;241m=\u001b[39m \u001b[38;5;28mself\u001b[39m\u001b[38;5;241m.\u001b[39m_t_limits[\u001b[38;5;241m1\u001b[39m]:\n\u001b[0;32m--> 172\u001b[0m     array\u001b[38;5;241m.\u001b[39mappend(\u001b[43mmethod\u001b[49m\u001b[43m(\u001b[49m\u001b[43mT\u001b[49m\u001b[43m,\u001b[49m\u001b[43m \u001b[49m\u001b[43marray\u001b[49m\u001b[43m[\u001b[49m\u001b[38;5;241;43m-\u001b[39;49m\u001b[38;5;241;43m1\u001b[39;49m\u001b[43m]\u001b[49m\u001b[43m[\u001b[49m\u001b[38;5;241;43m0\u001b[39;49m\u001b[43m]\u001b[49m\u001b[43m,\u001b[49m\u001b[43m \u001b[49m\u001b[43marray\u001b[49m\u001b[43m[\u001b[49m\u001b[38;5;241;43m-\u001b[39;49m\u001b[38;5;241;43m1\u001b[39;49m\u001b[43m]\u001b[49m\u001b[43m[\u001b[49m\u001b[38;5;241;43m1\u001b[39;49m\u001b[43m]\u001b[49m\u001b[43m,\u001b[49m\u001b[43m \u001b[49m\u001b[43mtl\u001b[49m\u001b[43m[\u001b[49m\u001b[38;5;241;43m-\u001b[39;49m\u001b[38;5;241;43m1\u001b[39;49m\u001b[43m]\u001b[49m\u001b[43m,\u001b[49m\u001b[43m \u001b[49m\u001b[43mjac_impl\u001b[49m\u001b[43m)\u001b[49m)\n\u001b[1;32m    173\u001b[0m     \u001b[38;5;28;01mif\u001b[39;00m dynamic_step:\n\u001b[1;32m    174\u001b[0m         T \u001b[38;5;241m=\u001b[39m \u001b[38;5;28mself\u001b[39m\u001b[38;5;241m.\u001b[39mnew_T(array_T[\u001b[38;5;241m-\u001b[39m\u001b[38;5;241m1\u001b[39m], T0, array[\u001b[38;5;241m-\u001b[39m\u001b[38;5;241m1\u001b[39m], array[\u001b[38;5;241m-\u001b[39m\u001b[38;5;241m2\u001b[39m],\n\u001b[1;32m    175\u001b[0m                         \u001b[38;5;28mself\u001b[39m\u001b[38;5;241m.\u001b[39m_t_limits[\u001b[38;5;241m1\u001b[39m] \u001b[38;5;241m-\u001b[39m \u001b[38;5;28mself\u001b[39m\u001b[38;5;241m.\u001b[39m_t_limits[\u001b[38;5;241m0\u001b[39m])\n",
            "File \u001b[0;32m~/projectPractice/src/num_methods.py:95\u001b[0m, in \u001b[0;36mSolver2.implicit1\u001b[0;34m(self, T, xvn, yvn, t, jac)\u001b[0m\n\u001b[1;32m     90\u001b[0m     \u001b[38;5;28;01mreturn\u001b[39;00m [T \u001b[38;5;241m*\u001b[39m \u001b[38;5;28mself\u001b[39m\u001b[38;5;241m.\u001b[39m_fx(t, x[\u001b[38;5;241m0\u001b[39m], x[\u001b[38;5;241m1\u001b[39m], \u001b[38;5;241m*\u001b[39m\u001b[38;5;28mself\u001b[39m\u001b[38;5;241m.\u001b[39m_params) \u001b[38;5;241m-\u001b[39m x[\u001b[38;5;241m0\u001b[39m] \u001b[38;5;241m+\u001b[39m xvn,\n\u001b[1;32m     91\u001b[0m             T \u001b[38;5;241m*\u001b[39m \u001b[38;5;28mself\u001b[39m\u001b[38;5;241m.\u001b[39m_fy(t, x[\u001b[38;5;241m0\u001b[39m], x[\u001b[38;5;241m1\u001b[39m], \u001b[38;5;241m*\u001b[39m\u001b[38;5;28mself\u001b[39m\u001b[38;5;241m.\u001b[39m_params) \u001b[38;5;241m-\u001b[39m x[\u001b[38;5;241m1\u001b[39m] \u001b[38;5;241m+\u001b[39m yvn]\n\u001b[1;32m     93\u001b[0m \u001b[38;5;28mprint\u001b[39m(jac(T, xvn, yvn, t, \u001b[38;5;28;01mNone\u001b[39;00m, \u001b[38;5;28;01mNone\u001b[39;00m, \u001b[38;5;241m*\u001b[39m\u001b[38;5;28mself\u001b[39m\u001b[38;5;241m.\u001b[39m_params))\n\u001b[0;32m---> 95\u001b[0m sol \u001b[38;5;241m=\u001b[39m \u001b[43moptimize\u001b[49m\u001b[38;5;241;43m.\u001b[39;49m\u001b[43mroot\u001b[49m\u001b[43m(\u001b[49m\u001b[43mfun\u001b[49m\u001b[38;5;241;43m=\u001b[39;49m\u001b[43mf\u001b[49m\u001b[43m,\u001b[49m\n\u001b[1;32m     96\u001b[0m \u001b[43m                    \u001b[49m\u001b[43mx0\u001b[49m\u001b[38;5;241;43m=\u001b[39;49m\u001b[38;5;28;43mself\u001b[39;49m\u001b[38;5;241;43m.\u001b[39;49m\u001b[43m_guess\u001b[49m\u001b[43m(\u001b[49m\u001b[43mT\u001b[49m\u001b[43m,\u001b[49m\u001b[43m \u001b[49m\u001b[43mxvn\u001b[49m\u001b[43m,\u001b[49m\u001b[43m \u001b[49m\u001b[43myvn\u001b[49m\u001b[43m,\u001b[49m\u001b[43m \u001b[49m\u001b[43mt\u001b[49m\u001b[43m)\u001b[49m\u001b[43m,\u001b[49m\n\u001b[1;32m     97\u001b[0m \u001b[43m                    \u001b[49m\u001b[43mjac\u001b[49m\u001b[38;5;241;43m=\u001b[39;49m\u001b[43mjac\u001b[49m\u001b[43m(\u001b[49m\u001b[43mT\u001b[49m\u001b[43m,\u001b[49m\u001b[43m \u001b[49m\u001b[43mxvn\u001b[49m\u001b[43m,\u001b[49m\u001b[43m \u001b[49m\u001b[43myvn\u001b[49m\u001b[43m,\u001b[49m\u001b[43m \u001b[49m\u001b[43mt\u001b[49m\u001b[43m,\u001b[49m\u001b[43m \u001b[49m\u001b[38;5;28;43;01mNone\u001b[39;49;00m\u001b[43m,\u001b[49m\u001b[43m \u001b[49m\u001b[38;5;28;43;01mNone\u001b[39;49;00m\u001b[43m,\u001b[49m\u001b[43m \u001b[49m\u001b[38;5;241;43m*\u001b[39;49m\u001b[38;5;28;43mself\u001b[39;49m\u001b[38;5;241;43m.\u001b[39;49m\u001b[43m_params\u001b[49m\u001b[43m)\u001b[49m\u001b[43m,\u001b[49m\n\u001b[1;32m     98\u001b[0m \u001b[43m                    \u001b[49m\u001b[43mmethod\u001b[49m\u001b[38;5;241;43m=\u001b[39;49m\u001b[38;5;124;43m'\u001b[39;49m\u001b[38;5;124;43mhybr\u001b[39;49m\u001b[38;5;124;43m'\u001b[39;49m\u001b[43m)\u001b[49m\n\u001b[1;32m     99\u001b[0m \u001b[38;5;28;01mreturn\u001b[39;00m (sol\u001b[38;5;241m.\u001b[39mx[\u001b[38;5;241m0\u001b[39m], sol\u001b[38;5;241m.\u001b[39mx[\u001b[38;5;241m1\u001b[39m])\n",
            "File \u001b[0;32m~/projectPractice/.venv/lib/python3.11/site-packages/scipy/optimize/_root.py:236\u001b[0m, in \u001b[0;36mroot\u001b[0;34m(fun, x0, args, method, jac, tol, callback, options)\u001b[0m\n\u001b[1;32m    233\u001b[0m         options\u001b[38;5;241m.\u001b[39msetdefault(\u001b[38;5;124m'\u001b[39m\u001b[38;5;124mfatol\u001b[39m\u001b[38;5;124m'\u001b[39m, np\u001b[38;5;241m.\u001b[39minf)\n\u001b[1;32m    235\u001b[0m \u001b[38;5;28;01mif\u001b[39;00m meth \u001b[38;5;241m==\u001b[39m \u001b[38;5;124m'\u001b[39m\u001b[38;5;124mhybr\u001b[39m\u001b[38;5;124m'\u001b[39m:\n\u001b[0;32m--> 236\u001b[0m     sol \u001b[38;5;241m=\u001b[39m \u001b[43m_root_hybr\u001b[49m\u001b[43m(\u001b[49m\u001b[43mfun\u001b[49m\u001b[43m,\u001b[49m\u001b[43m \u001b[49m\u001b[43mx0\u001b[49m\u001b[43m,\u001b[49m\u001b[43m \u001b[49m\u001b[43margs\u001b[49m\u001b[38;5;241;43m=\u001b[39;49m\u001b[43margs\u001b[49m\u001b[43m,\u001b[49m\u001b[43m \u001b[49m\u001b[43mjac\u001b[49m\u001b[38;5;241;43m=\u001b[39;49m\u001b[43mjac\u001b[49m\u001b[43m,\u001b[49m\u001b[43m \u001b[49m\u001b[38;5;241;43m*\u001b[39;49m\u001b[38;5;241;43m*\u001b[39;49m\u001b[43moptions\u001b[49m\u001b[43m)\u001b[49m\n\u001b[1;32m    237\u001b[0m \u001b[38;5;28;01melif\u001b[39;00m meth \u001b[38;5;241m==\u001b[39m \u001b[38;5;124m'\u001b[39m\u001b[38;5;124mlm\u001b[39m\u001b[38;5;124m'\u001b[39m:\n\u001b[1;32m    238\u001b[0m     sol \u001b[38;5;241m=\u001b[39m _root_leastsq(fun, x0, args\u001b[38;5;241m=\u001b[39margs, jac\u001b[38;5;241m=\u001b[39mjac, \u001b[38;5;241m*\u001b[39m\u001b[38;5;241m*\u001b[39moptions)\n",
            "File \u001b[0;32m~/projectPractice/.venv/lib/python3.11/site-packages/scipy/optimize/_minpack_py.py:246\u001b[0m, in \u001b[0;36m_root_hybr\u001b[0;34m(func, x0, args, jac, col_deriv, xtol, maxfev, band, eps, factor, diag, **unknown_options)\u001b[0m\n\u001b[1;32m    243\u001b[0m     retval \u001b[38;5;241m=\u001b[39m _minpack\u001b[38;5;241m.\u001b[39m_hybrd(func, x0, args, \u001b[38;5;241m1\u001b[39m, xtol, maxfev,\n\u001b[1;32m    244\u001b[0m                              ml, mu, epsfcn, factor, diag)\n\u001b[1;32m    245\u001b[0m \u001b[38;5;28;01melse\u001b[39;00m:\n\u001b[0;32m--> 246\u001b[0m     \u001b[43m_check_func\u001b[49m\u001b[43m(\u001b[49m\u001b[38;5;124;43m'\u001b[39;49m\u001b[38;5;124;43mfsolve\u001b[39;49m\u001b[38;5;124;43m'\u001b[39;49m\u001b[43m,\u001b[49m\u001b[43m \u001b[49m\u001b[38;5;124;43m'\u001b[39;49m\u001b[38;5;124;43mfprime\u001b[39;49m\u001b[38;5;124;43m'\u001b[39;49m\u001b[43m,\u001b[49m\u001b[43m \u001b[49m\u001b[43mDfun\u001b[49m\u001b[43m,\u001b[49m\u001b[43m \u001b[49m\u001b[43mx0\u001b[49m\u001b[43m,\u001b[49m\u001b[43m \u001b[49m\u001b[43margs\u001b[49m\u001b[43m,\u001b[49m\u001b[43m \u001b[49m\u001b[43mn\u001b[49m\u001b[43m,\u001b[49m\u001b[43m \u001b[49m\u001b[43m(\u001b[49m\u001b[43mn\u001b[49m\u001b[43m,\u001b[49m\u001b[43m \u001b[49m\u001b[43mn\u001b[49m\u001b[43m)\u001b[49m\u001b[43m)\u001b[49m\n\u001b[1;32m    247\u001b[0m     \u001b[38;5;28;01mif\u001b[39;00m (maxfev \u001b[38;5;241m==\u001b[39m \u001b[38;5;241m0\u001b[39m):\n\u001b[1;32m    248\u001b[0m         maxfev \u001b[38;5;241m=\u001b[39m \u001b[38;5;241m100\u001b[39m \u001b[38;5;241m*\u001b[39m (n \u001b[38;5;241m+\u001b[39m \u001b[38;5;241m1\u001b[39m)\n",
            "File \u001b[0;32m~/projectPractice/.venv/lib/python3.11/site-packages/scipy/optimize/_minpack_py.py:29\u001b[0m, in \u001b[0;36m_check_func\u001b[0;34m(checker, argname, thefunc, x0, args, numinputs, output_shape)\u001b[0m\n\u001b[1;32m     27\u001b[0m \u001b[38;5;28;01mdef\u001b[39;00m \u001b[38;5;21m_check_func\u001b[39m(checker, argname, thefunc, x0, args, numinputs,\n\u001b[1;32m     28\u001b[0m                 output_shape\u001b[38;5;241m=\u001b[39m\u001b[38;5;28;01mNone\u001b[39;00m):\n\u001b[0;32m---> 29\u001b[0m     res \u001b[38;5;241m=\u001b[39m atleast_1d(\u001b[43mthefunc\u001b[49m\u001b[43m(\u001b[49m\u001b[38;5;241;43m*\u001b[39;49m\u001b[43m(\u001b[49m\u001b[43m(\u001b[49m\u001b[43mx0\u001b[49m\u001b[43m[\u001b[49m\u001b[43m:\u001b[49m\u001b[43mnuminputs\u001b[49m\u001b[43m]\u001b[49m\u001b[43m,\u001b[49m\u001b[43m)\u001b[49m\u001b[43m \u001b[49m\u001b[38;5;241;43m+\u001b[39;49m\u001b[43m \u001b[49m\u001b[43margs\u001b[49m\u001b[43m)\u001b[49m\u001b[43m)\u001b[49m)\n\u001b[1;32m     30\u001b[0m     \u001b[38;5;28;01mif\u001b[39;00m (output_shape \u001b[38;5;129;01mis\u001b[39;00m \u001b[38;5;129;01mnot\u001b[39;00m \u001b[38;5;28;01mNone\u001b[39;00m) \u001b[38;5;129;01mand\u001b[39;00m (shape(res) \u001b[38;5;241m!=\u001b[39m output_shape):\n\u001b[1;32m     31\u001b[0m         \u001b[38;5;28;01mif\u001b[39;00m (output_shape[\u001b[38;5;241m0\u001b[39m] \u001b[38;5;241m!=\u001b[39m \u001b[38;5;241m1\u001b[39m):\n",
            "Cell \u001b[0;32mIn[7], line 3\u001b[0m, in \u001b[0;36mjac2.<locals>.jac_f\u001b[0;34m(x)\u001b[0m\n\u001b[1;32m      2\u001b[0m \u001b[38;5;28;01mdef\u001b[39;00m \u001b[38;5;21mjac_f\u001b[39m(x):\n\u001b[0;32m----> 3\u001b[0m   xn \u001b[38;5;241m=\u001b[39m [xvn \u001b[38;5;241m+\u001b[39m \u001b[43mtable\u001b[49m\u001b[38;5;241;43m.\u001b[39;49m\u001b[43ma\u001b[49m[\u001b[38;5;241m1\u001b[39m][\u001b[38;5;241m0\u001b[39m] \u001b[38;5;241m*\u001b[39m k[\u001b[38;5;241m0\u001b[39m] \u001b[38;5;241m+\u001b[39m table\u001b[38;5;241m.\u001b[39ma[\u001b[38;5;241m1\u001b[39m][\u001b[38;5;241m1\u001b[39m] \u001b[38;5;241m*\u001b[39m x[\u001b[38;5;241m0\u001b[39m], xvn \u001b[38;5;241m+\u001b[39m table\u001b[38;5;241m.\u001b[39ma[\u001b[38;5;241m1\u001b[39m][\u001b[38;5;241m0\u001b[39m] \u001b[38;5;241m*\u001b[39m k[\u001b[38;5;241m0\u001b[39m] \u001b[38;5;241m+\u001b[39m table\u001b[38;5;241m.\u001b[39ma[\u001b[38;5;241m1\u001b[39m][\u001b[38;5;241m1\u001b[39m] \u001b[38;5;241m*\u001b[39m x[\u001b[38;5;241m0\u001b[39m]]\n\u001b[1;32m      4\u001b[0m   yn \u001b[38;5;241m=\u001b[39m [yvn \u001b[38;5;241m+\u001b[39m table\u001b[38;5;241m.\u001b[39ma[\u001b[38;5;241m1\u001b[39m][\u001b[38;5;241m0\u001b[39m] \u001b[38;5;241m*\u001b[39m k[\u001b[38;5;241m1\u001b[39m] \u001b[38;5;241m+\u001b[39m table\u001b[38;5;241m.\u001b[39ma[\u001b[38;5;241m1\u001b[39m][\u001b[38;5;241m1\u001b[39m] \u001b[38;5;241m*\u001b[39m x[\u001b[38;5;241m1\u001b[39m], yvn \u001b[38;5;241m+\u001b[39m table\u001b[38;5;241m.\u001b[39ma[\u001b[38;5;241m1\u001b[39m][\u001b[38;5;241m0\u001b[39m] \u001b[38;5;241m*\u001b[39m k[\u001b[38;5;241m1\u001b[39m] \u001b[38;5;241m+\u001b[39m table\u001b[38;5;241m.\u001b[39ma[\u001b[38;5;241m1\u001b[39m][\u001b[38;5;241m1\u001b[39m] \u001b[38;5;241m*\u001b[39m x[\u001b[38;5;241m1\u001b[39m]]\n\u001b[1;32m      5\u001b[0m   \u001b[38;5;28;01mreturn\u001b[39;00m [[\u001b[38;5;241m-\u001b[39mak \u001b[38;5;241m*\u001b[39m (\u001b[38;5;241m2\u001b[39m \u001b[38;5;241m*\u001b[39m xn[\u001b[38;5;241m0\u001b[39m] \u001b[38;5;241m*\u001b[39m yn[\u001b[38;5;241m0\u001b[39m] \u001b[38;5;241m*\u001b[39m table\u001b[38;5;241m.\u001b[39ma[\u001b[38;5;241m1\u001b[39m][\u001b[38;5;241m1\u001b[39m] \u001b[38;5;241m+\u001b[39m \u001b[38;5;241m2\u001b[39m \u001b[38;5;241m*\u001b[39m table\u001b[38;5;241m.\u001b[39ma[\u001b[38;5;241m1\u001b[39m][\u001b[38;5;241m1\u001b[39m]) \u001b[38;5;241m*\u001b[39m T \u001b[38;5;241m-\u001b[39m \u001b[38;5;241m1\u001b[39m,\n\u001b[1;32m      6\u001b[0m            (\u001b[38;5;241m-\u001b[39mak \u001b[38;5;241m*\u001b[39m xn[\u001b[38;5;241m0\u001b[39m] \u001b[38;5;241m*\u001b[39m xn[\u001b[38;5;241m0\u001b[39m] \u001b[38;5;241m-\u001b[39m \u001b[38;5;241m1\u001b[39m \u001b[38;5;241m*\u001b[39m table\u001b[38;5;241m.\u001b[39ma[\u001b[38;5;241m1\u001b[39m][\u001b[38;5;241m1\u001b[39m]) \u001b[38;5;241m*\u001b[39m T],\n\u001b[1;32m      7\u001b[0m           [T \u001b[38;5;241m*\u001b[39m \u001b[38;5;241m1\u001b[39m \u001b[38;5;241m*\u001b[39m table\u001b[38;5;241m.\u001b[39ma[\u001b[38;5;241m1\u001b[39m][\u001b[38;5;241m1\u001b[39m],\n\u001b[1;32m      8\u001b[0m            T \u001b[38;5;241m*\u001b[39m \u001b[38;5;241m1\u001b[39m \u001b[38;5;241m*\u001b[39m table\u001b[38;5;241m.\u001b[39ma[\u001b[38;5;241m1\u001b[39m][\u001b[38;5;241m1\u001b[39m] \u001b[38;5;241m-\u001b[39m \u001b[38;5;241m1\u001b[39m]]\n",
            "\u001b[0;31mAttributeError\u001b[0m: 'NoneType' object has no attribute 'a'"
          ]
        }
      ],
      "source": [
        "import math\n",
        "from statistics import mean\n",
        "import matplotlib.pyplot as plt\n",
        "import numpy as np\n",
        "from num_methods import Solver2\n",
        "from drawing import draw\n",
        "\n",
        "def f(T):\n",
        "    t_start = 0\n",
        "    t_finish = 4\n",
        "    a = 10\n",
        "    \n",
        "    lst =  (fx2(0), fy2(0))\n",
        "    sol = Solver2((fx, fy), [a], lst, (t_start, t_finish))\n",
        "    # array1 = do_method(explicit_method, t_start, t_finish, [lst], variables, False)\n",
        "    # array1 = do_method(implicit_method, t_start, t_finish, [lst], variables, False)\n",
        "    array1 = sol.do_method(sol.implicit2, T, jac2)\n",
        "    # array2 = sol.do_method(sol.implicit1, T, jac1)\n",
        "    # # array2 = sol.do_method(explicit4_method, t_start, t_finish, [lst], variables, False)\n",
        "    # array3 = sol.do_method(sol.explicit5, T)\n",
        "    # array3 = do_method(explicit4_method, t_start, t_finish, [lst], variables, False)\n",
        "    # array3 = do_method(implicit_method, t_start, t_finish, [lst], variables, False)\n",
        "    arrayx1 = sol.get_x(array1)\n",
        "    arrayy1 = sol.get_y(array1)\n",
        "    # arrayx2 = [i[0] for i in array2[1]]\n",
        "    # arrayy2 = [i[1] for i in array2[1]]\n",
        "    # arrayx3 = [i[0] for i in array3[1]]\n",
        "    # arrayy3 = [i[1] for i in array3[1]]\n",
        "    # arrayx4 = [i[0] for i in array3[1]]\n",
        "    # arrayy4 = [i[1] for i in array3[1]]\n",
        "    # print(len(array1[0]), len(array2[0]), len(array3[0]))\n",
        "    max_dif = [0, 0, 0]\n",
        "    tl = array1[0]\n",
        "    for i in range(len(array1[0])):\n",
        "        real_x = fx2(tl[i])\n",
        "        real_y = fy2(tl[i])\n",
        "        max_dif[0] = max(max_dif[0], abs(arrayx1[i] - real_x))\n",
        "        max_dif[0] = max(max_dif[0], abs(arrayy1[i] - real_y))\n",
        "        # max_dif[1] = max(max_dif[1], abs(arrayx2[i] - real_x))\n",
        "        # max_dif[1] = max(max_dif[1], abs(arrayy2[i] - real_y))\n",
        "        # max_dif[2] = max(max_dif[2], abs(arrayx3[i] - real_x))\n",
        "        # max_dif[2] = max(max_dif[2], abs(arrayy3[i] - real_y))\n",
        "\n",
        "    # CHECK\n",
        "    # args = np.linspace(t_start, t_finish, 500)\n",
        "    # x_true = list([fx2_1(t) for t in args])\n",
        "    # print(arrayx1)\n",
        "    # print(x_true)\n",
        "    # draw([array1[0], args], [arrayx1, x_true], ['fake', 'real'], [\"fake\", \"real\"])\n",
        "    # return \n",
        "\n",
        "    return max_dif\n",
        "\n",
        "t_l = list()\n",
        "diff_l1 = list()\n",
        "# diff_l2 = list()\n",
        "# diff_l3 = list()\n",
        "\n",
        "t = 0.009\n",
        "dif = f(t)\n",
        "crd_move_x = math.log(t)\n",
        "crd_move_y1 = math.log(dif[0])\n",
        "# crd_move_y2 = math.log(dif[1])\n",
        "# crd_move_y3 = math.log(dif[2])\n",
        "T = 0.1\n",
        "while t <= T:\n",
        "    # print(t, end=\" \")\n",
        "    dif = f(t)\n",
        "    # break\n",
        "    # print(t, dif[2])\n",
        "    diff_l1.append(math.log(dif[0]) - crd_move_y1)\n",
        "    # diff_l2.append(math.log(dif[1]) - crd_move_y2)\n",
        "    # diff_l3.append(math.log(dif[2]) - crd_move_y3)\n",
        "    t_l.append(math.log(t) - crd_move_x)\n",
        "    t += 0.001\n",
        "    # TODO:\n",
        "    # break\n",
        "\n",
        "fig = plt.figure(figsize=(8,8))\n",
        "px1 = fig.add_subplot(111)\n",
        "px1.plot(t_l, diff_l1, label=\"явный1\" + f\" {mean(diff_l1[i]/t_l[i] for i in range(1, len(t_l)))}\")\n",
        "px1.set_xticks(np.arange(0, math.ceil(math.log(T) - crd_move_x) + 1, step=1))\n",
        "px1.set_yticks(np.arange(0, math.ceil(math.log(T) - crd_move_y1) + 1, step=1))\n",
        "px1.set_xlabel(\"ln(T)\")\n",
        "px1.set_ylabel(\"ln(E(T))\")\n",
        "px1.legend()\n",
        "fig.show()\n",
        "\n",
        "    "
      ]
    }
  ],
  "metadata": {
    "accelerator": "GPU",
    "colab": {
      "gpuType": "T4",
      "provenance": []
    },
    "kernelspec": {
      "display_name": "Python 3",
      "name": "python3"
    },
    "language_info": {
      "codemirror_mode": {
        "name": "ipython",
        "version": 3
      },
      "file_extension": ".py",
      "mimetype": "text/x-python",
      "name": "python",
      "nbconvert_exporter": "python",
      "pygments_lexer": "ipython3",
      "version": "3.11.2"
    }
  },
  "nbformat": 4,
  "nbformat_minor": 0
}
