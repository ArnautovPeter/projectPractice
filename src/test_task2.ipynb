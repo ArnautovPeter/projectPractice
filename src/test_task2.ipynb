{
  "cells": [
    {
      "cell_type": "code",
      "execution_count": 5,
      "metadata": {
        "id": "y_jBD8icYY3l"
      },
      "outputs": [],
      "source": [
        "from math import cos, sin\n",
        "\n",
        "def fx(t, xvn, yvn, a):\n",
        "    return a*(cos(t) ** 2 * sin(t) + 2*cos(t) - (2 + xvn * yvn)*xvn) - yvn\n",
        "\n",
        "def fy(t, xvn, yvn, a):\n",
        "    return xvn + yvn - sin(t)\n",
        "\n",
        "def fx2(t):\n",
        "    return cos(t)\n",
        "\n",
        "def fy2(t):\n",
        "    return sin(t)"
      ]
    },
    {
      "cell_type": "code",
      "execution_count": 6,
      "metadata": {},
      "outputs": [],
      "source": [
        "from scipy import optimize\n",
        "\"\"\"Неявный метод Эйлера 1-го порядка\"\"\"\n",
        "def implicit2_method(T, xvn, yvn, t, ak):\n",
        "    a = [[0, 0],\n",
        "         [1/2, 1/2]]\n",
        "    c = [1/2]\n",
        "    b = [1/2, 1/2]\n",
        "    \n",
        "    k1 = [T * fx(t, xvn, yvn, ak), T * fy(t, xvn, yvn, ak)]\n",
        "    #0 0 0\n",
        "    #1 1/2 1/2\n",
        "    #0 1/2 1/2\n",
        "    # kx1\n",
        "    def fk(x):\n",
        "        # x = k2\n",
        "        xn = [xvn + a[1][0] * k1[0] + a[1][1] * x[0], xvn + a[1][0] * k1[0] + a[1][1] * x[0]]\n",
        "        yn = [yvn + a[1][0] * k1[1] + a[1][1] * x[1], yvn + a[1][0] * k1[1] + a[1][1] * x[1]]\n",
        "        return [T * fx(t + c[0] * T, xn[0], yn[0], ak) - x[0],\n",
        "              T * fy(t + c[0] * T, xn[1], yn[1], ak) - x[1],]\n",
        "\n",
        "    # -a(2xvn + xvn ** 2 * yvn) - yvn\n",
        "    def jac_fk(x):        \n",
        "        xn = [xvn + a[1][0] * k1[0] + a[1][1] * x[0], xvn + a[1][0] * k1[0] + a[1][1] * x[0]]\n",
        "        yn = [yvn + a[1][0] * k1[1] + a[1][1] * x[1], yvn + a[1][0] * k1[1] + a[1][1] * x[1]]\n",
        "        return [[-ak * (2 * xn[0] * yn[0] * a[1][1] + 2 * a[1][1]) * T - 1, (-ak * xn[0] * xn[0] - 1 * a[1][1]) * T],\n",
        "                [T * 1 * a[1][1], T * 1 * a[1][1] - 1]]\n",
        "\n",
        "    sol = optimize.root(fun=fk, x0=[T * fx(t, xvn, yvn, ak), T * fy(t, xvn, yvn, ak)],\n",
        "                    jac=jac_fk, method='hybr')\n",
        "    xn2 = xvn + b[0] * k1[0] + b[1] * sol.x[0]\n",
        "    yn2 = yvn + b[0] * k1[1] + b[1] * sol.x[1]\n",
        "    return (xn2, yn2)"
      ]
    },
    {
      "cell_type": "code",
      "execution_count": 7,
      "metadata": {},
      "outputs": [],
      "source": [
        "# неявный 1\n",
        "def jac2(T, xvn, yvn, t, ak):\n",
        "  def jac_f(x):\n",
        "      return [[-ak * (x[0] * x[1] + 2) * T - 1, (-ak * x[0] * x[0] - 1) * T],\n",
        "              [T * 1, T * 1 - 1]]\n",
        "  return jac_f"
      ]
    },
    {
      "cell_type": "code",
      "execution_count": 8,
      "metadata": {},
      "outputs": [
        {
          "name": "stderr",
          "output_type": "stream",
          "text": [
            "C:\\Users\\coconut\\AppData\\Local\\Temp\\ipykernel_10332\\4077056511.py:88: UserWarning: FigureCanvasAgg is non-interactive, and thus cannot be shown\n",
            "  fig.show()\n"
          ]
        },
        {
          "data": {
            "image/png": "[encoded data removed]",
            "text/plain": [
              "<Figure size 800x800 with 1 Axes>"
            ]
          },
          "metadata": {},
          "output_type": "display_data"
        }
      ],
      "source": [
        "import math\n",
        "from statistics import mean\n",
        "import matplotlib.pyplot as plt\n",
        "import numpy as np\n",
        "from num_methods import Solver2\n",
        "from drawing import draw\n",
        "\n",
        "def f(T):\n",
        "    t_start = 0\n",
        "    t_finish = 2.5\n",
        "    a = 10\n",
        "    \n",
        "    lst =  (fx2(t), fy2(t))\n",
        "    sol = Solver2((fx, fy), [a], lst, (t_start, t_finish))\n",
        "    # array1 = do_method(explicit_method, t_start, t_finish, [lst], variables, False)\n",
        "    # array1 = do_method(implicit_method, t_start, t_finish, [lst], variables, False)\n",
        "    array1 = sol.do_method(sol.implicit1, T, jac2)\n",
        "    array2 = sol.do_method(sol.implicit1, T, jac2)\n",
        "    # array2 = sol.do_method(explicit4_method, t_start, t_finish, [lst], variables, False)\n",
        "    array3 = sol.do_method(sol.explicit5, T)\n",
        "    # array3 = do_method(explicit4_method, t_start, t_finish, [lst], variables, False)\n",
        "    # array3 = do_method(implicit_method, t_start, t_finish, [lst], variables, False)\n",
        "    arrayx1 = sol.get_x(array1)\n",
        "    arrayy1 = sol.get_y(array1)\n",
        "    arrayx2 = [i[0] for i in array2[1]]\n",
        "    arrayy2 = [i[1] for i in array2[1]]\n",
        "    arrayx3 = [i[0] for i in array3[1]]\n",
        "    arrayy3 = [i[1] for i in array3[1]]\n",
        "    # arrayx4 = [i[0] for i in array3[1]]\n",
        "    # arrayy4 = [i[1] for i in array3[1]]\n",
        "    # print(len(array1[0]), len(array2[0]), len(array3[0]))\n",
        "    max_dif = [0, 0, 0]\n",
        "    tl = array1[0]\n",
        "    for i in range(len(array1[0])):\n",
        "        real_x = fx2(tl[i])\n",
        "        real_y = fy2(tl[i])\n",
        "        max_dif[0] = max(max_dif[0], abs(arrayx1[i] - real_x))\n",
        "        max_dif[0] = max(max_dif[0], abs(arrayy1[i] - real_y))\n",
        "        max_dif[1] = max(max_dif[1], abs(arrayx2[i] - real_x))\n",
        "        max_dif[1] = max(max_dif[1], abs(arrayy2[i] - real_y))\n",
        "        max_dif[2] = max(max_dif[2], abs(arrayx3[i] - real_x))\n",
        "        max_dif[2] = max(max_dif[2], abs(arrayy3[i] - real_y))\n",
        "\n",
        "    # CHECK\n",
        "    # args = np.linspace(t_start, t_finish, 500)\n",
        "    # x_true = list([fx2(t) for t in args])\n",
        "    # print(arrayx1)\n",
        "    # print(x_true)\n",
        "    # draw([array1[0], args], [arrayx1, x_true], ['fake', 'real'])\n",
        "    # return \n",
        "\n",
        "    return max_dif\n",
        "\n",
        "t_l = list()\n",
        "diff_l1 = list()\n",
        "diff_l2 = list()\n",
        "diff_l3 = list()\n",
        "\n",
        "t = 0.001\n",
        "dif = f(t)\n",
        "crd_move_x = math.log(t)\n",
        "crd_move_y1 = math.log(dif[0])\n",
        "crd_move_y2 = math.log(dif[1])\n",
        "crd_move_y3 = math.log(dif[2])\n",
        "T = 0.01\n",
        "while t <= T:\n",
        "    # print(t, end=\" \")\n",
        "    dif = f(t)\n",
        "    # break\n",
        "    # print(t, dif[2])\n",
        "    diff_l1.append(math.log(dif[0]) - crd_move_y1)\n",
        "    diff_l2.append(math.log(dif[1]) - crd_move_y2)\n",
        "    diff_l3.append(math.log(dif[2]) - crd_move_y3)\n",
        "    t_l.append(math.log(t) - crd_move_x)\n",
        "    t += 0.001\n",
        "    # TODO:\n",
        "    # break\n",
        "\n",
        "fig = plt.figure(figsize=(8,8))\n",
        "px1 = fig.add_subplot(111)\n",
        "px1.plot(t_l, diff_l1, label=\"явный1\" + f\" {mean(diff_l1[i]/t_l[i] for i in range(1, len(t_l)))}\")\n",
        "px1.set_xticks(np.arange(0, math.ceil(math.log(T) - crd_move_x) + 1, step=1))\n",
        "px1.set_yticks(np.arange(0, math.ceil(math.log(T) - crd_move_y1) + 1, step=1))\n",
        "px1.set_xlabel(\"ln(T)\")\n",
        "px1.set_ylabel(\"ln(E(T))\")\n",
        "px1.legend()\n",
        "fig.show()\n",
        "\n",
        "    "
      ]
    }
  ],
  "metadata": {
    "accelerator": "GPU",
    "colab": {
      "gpuType": "T4",
      "provenance": []
    },
    "kernelspec": {
      "display_name": "Python 3",
      "name": "python3"
    },
    "language_info": {
      "codemirror_mode": {
        "name": "ipython",
        "version": 3
      },
      "file_extension": ".py",
      "mimetype": "text/x-python",
      "name": "python",
      "nbconvert_exporter": "python",
      "pygments_lexer": "ipython3",
      "version": "3.10.0"
    }
  },
  "nbformat": 4,
  "nbformat_minor": 0
}
