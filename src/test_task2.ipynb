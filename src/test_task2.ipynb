{
  "cells": [
    {
      "cell_type": "code",
      "execution_count": 1,
      "metadata": {
        "id": "y_jBD8icYY3l"
      },
      "outputs": [],
      "source": [
        "from math import cos, sin, exp\n",
        "\n",
        "# fx, fy - дифф, fx2, fy2 - оригинальные уравнения\n",
        "\n",
        "def fx(t, xvn, yvn, a):\n",
        "    return a*(cos(t) ** 2 * sin(t) + 2*cos(t) - (2 + xvn * yvn)*xvn) - yvn\n",
        "\n",
        "def fy(t, xvn, yvn, a):\n",
        "    return xvn + yvn - sin(t)\n",
        "\n",
        "def fx2(t):\n",
        "    return cos(t)\n",
        "\n",
        "def fy2(t):\n",
        "    return sin(t)"
      ]
    },
    {
      "cell_type": "code",
      "execution_count": 2,
      "metadata": {},
      "outputs": [],
      "source": [
        "# неявный 1\n",
        "def jac1(T, xvn, yvn, t, table, k, a):\n",
        "  def jac_f(x):\n",
        "    return [[-a * (x[0] * x[1] + 2) * T - 1, (-a * x[0] * x[0] - 1) * T],\n",
        "            [T * 1, T * 1 - 1]]\n",
        "  return jac_f"
      ]
    },
    {
      "cell_type": "code",
      "execution_count": 3,
      "metadata": {},
      "outputs": [],
      "source": [
        "def jac2(T, xvn, yvn, t, table, k, ak):\n",
        "    def jac_f(x):\n",
        "      xn = [xvn + table.a[1][0] * k[0] + table.a[1][1] * x[0], xvn + table.a[1][0] * k[0] + table.a[1][1] * x[0]]\n",
        "      yn = [yvn + table.a[1][0] * k[1] + table.a[1][1] * x[1], yvn + table.a[1][0] * k[1] + table.a[1][1] * x[1]]\n",
        "      return [[-ak * (2 * xn[0] * yn[0] * table.a[1][1] + 2 * table.a[1][1]) * T - 1,\n",
        "               (-ak * xn[0] * xn[0] - 1 * table.a[1][1]) * T],\n",
        "              [T * 1 * table.a[1][1],\n",
        "               T * 1 * table.a[1][1] - 1]]\n",
        "    return jac_f"
      ]
    },
    {
      "cell_type": "code",
      "execution_count": 4,
      "metadata": {},
      "outputs": [
        {
          "name": "stderr",
          "output_type": "stream",
          "text": [
            "/home/eva012/projectPractice/src/test_methods.py:47: RuntimeWarning: divide by zero encountered in scalar divide\n",
            "  px1.plot(TL, max_error_curr, label=methods[i].__name__ + f\" {mean([(max_error_curr[i]/TL[i]) for i in range(len(TL))])}\")\n",
            "/home/eva012/projectPractice/src/test_methods.py:55: UserWarning: FigureCanvasAgg is non-interactive, and thus cannot be shown\n",
            "  fig.show()\n"
          ]
        },
        {
          "data": {
            "image/png": "[encoded data removed]",
            "text/plain": [
              "<Figure size 800x800 with 1 Axes>"
            ]
          },
          "metadata": {},
          "output_type": "display_data"
        }
      ],
      "source": [
        "from num_methods import Solver2\n",
        "from test_methods import Test2\n",
        "\n",
        "t_start = 0\n",
        "t_finish = 4\n",
        "a = 10\n",
        "sol = Solver2((fx, fy), [jac1, jac2], [a], (fx2(0), fy2(0)), (t_start, t_finish))\n",
        "tester = Test2((fx2, fy2))\n",
        "tester.test_methods((0.009, 0.1), 0.01, sol, [sol.explicit1])\n",
        "\n",
        "# fig = plt.figure(figsize=(8,8))\n",
        "# px1 = fig.add_subplot(111)\n",
        "# px1.plot(t_l, diff_l1, label=\"явный1\" + f\" {mean(diff_l1[i]/t_l[i] for i in range(1, len(t_l)))}\")\n",
        "# px1.set_xticks(np.arange(0, math.ceil(math.log(T) - crd_move_x) + 1, step=1))\n",
        "# px1.set_yticks(np.arange(0, math.ceil(math.log(T) - crd_move_y1) + 1, step=1))\n",
        "# px1.set_xlabel(\"ln(T)\")\n",
        "# px1.set_ylabel(\"ln(E(T))\")\n",
        "# px1.legend()\n",
        "# fig.show()\n",
        "\n",
        "    "
      ]
    }
  ],
  "metadata": {
    "accelerator": "GPU",
    "colab": {
      "gpuType": "T4",
      "provenance": []
    },
    "kernelspec": {
      "display_name": "Python 3",
      "name": "python3"
    },
    "language_info": {
      "codemirror_mode": {
        "name": "ipython",
        "version": 3
      },
      "file_extension": ".py",
      "mimetype": "text/x-python",
      "name": "python",
      "nbconvert_exporter": "python",
      "pygments_lexer": "ipython3",
      "version": "3.11.2"
    }
  },
  "nbformat": 4,
  "nbformat_minor": 0
}
