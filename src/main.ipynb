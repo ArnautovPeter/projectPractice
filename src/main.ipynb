{
  "cells": [
    {
      "cell_type": "code",
      "execution_count": null,
      "metadata": {
        "id": "DP3Dj-t-YY3k"
      },
      "outputs": [],
      "source": [
        "import math\n",
        "import numpy as np\n",
        "from scipy import optimize"
      ]
    },
    {
      "cell_type": "code",
      "execution_count": null,
      "metadata": {
        "id": "HVU1xKrPYY3m"
      },
      "outputs": [],
      "source": [
        "# TODO: remove list, можно использовать предыдущее значение\n",
        "def newtonsMethod(a, c, T, y, b, x):\n",
        "    l = [x]  # list of x(y) values\n",
        "    for _ in range(100):\n",
        "        xn = l[-1]  # previous value of x\n",
        "        y_x = ((-xn+c)*T+y)/(1+b*T)  # y выраженный через х\n",
        "\n",
        "        f = -xn+(-a*(xn**3/3-xn) + a*y_x)*T+x\n",
        "        g = -1+a*T*(-T/(b*T+1)-xn**2+1)\n",
        "\n",
        "        l.append(l[-1] - f/g)\n",
        "    return l[-1]"
      ]
    },
    {
      "cell_type": "code",
      "execution_count": null,
      "metadata": {
        "id": "AZONbGh6YY3m"
      },
      "outputs": [],
      "source": [
        "\"\"\"Неявный метод Эйлера 1-го порядка\"\"\"\n",
        "def implicit_method(T, a, xvn, yvn, c, b):\n",
        "    xn2 = newtonsMethod(a, c, T, yvn, b, xvn)\n",
        "    yn2 = (T*(-xn2+c) + yvn)/(1+b*T)\n",
        "    return (xn2, yn2)"
      ]
    },
    {
      "cell_type": "markdown",
      "metadata": {},
      "source": [
        "[scipy root](https://docs.scipy.org/doc/scipy/reference/generated/scipy.optimize.root.html),\n",
        "[Jacobian](<https://math.libretexts.org/Bookshelves/Calculus/Supplemental_Modules_(Calculus)/Vector_Calculus/3%3A_Multiple_Integrals/3.8%3A_Jacobians>)\n"
      ]
    },
    {
      "cell_type": "code",
      "execution_count": null,
      "metadata": {},
      "outputs": [],
      "source": [
        "\"\"\"Неявный метод Хаммера-Холлингсворта 4-го порядка\"\"\"\n",
        "def implicit2_method(T, ak, xvn, yvn, ck, bk):\n",
        "     # Таблица Бутчера\n",
        "     a = [[1/4, 1/4 - math.sqrt(3)/6],\n",
        "          [1/4 + math.sqrt(3)/6, 1/4]]\n",
        "     c = [(1/2 - math.sqrt(3)/6), 1/2 + math.sqrt(3)/6]\n",
        "     b = [1/2, 1/2]\n",
        "\n",
        "     # x[0] = kx1, x[1] = kx2\n",
        "     def fkx(x):\n",
        "          xvn1 = xvn + T * (a[0][0] * x[0] + a[0][1] * x[1])\n",
        "          xvn2 = xvn + T * (a[1][0] * x[0] + a[1][1] * x[1])\n",
        "          # т.к. уравнения равны нулю, вычитаем kx1 и kx2\n",
        "          return [-ak * ((xvn1) ** 3 / 3 - xvn1 - (yvn + c[0] * T)) - x[0],\n",
        "                  -ak * ((xvn2) ** 3 / 3 - xvn2 - (yvn + c[1] * T))- x[1]]\n",
        "     \n",
        "     def jac_fkx(x):\n",
        "          xvn1 = xvn + T * (a[0][0] * x[0] + a[0][1] * x[1])\n",
        "          xvn2 = xvn + T * (a[1][0] * x[0] + a[1][1] * x[1])\n",
        "          # Якобиан системы, частные производные от каждого\n",
        "          # уравнения по каждой переменной\n",
        "          return np.array([[-ak * ((xvn1) ** 2 * T * a[0][0] - T * a[0][0]) - 1,\n",
        "                          -ak * ((xvn1) ** 2 * T * a[0][1] - T * a[0][1])],\n",
        "                          [-ak * ((xvn2) ** 2 * T * a[1][0] - T * a[1][0]),\n",
        "                          -ak * ((xvn2) ** 2 * T * a[1][1] - T * a[1][1]) - 1]])\n",
        "\n",
        "\n",
        "     sol = optimize.root(fun=fkx, x0=[0, 0],\n",
        "                         jac=jac_fkx, method='hybr')\n",
        "     xn = xvn + T * (b[0] * sol.x[0] + b[1] * sol.x[1])\n",
        "\n",
        "     # y[0] = ky1, y[1] = ky2\n",
        "     def fky(y):\n",
        "          yvn1 = yvn + T * (a[0][0] * y[0] + a[0][1] * y[1])\n",
        "          yvn2 = yvn + T * (a[1][0] * y[0] + a[1][1] * y[1])\n",
        "          return [-(xvn + c[0] * T) - bk * yvn1 + ck - y[0],\n",
        "                  -(xvn + c[1] * T) - bk * yvn2 + ck - y[1]]\n",
        "     \n",
        "     def jac_fky(y):\n",
        "          return np.array([[-bk * T * a[0][0] - 1, -bk * T * a[0][1]],\n",
        "                           [-bk * T * a[1][0], -bk * T * a[1][1] - 1]])\n",
        "\n",
        "     sol = optimize.root(fun=fky, x0=[0, 0],\n",
        "                         jac=jac_fky, method='hybr')\n",
        "     yn = yvn + T * (b[0] * sol.x[0] + b[1] * sol.x[1])\n",
        "\n",
        "     return (xn, yn)"
      ]
    },
    {
      "cell_type": "markdown",
      "metadata": {
        "id": "q2J23PIwYY3m"
      },
      "source": [
        "$x' = -a(\\frac{x^3}{3} - x) - ay$\\\n",
        "$y' = -x - by + c$\\\n",
        "$x(0) = 2,\\quad y(0) = 0$\\\n",
        "Здесь 1 $\\leq$ _a_ $\\leq$ 10^3, 0 < _c_ < 1.\n",
        "Провести исследование поведения решений в зависимости от значений «большого» параметра _a_.\n"
      ]
    },
    {
      "cell_type": "code",
      "execution_count": null,
      "metadata": {},
      "outputs": [],
      "source": [
        "from num_methods import Solver2\n",
        "from drawing import draw\n",
        "\n",
        "\n",
        "def fx(xvn, yvn, a, b, c):\n",
        "    return -a*((xvn**3)/3-xvn) + a*yvn\n",
        "\n",
        "def fy(xvn, yvn, a, b, c):\n",
        "    return -xvn + c - b*yvn\n",
        "\n",
        "\n",
        "sol = Solver2((fx, fy), [50, 0.5, 0.6], (2, 0), (0, 40))\n",
        "\n",
        "array1 = sol.do_method(sol.explicit1_method, 0.01)\n",
        "array2 = sol.do_method(sol.explicit4_method, 0.01)\n",
        "\n",
        "arrayx1 = [i[0] for i in array1[1]]\n",
        "arrayx2 = [i[0] for i in array2[1]]\n",
        "\n",
        "# main_array.append(arrayx3)\n",
        "# print(len(array1[0]), len(array2[0]), len(arrayx1), len(arrayx2))\n",
        "# array_dif_x3 = [[i[0] for i in array3_dif]]\n",
        "draw([array1[0], array2[0]],\n",
        "     [arrayx1, arrayx2],\n",
        "     [array1[3], array2[3]])\n",
        "# draw([[i[0] for i in array2[2]]], [arrayx2], [\"x' from x\"])"
      ]
    },
    {
      "cell_type": "markdown",
      "metadata": {},
      "source": [
        "### Сравнение с решением с помощью SciPy\n"
      ]
    },
    {
      "cell_type": "code",
      "execution_count": null,
      "metadata": {},
      "outputs": [],
      "source": [
        "from scipy.integrate import ode\n",
        "\n",
        "def f(t, y, a, b, c):\n",
        "  return [a*(y[0] + y[1] - y[0]**3/3),\n",
        "          c - y[0] - b*y[1]]\n",
        "\n",
        "def jac(t, y, a, b, c):\n",
        "  return [[a*(1 - y[0]**2),  a],\n",
        "          [             -1, -b]]\n",
        "\n",
        "y01, y02 = 2., 0.\n",
        "\n",
        "r = ode(f, jac).set_integrator('vode', method='adams', with_jacobian=True)\n",
        "r.set_initial_value((y01, y02)).set_f_params(a, b, c).set_jac_params(a, b, c)\n",
        "\n",
        "t1, dt, t, y1, y2 = 40, 0.01, [0.], [y01], [y02]\n",
        "while r.successful() and r.t < t1:\n",
        "  r.integrate(r.t + dt)\n",
        "  t.append(r.t)\n",
        "  y1.append(r.y[0])\n",
        "  y2.append(r.y[1])\n",
        "\n",
        "draw([array1[0], array2[0], t],\n",
        "     [arrayx1, arrayx2, y1],\n",
        "      [f\"явный 1-го порядка\", \"Неявный 2го\", f\"Scipy\"])"
      ]
    },
    {
      "cell_type": "markdown",
      "metadata": {},
      "source": [
        "Веселые рисунки\n"
      ]
    },
    {
      "cell_type": "code",
      "execution_count": null,
      "metadata": {},
      "outputs": [],
      "source": [
        "T = 0.01\n",
        "t_start = 0\n",
        "t_finish = 40\n",
        "a = 1\n",
        "fig1 = plt.figure(figsize=(10,18))\n",
        "px1 = fig1.add_subplot(111)\n",
        "fig2 = plt.figure(figsize=(14, 14))\n",
        "px2 = fig2.add_subplot(111)\n",
        "fig3 = plt.figure(figsize=(14, 14))\n",
        "px3 = fig3.add_subplot(111)\n",
        "while a <= 32:\n",
        "    c = 0.5\n",
        "    b = 0.60\n",
        "    # Первый элемент это x, второй y\n",
        "    variables = (T, a, b, c)\n",
        "    array0 = [(2, 0)]\n",
        "    array1 = do_method(explicit_method, t_start, t_finish, [t_start], [(2, 0)], variables)\n",
        "    array2 = do_method(implicit2_method, t_start, t_finish, [t_start], [(2, 0)], variables)\n",
        "\n",
        "    arrayx1 = [i[0] for i in array1[1]]\n",
        "    arrayx2 = [i[0] for i in array2[1]]\n",
        "\n",
        "    # main_array.append(arrayx3)\n",
        "    # print(len(array1[0]), len(array2[0]), len(arrayx1), len(arrayx2))\n",
        "    # array_dif_x3 = [[i[0] for i in array3_dif]]\n",
        "    # draw([array1[0], array2[0]],\n",
        "    #     [arrayx1, arrayx2],\n",
        "    #     [f\"явный 1-го порядка {len(array1[0])}\", f\"неявный 2го\"])\n",
        "    draw_on_plot([arrayx2], [[i[0] for i in array2[2]]], [f\"{a} value\"], px1)\n",
        "    # draw([[i[0] for i in array2[2]]], [arrayx2], [f\"{a} value\"])\n",
        "    draw_on_plot([[i[1] for i in array2[1]]], [[i[1] for i in array2[2]]], [f\"{a} value\"], px2)\n",
        "    draw_on_plot([arrayx2], [[i[1] for i in array2[1]]], [f\"a value: {a}\"], px3)\n",
        "    a *= 1.2\n",
        "px1.legend()\n",
        "px2.legend()\n",
        "px3.legend()"
      ]
    }
  ],
  "metadata": {
    "accelerator": "GPU",
    "colab": {
      "gpuType": "T4",
      "provenance": []
    },
    "kernelspec": {
      "display_name": "Python 3",
      "name": "python3"
    },
    "language_info": {
      "codemirror_mode": {
        "name": "ipython",
        "version": 3
      },
      "file_extension": ".py",
      "mimetype": "text/x-python",
      "name": "python",
      "nbconvert_exporter": "python",
      "pygments_lexer": "ipython3",
      "version": "3.10.0"
    }
  },
  "nbformat": 4,
  "nbformat_minor": 0
}
