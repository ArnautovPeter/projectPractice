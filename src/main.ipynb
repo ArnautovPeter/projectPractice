{
  "cells": [
    {
      "cell_type": "code",
      "execution_count": 30,
      "metadata": {
        "id": "DP3Dj-t-YY3k"
      },
      "outputs": [],
      "source": [
        "import matplotlib.pyplot as plt\n",
        "import math\n",
        "import numpy as np\n",
        "from scipy import optimize"
      ]
    },
    {
      "cell_type": "code",
      "execution_count": 31,
      "metadata": {
        "id": "T_w4Sd0UZUbh"
      },
      "outputs": [],
      "source": [
        "def draw(Ox, Oy: list[list], name: str, scatter: bool = False):\n",
        "    f = plt.figure(figsize=(7, 7))\n",
        "    px1 = f.add_subplot(111)\n",
        "    if not scatter:\n",
        "        for y in Oy:\n",
        "            px1.plot(Ox, y, label=name)\n",
        "    else:\n",
        "        for y in Oy:\n",
        "            px1.scatter(Ox, y, label=name)\n",
        "    px1.legend()\n",
        "    f.show()"
      ]
    },
    {
      "cell_type": "code",
      "execution_count": 32,
      "metadata": {
        "id": "y_jBD8icYY3l"
      },
      "outputs": [],
      "source": [
        "def fx(xvn, yvn, a):\n",
        "    return -a*((xvn**3)/3-xvn) + a*yvn\n",
        "\n",
        "def fy(xvn, yvn, c, b):\n",
        "    return -xvn + c - b*yvn"
      ]
    },
    {
      "cell_type": "code",
      "execution_count": 33,
      "metadata": {
        "id": "CFItnfRVYY3m"
      },
      "outputs": [],
      "source": [
        "\"\"\"Явный метод Эйлера 1-го порядка\"\"\"\n",
        "def explicit_method(T, a, xvn, yvn, c, b):\n",
        "    xn1 = T*fx(xvn, yvn, a) + xvn\n",
        "    yn1 = T*fy(xvn, yvn, c, b) + yvn\n",
        "    return (xn1, yn1)"
      ]
    },
    {
      "cell_type": "code",
      "execution_count": 34,
      "metadata": {
        "id": "sS5MTp_JYY3m"
      },
      "outputs": [],
      "source": [
        "\"\"\"Явный метод Рунге-Кутты 4-го порядка\"\"\"\n",
        "def explicit4_method(T, a, xvn, yvn, c, b):\n",
        "    kx1 = fx(xvn, yvn, a)\n",
        "    kx2 = fx(xvn + T/2*kx1, yvn + T/2, a)\n",
        "    kx3 = fx(xvn + T/2*kx2, yvn + T/2, a)\n",
        "    kx4 = fx(xvn + T*kx3, yvn + T, a)\n",
        "    xn = xvn + T/6*(kx1 + 2 * kx2 + 2 * kx3 + kx4)\n",
        "\n",
        "    ky1 = fy(xvn, yvn, c, b)\n",
        "    ky2 = fy(xvn + T/2, yvn + T/2 * ky1, c, b)\n",
        "    ky3 = fy(xvn + T/2, yvn + T/2 * ky2, c, b)\n",
        "    ky4 = fy(xvn + T/2, yvn + T * ky3, c, b)\n",
        "    yn = yvn + T/6*(ky1 + 2 * ky2 + 2 * ky3 + ky4)\n",
        "    \n",
        "    return (xn, yn)"
      ]
    },
    {
      "cell_type": "code",
      "execution_count": 35,
      "metadata": {
        "id": "ohW4PjTiYY3m"
      },
      "outputs": [],
      "source": [
        "\"\"\"Явный метод Рунге-Кутты 5-го порядка\"\"\"\n",
        "def explicit5_method(T, a, xvn, yvn, c, b):\n",
        "    kx1 = fx(xvn, yvn, a)\n",
        "    kx2 = fx(xvn + 1/4 * T * kx1,\n",
        "             yvn + 3/2 * T, a)\n",
        "    if xvn + (3/32 * kx1 + 9/32 * kx2) * T > 10:\n",
        "        print(xvn + (3/32 * kx1 + 9/32 * kx2) * T)\n",
        "    kx3 = fx(xvn + (3/32 * kx1 + 9/32 * kx2) * T,\n",
        "             yvn + 3/8 * T, a)\n",
        "    kx4 = fx(xvn + (1932/2197 * kx1 - \n",
        "             7200/2197 * kx2 + 7296/2197 * kx3) * T,\n",
        "             yvn + 12/13 * T, a)\n",
        "    kx5 = fx(xvn + (439/216 * kx1 - 8 * kx2\n",
        "                    + 3680/513 * kx3 - 845/4104 * kx4) * T,\n",
        "                    yvn + T, a)\n",
        "    kx6 = fx(xvn + (-8/27 * kx1 + 2 * kx2 - 3544/2565 * kx3\n",
        "                    + 1859/4104 * kx4 + 11/40 * kx5) * T,\n",
        "                    yvn + 1/2 * T, a)\n",
        "    xn = xvn + (16/135 * kx1 + 6656/12825 * kx3\n",
        "                + 28561/56430 * kx4 + 2/55 * kx5\n",
        "                - 9/50 * kx6) * T\n",
        "    \n",
        "    ky1 = fy(xvn, yvn, c, b)\n",
        "    ky2 = fy(xvn + 3/2 * T,\n",
        "             yvn + 1/4 * T * ky1, c, b)\n",
        "    ky3 = fy(xvn + 3/8 * T,\n",
        "             yvn + (3/32 * ky1 + 9/32 * ky2) * T, c, b)\n",
        "    ky4 = fy(xvn + 12/13 * T, yvn + (1932/2197 * ky1 - \n",
        "            7200/2197 * ky2 + 7296/2197 * ky3) * T, c, b)\n",
        "    ky5 = fy(xvn + T, yvn + (439/216 * ky1 - 8 * ky2\n",
        "             + 3680/513 * ky3 - 845/4104 * ky4) * T, c, b)\n",
        "    ky6 = fy(xvn + 1/2 * T,\n",
        "             yvn + (-8/27 * ky1 + 2 * ky2 - 3544/2565 * ky3\n",
        "             + 1859/4104 * ky4 + 11/40 * ky5) * T, c, b)\n",
        "    yn = yvn + (16/135 * ky1 + 6656/12825 * ky3\n",
        "                + 28561/56430 * ky4 + 2/55 * ky5\n",
        "                - 9/50 * ky6) * T\n",
        "\n",
        "    return (xn, yn)"
      ]
    },
    {
      "cell_type": "code",
      "execution_count": 36,
      "metadata": {},
      "outputs": [],
      "source": [
        "class Expression():\n",
        "  def __init__(self, symb, expr) -> None:\n",
        "    \n",
        "    pass"
      ]
    },
    {
      "cell_type": "code",
      "execution_count": 37,
      "metadata": {
        "id": "HVU1xKrPYY3m"
      },
      "outputs": [],
      "source": [
        "# TODO: remove list, можно использовать предыдущее значение\n",
        "def newtonsMethod(a, c, T, y, b, x):\n",
        "    l = [x]  # list of x(y) values\n",
        "    for _ in range(100):\n",
        "        xn = l[-1]  # previous value of x\n",
        "        y_x = ((-xn+c)*T+y)/(1+b*T)  # y выраженный через х\n",
        "\n",
        "        f = -xn+(-a*(xn**3/3-xn) + a*y_x)*T+x\n",
        "        g = -1+a*T*(-T/(b*T+1)-xn**2+1)\n",
        "\n",
        "        l.append(l[-1] - f/g)\n",
        "    return l[-1]"
      ]
    },
    {
      "cell_type": "code",
      "execution_count": 38,
      "metadata": {
        "id": "AZONbGh6YY3m"
      },
      "outputs": [],
      "source": [
        "\"\"\"Неявный метод Эйлера 1-го порядка\"\"\"\n",
        "def implicit_method(T, a, xvn, yvn, c, b):\n",
        "    xn2 = newtonsMethod(a, c, T, yvn, b, xvn)\n",
        "    yn2 = (T*(-xn2+c) + yvn)/(1+b*T)\n",
        "    return (xn2, yn2)"
      ]
    },
    {
      "cell_type": "markdown",
      "metadata": {},
      "source": [
        "[scipy root](https://docs.scipy.org/doc/scipy/reference/generated/scipy.optimize.root.html),\n",
        "[Jacobian](<https://math.libretexts.org/Bookshelves/Calculus/Supplemental_Modules_(Calculus)/Vector_Calculus/3%3A_Multiple_Integrals/3.8%3A_Jacobians>)\n"
      ]
    },
    {
      "cell_type": "code",
      "execution_count": 43,
      "metadata": {},
      "outputs": [],
      "source": [
        "\"\"\"Неявный метод Хаммера-Холлингсворта 2-го порядка\"\"\"\n",
        "def implicit2_method(T, ak, xvn, yvn, c, b):\n",
        "     # Таблица Бутчера\n",
        "     a = [[1/4, 1/4 - math.sqrt(3)/6],\n",
        "          [1/4 + math.sqrt(3)/6, 1/4]]\n",
        "     c = [(1/2 - math.sqrt(3)/6), 1/2 + math.sqrt(3)/6]\n",
        "     b = [1/2, 1/2]\n",
        "\n",
        "     # x[0] = kx1, x[1] = kx2\n",
        "     def fkx(x):\n",
        "          xvn1 = xvn + T * (a[0][0] * x[0] + a[0][1] * x[1])\n",
        "          xvn2 = xvn + T * (a[1][0] * x[0] + a[1][1] * x[1])\n",
        "          return [-ak * ((xvn1) ** 3 / 3 - xvn1) + ak * (yvn + c[0] * T),\n",
        "                  -ak * ((xvn2) ** 3 / 3 - xvn2) + ak * (yvn + c[0] * T)]\n",
        "     \n",
        "     def jac_fkx(x):\n",
        "          xvn1 = xvn + T * (a[0][0] * x[0] + a[0][1] * x[1])\n",
        "          xvn2 = xvn + T * (a[1][0] * x[0] + a[1][1] * x[1])\n",
        "          # Якобиан системы, частные производные от каждого\n",
        "          # уравнения по каждой переменной\n",
        "          return np.array([[-ak * ((xvn1) ** 2 * T * a[0][0] - T * a[0][0]),\n",
        "                          -ak * ((xvn1) ** 2 * T * a[0][1] - T * a[0][1])],\n",
        "                          [-ak * ((xvn2) ** 2 * T * a[1][0] - T * a[1][0]),\n",
        "                          -ak * ((xvn2) ** 2 * T * a[1][1] - T * a[1][1])]])\n",
        "\n",
        "\n",
        "     sol = optimize.root(fun=fkx, x0=[0, 0],\n",
        "                         jac=jac_fkx, method='hybr')\n",
        "     print(sol)\n",
        "     xn = xvn + T * (b[0] * sol[0] + b[1] * sol[1])\n",
        "\n",
        "     # y[0] = ky1, y[1] = ky2\n",
        "     def fky(y):\n",
        "          yvn1 = yvn + T * (a[0][0] * y[0] + a[0][1] * y[1])\n",
        "          yvn2 = yvn + T * (a[1][0] * y[0] + a[1][1] * y[1])\n",
        "          return [-(xvn + c[0] * T) + b * yvn1 + c,\n",
        "                  -(xvn + c[1] * T) - b * yvn2 + c]\n",
        "     \n",
        "     def jac_fky():\n",
        "          return np.array([[b * T * a[0][0], b * T * a[0][1]],\n",
        "                          [b * T * a[1][0], b * T * a[1][1]]])\n",
        "\n",
        "     sol = optimize.root(fun=fky, x0=[0, 0],\n",
        "                         jac=jac_fky, method='hybr')\n",
        "     yn = yvn + T * (b[0] * sol[0] + b[1] * sol[1])\n",
        "\n",
        "     return (xn, yn)"
      ]
    },
    {
      "cell_type": "code",
      "execution_count": 40,
      "metadata": {},
      "outputs": [],
      "source": [
        "# новый шаг\n",
        "def get_p(array):\n",
        "    s = sum([i ** 2 for i in array])\n",
        "    return math.sqrt(s)\n",
        "\n",
        "def new_T(last_T, T0, array, array_prev, L):\n",
        "    p = get_p(array)\n",
        "    F = [i / p for i in array]\n",
        "    # print(sum([i ** 2 for i in F]))\n",
        "    p_prev = get_p(array_prev)\n",
        "    F_prev = [i / p_prev for i in array_prev]\n",
        "    X = [(F[i] - F_prev[i]) / last_T for i in range(len(F))]\n",
        "    XX = sum([i ** 2 for i in X])\n",
        "    new_T = T0/(1 + math.sqrt(L) * XX ** (1/4))\n",
        "    # print(new_T)\n",
        "    return new_T"
      ]
    },
    {
      "cell_type": "code",
      "execution_count": 41,
      "metadata": {},
      "outputs": [],
      "source": [
        "def do_method(method, t_start, t_finish, tl, array, veriables):\n",
        "    T0, T, a, b, c = [i for i in veriables]\n",
        "    array_T = [T]\n",
        "    array_dif = [(fx(array[-1][0], array[-1][1], a),\n",
        "                    fy(array[-1][0], array[-1][1], c, b))]\n",
        "    while tl[-1] <= t_finish:\n",
        "        array.append(method(T, a, array[-1][0], array[-1][1], c, b))\n",
        "        array_dif.append((fx(array[-1][0], array[-1][1], a),\n",
        "                fy(array[-1][0], array[-1][1], c, b)))\n",
        "        T = new_T(array_T[-1], T0, array[-1], array[-2], t_finish - t_start)\n",
        "        array_T.append(T)\n",
        "        tl.append(tl[-1] + T)\n",
        "    return (tl, array, array_dif)"
      ]
    },
    {
      "cell_type": "markdown",
      "metadata": {
        "id": "q2J23PIwYY3m"
      },
      "source": [
        "$x' = -a(\\frac{x^3}{3} - x) - ay$\\\n",
        "$y' = -x - by + c$\\\n",
        "$x(0) = 2,\\quad y(0) = 0$\\\n",
        "Здесь 1 $\\leq$ _a_ $\\leq$ 10^3, 0 < _c_ < 1.\n",
        "Провести исследование поведения решений в зависимости от значений «большого» параметра _a_.\n"
      ]
    },
    {
      "cell_type": "code",
      "execution_count": 44,
      "metadata": {
        "colab": {
          "base_uri": "https://localhost:8080/",
          "height": 599
        },
        "id": "r3levVLtYY3n",
        "outputId": "6798d138-daa7-4fa8-8835-49e52dc78794"
      },
      "outputs": [
        {
          "name": "stdout",
          "output_type": "stream",
          "text": [
            " message: The solution converged.\n",
            " success: True\n",
            "  status: 1\n",
            "     fun: [-1.674e-13 -1.674e-13]\n",
            "       x: [-9.278e+02  9.278e+02]\n",
            "  method: hybr\n",
            "    nfev: 7\n",
            "    njev: 1\n",
            "    fjac: [[-3.459e-01 -9.383e-01]\n",
            "           [ 9.383e-01 -3.459e-01]]\n",
            "       r: [ 7.310e-02  3.602e-02  1.710e-02]\n",
            "     qtf: [ 9.303e-08 -4.291e-08]\n"
          ]
        },
        {
          "ename": "KeyError",
          "evalue": "0",
          "output_type": "error",
          "traceback": [
            "\u001b[1;31m---------------------------------------------------------------------------\u001b[0m",
            "\u001b[1;31mKeyError\u001b[0m                                  Traceback (most recent call last)",
            "Cell \u001b[1;32mIn[44], line 12\u001b[0m\n\u001b[0;32m     10\u001b[0m array0 \u001b[38;5;241m=\u001b[39m [(\u001b[38;5;241m2\u001b[39m, \u001b[38;5;241m0\u001b[39m)]\n\u001b[0;32m     11\u001b[0m array1 \u001b[38;5;241m=\u001b[39m do_method(explicit_method, t_start, t_finish, [t_start], [(\u001b[38;5;241m2\u001b[39m, \u001b[38;5;241m0\u001b[39m)], veriables)\n\u001b[1;32m---> 12\u001b[0m array2 \u001b[38;5;241m=\u001b[39m \u001b[43mdo_method\u001b[49m\u001b[43m(\u001b[49m\u001b[43mimplicit2_method\u001b[49m\u001b[43m,\u001b[49m\u001b[43m \u001b[49m\u001b[43mt_start\u001b[49m\u001b[43m,\u001b[49m\u001b[43m \u001b[49m\u001b[43mt_finish\u001b[49m\u001b[43m,\u001b[49m\u001b[43m \u001b[49m\u001b[43m[\u001b[49m\u001b[43mt_start\u001b[49m\u001b[43m]\u001b[49m\u001b[43m,\u001b[49m\u001b[43m \u001b[49m\u001b[43m[\u001b[49m\u001b[43m(\u001b[49m\u001b[38;5;241;43m2\u001b[39;49m\u001b[43m,\u001b[49m\u001b[43m \u001b[49m\u001b[38;5;241;43m0\u001b[39;49m\u001b[43m)\u001b[49m\u001b[43m]\u001b[49m\u001b[43m,\u001b[49m\u001b[43m \u001b[49m\u001b[43mveriables\u001b[49m\u001b[43m)\u001b[49m\n\u001b[0;32m     13\u001b[0m arrayx1 \u001b[38;5;241m=\u001b[39m [i[\u001b[38;5;241m0\u001b[39m] \u001b[38;5;28;01mfor\u001b[39;00m i \u001b[38;5;129;01min\u001b[39;00m array1[\u001b[38;5;241m1\u001b[39m]]\n\u001b[0;32m     14\u001b[0m arrayx2 \u001b[38;5;241m=\u001b[39m [i[\u001b[38;5;241m0\u001b[39m] \u001b[38;5;28;01mfor\u001b[39;00m i \u001b[38;5;129;01min\u001b[39;00m array2[\u001b[38;5;241m1\u001b[39m]]\n",
            "Cell \u001b[1;32mIn[41], line 7\u001b[0m, in \u001b[0;36mdo_method\u001b[1;34m(method, t_start, t_finish, tl, array, veriables)\u001b[0m\n\u001b[0;32m      4\u001b[0m array_dif \u001b[38;5;241m=\u001b[39m [(fx(array[\u001b[38;5;241m-\u001b[39m\u001b[38;5;241m1\u001b[39m][\u001b[38;5;241m0\u001b[39m], array[\u001b[38;5;241m-\u001b[39m\u001b[38;5;241m1\u001b[39m][\u001b[38;5;241m1\u001b[39m], a),\n\u001b[0;32m      5\u001b[0m                 fy(array[\u001b[38;5;241m-\u001b[39m\u001b[38;5;241m1\u001b[39m][\u001b[38;5;241m0\u001b[39m], array[\u001b[38;5;241m-\u001b[39m\u001b[38;5;241m1\u001b[39m][\u001b[38;5;241m1\u001b[39m], c, b))]\n\u001b[0;32m      6\u001b[0m \u001b[38;5;28;01mwhile\u001b[39;00m tl[\u001b[38;5;241m-\u001b[39m\u001b[38;5;241m1\u001b[39m] \u001b[38;5;241m<\u001b[39m\u001b[38;5;241m=\u001b[39m t_finish:\n\u001b[1;32m----> 7\u001b[0m     array\u001b[38;5;241m.\u001b[39mappend(\u001b[43mmethod\u001b[49m\u001b[43m(\u001b[49m\u001b[43mT\u001b[49m\u001b[43m,\u001b[49m\u001b[43m \u001b[49m\u001b[43ma\u001b[49m\u001b[43m,\u001b[49m\u001b[43m \u001b[49m\u001b[43marray\u001b[49m\u001b[43m[\u001b[49m\u001b[38;5;241;43m-\u001b[39;49m\u001b[38;5;241;43m1\u001b[39;49m\u001b[43m]\u001b[49m\u001b[43m[\u001b[49m\u001b[38;5;241;43m0\u001b[39;49m\u001b[43m]\u001b[49m\u001b[43m,\u001b[49m\u001b[43m \u001b[49m\u001b[43marray\u001b[49m\u001b[43m[\u001b[49m\u001b[38;5;241;43m-\u001b[39;49m\u001b[38;5;241;43m1\u001b[39;49m\u001b[43m]\u001b[49m\u001b[43m[\u001b[49m\u001b[38;5;241;43m1\u001b[39;49m\u001b[43m]\u001b[49m\u001b[43m,\u001b[49m\u001b[43m \u001b[49m\u001b[43mc\u001b[49m\u001b[43m,\u001b[49m\u001b[43m \u001b[49m\u001b[43mb\u001b[49m\u001b[43m)\u001b[49m)\n\u001b[0;32m      8\u001b[0m     array_dif\u001b[38;5;241m.\u001b[39mappend((fx(array[\u001b[38;5;241m-\u001b[39m\u001b[38;5;241m1\u001b[39m][\u001b[38;5;241m0\u001b[39m], array[\u001b[38;5;241m-\u001b[39m\u001b[38;5;241m1\u001b[39m][\u001b[38;5;241m1\u001b[39m], a),\n\u001b[0;32m      9\u001b[0m             fy(array[\u001b[38;5;241m-\u001b[39m\u001b[38;5;241m1\u001b[39m][\u001b[38;5;241m0\u001b[39m], array[\u001b[38;5;241m-\u001b[39m\u001b[38;5;241m1\u001b[39m][\u001b[38;5;241m1\u001b[39m], c, b)))\n\u001b[0;32m     10\u001b[0m     T \u001b[38;5;241m=\u001b[39m new_T(array_T[\u001b[38;5;241m-\u001b[39m\u001b[38;5;241m1\u001b[39m], T0, array[\u001b[38;5;241m-\u001b[39m\u001b[38;5;241m1\u001b[39m], array[\u001b[38;5;241m-\u001b[39m\u001b[38;5;241m2\u001b[39m], t_finish \u001b[38;5;241m-\u001b[39m t_start)\n",
            "Cell \u001b[1;32mIn[43], line 30\u001b[0m, in \u001b[0;36mimplicit2_method\u001b[1;34m(T, ak, xvn, yvn, c, b)\u001b[0m\n\u001b[0;32m     27\u001b[0m sol \u001b[38;5;241m=\u001b[39m optimize\u001b[38;5;241m.\u001b[39mroot(fun\u001b[38;5;241m=\u001b[39mfkx, x0\u001b[38;5;241m=\u001b[39m[\u001b[38;5;241m0\u001b[39m, \u001b[38;5;241m0\u001b[39m],\n\u001b[0;32m     28\u001b[0m                     jac\u001b[38;5;241m=\u001b[39mjac_fkx, method\u001b[38;5;241m=\u001b[39m\u001b[38;5;124m'\u001b[39m\u001b[38;5;124mhybr\u001b[39m\u001b[38;5;124m'\u001b[39m)\n\u001b[0;32m     29\u001b[0m \u001b[38;5;28mprint\u001b[39m(sol)\n\u001b[1;32m---> 30\u001b[0m xn \u001b[38;5;241m=\u001b[39m xvn \u001b[38;5;241m+\u001b[39m T \u001b[38;5;241m*\u001b[39m (b[\u001b[38;5;241m0\u001b[39m] \u001b[38;5;241m*\u001b[39m \u001b[43msol\u001b[49m\u001b[43m[\u001b[49m\u001b[38;5;241;43m0\u001b[39;49m\u001b[43m]\u001b[49m \u001b[38;5;241m+\u001b[39m b[\u001b[38;5;241m1\u001b[39m] \u001b[38;5;241m*\u001b[39m sol[\u001b[38;5;241m1\u001b[39m])\n\u001b[0;32m     32\u001b[0m \u001b[38;5;66;03m# y[0] = ky1, y[1] = ky2\u001b[39;00m\n\u001b[0;32m     33\u001b[0m \u001b[38;5;28;01mdef\u001b[39;00m \u001b[38;5;21mfky\u001b[39m(y):\n",
            "\u001b[1;31mKeyError\u001b[0m: 0"
          ]
        }
      ],
      "source": [
        "T0 = 0.01\n",
        "T = 0.001\n",
        "t_start = 0\n",
        "t_finish = 40\n",
        "a = 50\n",
        "c = 0.5\n",
        "b = 0.60\n",
        "# Первый элемент это x, второй y\n",
        "veriables = (T0, T, a, b, c)\n",
        "array0 = [(2, 0)]\n",
        "array1 = do_method(explicit_method, t_start, t_finish, [t_start], [(2, 0)], veriables)\n",
        "array2 = do_method(implicit2_method, t_start, t_finish, [t_start], [(2, 0)], veriables)\n",
        "arrayx1 = [i[0] for i in array1[1]]\n",
        "arrayx2 = [i[0] for i in array2[1]]\n",
        "# arrayx2 = [i[0] for i in array2]\n",
        "# arrayx3 = [i[0] for i in array3]\n",
        "# arrayx4 = [i[0] for i in array4]\n",
        "\n",
        "# main_array.append(arrayx3)\n",
        "print(len(array1[0]), len(array2[0]), len(arrayx1), len(arrayx2))\n",
        "# array_dif_x3 = [[i[0] for i in array3_dif]]\n",
        "draw(array1[0], [arrayx1], f\"явный 1-го порядка {len(array1[0])}\")\n",
        "draw(array2[0], [arrayx2], f\"явный 1-го порядка {len(array1[0])}\")\n",
        "# draw(px1, tl, arrayx2, \"неявный 1-го порядка\")\n",
        "# draw(tl, [arrayx3], f\"{a}, {c} рунге-кутты\")\n",
        "# draw(tl, array_dif_x3, f\"{a} x' from t\")\n",
        "# draw(arrayx3, array_dif_x3, \"x' from x\")"
      ]
    },
    {
      "cell_type": "markdown",
      "metadata": {},
      "source": [
        "Веселые рисунки\n"
      ]
    },
    {
      "cell_type": "code",
      "execution_count": null,
      "metadata": {},
      "outputs": [],
      "source": [
        "T0 = 0.01\n",
        "T = 0.001\n",
        "t_start = 0\n",
        "t_finish = 100\n",
        "a = 1\n",
        "while a <= 1: \n",
        "    # a = 100\n",
        "    # c = 0.59465\n",
        "    c = 0.6\n",
        "    b = 0.5\n",
        "    # Первый элемент это x, второй y\n",
        "    veriables = (T0, T, a, b, c)\n",
        "    array0 = [(2, 0)]\n",
        "    # array1 = do_method(explicit_method, t_start, t_finish, [t_start], [(2, 0)], veriables)\n",
        "    array2 = do_method(implicit_method, t_start, t_finish, [t_start], [(2, 0)], veriables)\n",
        "    arrayx2 = [i[0] for i in array2[1]]\n",
        "    arrayy2 = [i[1] for i in array2[1]]\n",
        "    arrayx2 = [i[0] for i in array2[1]]\n",
        "    # arrayx2 = [i[0] for i in array2]\n",
        "    # arrayx3 = [i[0] for i in array3]\n",
        "    # arrayx4 = [i[0] for i in array4]\n",
        "\n",
        "    # main_array.append(arrayx3)\n",
        "    # print(len(array1[0]), len(array2[0]), len(arrayx1), len(arrayx2))\n",
        "    # print(len(array2[1]))\n",
        "    # array_dif_x3 = [[i[0] for i in array3_dif]]\n",
        "    # draw(array1[0], [arrayx1], f\"явный 1-го порядка {len(array1[0])}\")\n",
        "    draw(array2[0], [arrayx2], f\"явный 1-го порядка {a}\")\n",
        "    # draw(arrayx2, [[i[0] for i in array2[2]]], \"wow\")\n",
        "    draw(arrayx2, [arrayy2], \"name\")\n",
        "    draw(arrayx2, [[i[0] for i in array2[2]]], name=\"x' from x\")\n",
        "    fig = plt.figure()\n",
        "    # x = np.reshape(arrayx1, (len(), 12))\n",
        "    # y = np.reshape(arrayy1, (9, 12))\n",
        "    # z = np.reshape(array1[0], (9, 12))\n",
        "    ax = fig.add_subplot(111, projection='3d')\n",
        "    # ax.plot_surface(x, y, z)\n",
        "    ax.plot(arrayx2, arrayy2, array2[0])\n",
        "    # ax.set_xlabel('x')\n",
        "    # ax.set_ylabel('y')\n",
        "    # ax.set_zlabel('z')\n",
        "    # draw(px1, tl, arrayx2, \"неявный 1-го порядка\")\n",
        "    # draw(tl, [arrayx3], f\"{a}, {c} рунге-кутты\")\n",
        "    # draw(tl, array_dif_x3, f\"{a} x' from t\")\n",
        "    # draw(arrayx3, array_dif_x3, \"x' from x\")\n",
        "\n",
        "    a *= 2"
      ]
    }
  ],
  "metadata": {
    "accelerator": "GPU",
    "colab": {
      "gpuType": "T4",
      "provenance": []
    },
    "kernelspec": {
      "display_name": "Python 3",
      "name": "python3"
    },
    "language_info": {
      "codemirror_mode": {
        "name": "ipython",
        "version": 3
      },
      "file_extension": ".py",
      "mimetype": "text/x-python",
      "name": "python",
      "nbconvert_exporter": "python",
      "pygments_lexer": "ipython3",
      "version": "3.10.0"
    }
  },
  "nbformat": 4,
  "nbformat_minor": 0
}
