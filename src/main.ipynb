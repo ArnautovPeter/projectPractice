{
  "cells": [
    {
      "cell_type": "code",
      "execution_count": 25,
      "metadata": {
        "id": "DP3Dj-t-YY3k"
      },
      "outputs": [],
      "source": [
        "import matplotlib.pyplot as plt\n",
        "import numpy as np\n",
        "import math"
      ]
    },
    {
      "cell_type": "code",
      "execution_count": 26,
      "metadata": {
        "id": "T_w4Sd0UZUbh"
      },
      "outputs": [],
      "source": [
        "def draw(Ox, Oy: list[list], name: str, scatter: bool = False):\n",
        "    f = plt.figure(figsize=(7, 7))\n",
        "    px1 = f.add_subplot(111)\n",
        "    if not scatter:\n",
        "        for y in Oy:\n",
        "            px1.plot(Ox, y, label=name)\n",
        "    else:\n",
        "        for y in Oy:\n",
        "            px1.scatter(Ox, y, label=name)\n",
        "    px1.legend()\n",
        "    f.show()"
      ]
    },
    {
      "cell_type": "code",
      "execution_count": 56,
      "metadata": {
        "id": "y_jBD8icYY3l"
      },
      "outputs": [],
      "source": [
        "def fx(xvn, yvn, a):\n",
        "    print(xvn, yvn)\n",
        "    return -a*((xvn**3)/3-xvn)+a*yvn\n",
        "\n",
        "def fy(xvn, yvn, c, b):\n",
        "    return -xvn + c - b*yvn"
      ]
    },
    {
      "cell_type": "code",
      "execution_count": 28,
      "metadata": {
        "id": "HVU1xKrPYY3m"
      },
      "outputs": [],
      "source": [
        "def newtonsMethod(a, c, T, y, b, x):\n",
        "    l = [x]\n",
        "    for i in range(100):\n",
        "        xn = l[-1]\n",
        "        f = -xn+(-a*(xn**3/3-xn)+a*((-xn+c)*T+y)/(1+b*T))*T+x\n",
        "        g = -1+a*T*(-T/(b*T+1)-xn**2+1)\n",
        "        l.append(l[-1] - f/g)\n",
        "    return l[-1]"
      ]
    },
    {
      "cell_type": "code",
      "execution_count": 29,
      "metadata": {
        "id": "CFItnfRVYY3m"
      },
      "outputs": [],
      "source": [
        "def explicit_method(T, a, xvn, yvn, c, b):\n",
        "    xn1 = T*fx(xvn, yvn, a) + xvn\n",
        "    yn1 = T*fy(xvn, yvn, c, b) + yvn\n",
        "    return (xn1, yn1)"
      ]
    },
    {
      "cell_type": "code",
      "execution_count": 30,
      "metadata": {
        "id": "AZONbGh6YY3m"
      },
      "outputs": [],
      "source": [
        "def implicit_method(T, a, xvn, yvn, c, b):\n",
        "    xn2 = newtonsMethod(a, c, T, yvn, b, xvn)\n",
        "    yn2 = (T*(-xn2+c) + yvn)/(1+b*T)\n",
        "    return (xn2, yn2)"
      ]
    },
    {
      "cell_type": "code",
      "execution_count": 31,
      "metadata": {
        "id": "sS5MTp_JYY3m"
      },
      "outputs": [],
      "source": [
        "def explicit4_method(T, a, xvn, yvn, c, b):\n",
        "    kx1 = fx(xvn, yvn, a)\n",
        "    kx2 = fx(xvn + T/2*kx1, yvn + T/2, a)\n",
        "    kx3 = fx(xvn + T/2*kx2, yvn + T/2, a)\n",
        "    kx4 = fx(xvn + T*kx3, yvn + T, a)\n",
        "    xn = xvn + T/6*(kx1 + 2 * kx2 + 2 * kx3 + kx4)\n",
        "\n",
        "    ky1 = fy(xvn, yvn, c, b)\n",
        "    ky2 = fy(xvn + T/2, yvn + T/2 * ky1, c, b)\n",
        "    ky3 = fy(xvn + T/2, yvn + T/2 * ky2, c, b)\n",
        "    ky4 = fy(xvn + T/2, yvn + T * ky3, c, b)\n",
        "    yn = yvn + T/6*(ky1 + 2 * ky2 + 2 * ky3 + ky4)\n",
        "    \n",
        "    return (xn, yn)"
      ]
    },
    {
      "cell_type": "code",
      "execution_count": 57,
      "metadata": {
        "id": "ohW4PjTiYY3m"
      },
      "outputs": [],
      "source": [
        "def explicit5_method(T, a, xvn, yvn, c, b):\n",
        "    kx1 = fx(xvn, yvn, a)\n",
        "    kx2 = fx(xvn + 1/4 * T * kx1,\n",
        "             yvn + 3/2 * T, a)\n",
        "    if xvn + (3/32 * kx1 + 9/32 * kx2) * T > 10:\n",
        "        print(xvn + (3/32 * kx1 + 9/32 * kx2) * T)\n",
        "    kx3 = fx(xvn + (3/32 * kx1 + 9/32 * kx2) * T,\n",
        "             yvn + 3/8 * T, a)\n",
        "    kx4 = fx(xvn + (1932/2197 * kx1 - \n",
        "             7200/2197 * kx2 + 7296/2197 * kx3) * T,\n",
        "             yvn + 12/13 * T, a)\n",
        "    kx5 = fx(xvn + (439/216 * kx1 - 8 * kx2\n",
        "                    + 3680/513 * kx3 - 845/4104 * kx4) * T,\n",
        "                    yvn + T, a)\n",
        "    kx6 = fx(xvn + (-8/27 * kx1 + 2 * kx2 - 3544/2565 * kx3\n",
        "                    + 1859/4104 * kx4 + 11/40 * kx5) * T,\n",
        "                    yvn + 1/2 * T, a)\n",
        "    xn = xvn + (16/135 * kx1 + 6656/12825 * kx3\n",
        "                + 28561/56430 * kx4 + 2/55 * kx5\n",
        "                - 9/50 * kx6) * T\n",
        "    \n",
        "    ky1 = fy(xvn, yvn, c, b)\n",
        "    ky2 = fy(xvn + 3/2 * T,\n",
        "             yvn + 1/4 * T * ky1, c, b)\n",
        "    ky3 = fy(xvn + 3/8 * T,\n",
        "             yvn + (3/32 * ky1 + 9/32 * ky2) * T, c, b)\n",
        "    ky4 = fy(xvn + 12/13 * T, yvn + (1932/2197 * ky1 - \n",
        "            7200/2197 * ky2 + 7296/2197 * ky3) * T, c, b)\n",
        "    ky5 = fy(xvn + T, yvn + (439/216 * ky1 - 8 * ky2\n",
        "             + 3680/513 * ky3 - 845/4104 * ky4) * T, c, b)\n",
        "    ky6 = fy(xvn + 1/2 * T,\n",
        "             yvn + (-8/27 * ky1 + 2 * ky2 - 3544/2565 * ky3\n",
        "             + 1859/4104 * ky4 + 11/40 * ky5) * T, c, b)\n",
        "    yn = yvn + (16/135 * ky1 + 6656/12825 * ky3\n",
        "                + 28561/56430 * ky4 + 2/55 * ky5\n",
        "                - 9/50 * ky6) * T\n",
        "\n",
        "    return (xn, yn)"
      ]
    },
    {
      "cell_type": "markdown",
      "metadata": {
        "id": "q2J23PIwYY3m"
      },
      "source": [
        "$x' = -a(\\frac{x^3}{3} - x) - ay$\\\n",
        "$y' = -x - by + c$\\\n",
        "$x(0) = 2,\\quad y(0) = 0$\\\n",
        "Здесь 1 $\\leq$ _a_ $\\leq$ 10^3, 0 < _c_ < 1.\n",
        "Провести исследование поведения решений в зависимости от значений «большого» параметра _a_.\n"
      ]
    },
    {
      "cell_type": "code",
      "execution_count": 58,
      "metadata": {
        "colab": {
          "base_uri": "https://localhost:8080/",
          "height": 599
        },
        "id": "r3levVLtYY3n",
        "outputId": "6798d138-daa7-4fa8-8835-49e52dc78794"
      },
      "outputs": [
        {
          "name": "stdout",
          "output_type": "stream",
          "text": [
            "2 0\n",
            "2 0\n",
            "1.6666666666666667 0.005\n",
            "2.064228395061728 0.005\n",
            "1.1373092545017447 0.01\n",
            "2 0\n",
            "1.8333333333333333 0.015\n",
            "1.8796527777777778 0.00375\n",
            "0.9910356901624908 0.009230769230769232\n",
            "-0.21777769625607268 0.01\n",
            "2.4924212464493776 0.005\n",
            "1.753635887116976 -0.01897135746081008\n",
            "1.753635887116976 -0.01897135746081008\n",
            "1.722159957903912 -0.013971357460810078\n",
            "1.7564564970012697 -0.013971357460810078\n",
            "1.6898166304231022 -0.008971357460810079\n",
            "2.563672723963684 -0.018991223427620687\n",
            "1.7957157377970083 -0.0039912234276206875\n",
            "2.2367561229528325 -0.015241223427620687\n",
            "-4.694232984896371 -0.009760454196851455\n",
            "-19.52567516479651 -0.008991223427620687\n",
            "695.782644824306 -0.013991223427620686\n",
            "1.7358233325132513 -0.03534818689794224\n",
            "1.7358233325132513 -0.03534818689794224\n",
            "1.714364379946068 -0.030348186897942237\n",
            "1.7380656876023224 -0.030348186897942237\n",
            "1.6933826495231454 -0.025348186897942236\n",
            "20210246.59100571 -0.04345783860617933\n",
            "-6.879131183842194e+20 -0.028457838606179328\n",
            "3.0519123084811205e+61\n",
            "3.0519123084811205e+61 -0.039707838606179324\n",
            "-3.146658887538196e+184 -0.0342270693754101\n"
          ]
        },
        {
          "ename": "OverflowError",
          "evalue": "(34, 'Numerical result out of range')",
          "output_type": "error",
          "traceback": [
            "\u001b[0;31m---------------------------------------------------------------------------\u001b[0m",
            "\u001b[0;31mOverflowError\u001b[0m                             Traceback (most recent call last)",
            "Cell \u001b[0;32mIn[58], line 39\u001b[0m\n\u001b[1;32m     32\u001b[0m \u001b[38;5;28;01mfor\u001b[39;00m _ \u001b[38;5;129;01min\u001b[39;00m \u001b[38;5;28miter\u001b[39m:\n\u001b[1;32m     33\u001b[0m     \u001b[38;5;66;03m#явный метод 1-го порядка\u001b[39;00m\n\u001b[1;32m     34\u001b[0m     \u001b[38;5;66;03m# array1.append(explicit_method(T, a, array1[-1][0], array1[-1][1], c, b))\u001b[39;00m\n\u001b[1;32m     35\u001b[0m     \u001b[38;5;66;03m#неявный метод 1-го порядка\u001b[39;00m\n\u001b[1;32m     36\u001b[0m     \u001b[38;5;66;03m# array2.append(implicit_method(T, a, array2[-1][0], array2[-1][1], c, b))\u001b[39;00m\n\u001b[1;32m     37\u001b[0m     \u001b[38;5;66;03m#метод рунге-кутты 4-го порядка\u001b[39;00m\n\u001b[1;32m     38\u001b[0m     array3\u001b[38;5;241m.\u001b[39mappend(explicit4_method(T, a, array3[\u001b[38;5;241m-\u001b[39m\u001b[38;5;241m1\u001b[39m][\u001b[38;5;241m0\u001b[39m], array3[\u001b[38;5;241m-\u001b[39m\u001b[38;5;241m1\u001b[39m][\u001b[38;5;241m1\u001b[39m], c, b))\n\u001b[0;32m---> 39\u001b[0m     array4\u001b[38;5;241m.\u001b[39mappend(\u001b[43mexplicit5_method\u001b[49m\u001b[43m(\u001b[49m\u001b[43mT\u001b[49m\u001b[43m,\u001b[49m\u001b[43m \u001b[49m\u001b[43ma\u001b[49m\u001b[43m,\u001b[49m\u001b[43m \u001b[49m\u001b[43marray4\u001b[49m\u001b[43m[\u001b[49m\u001b[38;5;241;43m-\u001b[39;49m\u001b[38;5;241;43m1\u001b[39;49m\u001b[43m]\u001b[49m\u001b[43m[\u001b[49m\u001b[38;5;241;43m0\u001b[39;49m\u001b[43m]\u001b[49m\u001b[43m,\u001b[49m\u001b[43m \u001b[49m\u001b[43marray4\u001b[49m\u001b[43m[\u001b[49m\u001b[38;5;241;43m-\u001b[39;49m\u001b[38;5;241;43m1\u001b[39;49m\u001b[43m]\u001b[49m\u001b[43m[\u001b[49m\u001b[38;5;241;43m1\u001b[39;49m\u001b[43m]\u001b[49m\u001b[43m,\u001b[49m\u001b[43m \u001b[49m\u001b[43mc\u001b[49m\u001b[43m,\u001b[49m\u001b[43m \u001b[49m\u001b[43mb\u001b[49m\u001b[43m)\u001b[49m)\n\u001b[1;32m     41\u001b[0m     array3_dif\u001b[38;5;241m.\u001b[39mappend((fx(array3[\u001b[38;5;241m-\u001b[39m\u001b[38;5;241m1\u001b[39m][\u001b[38;5;241m0\u001b[39m], array3[\u001b[38;5;241m-\u001b[39m\u001b[38;5;241m1\u001b[39m][\u001b[38;5;241m1\u001b[39m], a),\n\u001b[1;32m     42\u001b[0m                     fy(array3[\u001b[38;5;241m-\u001b[39m\u001b[38;5;241m1\u001b[39m][\u001b[38;5;241m0\u001b[39m], array3[\u001b[38;5;241m-\u001b[39m\u001b[38;5;241m1\u001b[39m][\u001b[38;5;241m1\u001b[39m], c, b)))\n\u001b[1;32m     44\u001b[0m \u001b[38;5;66;03m# arrayx1 = [i[0] for i in array1]\u001b[39;00m\n\u001b[1;32m     45\u001b[0m \u001b[38;5;66;03m# arrayx2 = [i[0] for i in array2]\u001b[39;00m\n",
            "Cell \u001b[0;32mIn[57], line 9\u001b[0m, in \u001b[0;36mexplicit5_method\u001b[0;34m(T, a, xvn, yvn, c, b)\u001b[0m\n\u001b[1;32m      6\u001b[0m     \u001b[38;5;28mprint\u001b[39m(xvn \u001b[38;5;241m+\u001b[39m (\u001b[38;5;241m3\u001b[39m\u001b[38;5;241m/\u001b[39m\u001b[38;5;241m32\u001b[39m \u001b[38;5;241m*\u001b[39m kx1 \u001b[38;5;241m+\u001b[39m \u001b[38;5;241m9\u001b[39m\u001b[38;5;241m/\u001b[39m\u001b[38;5;241m32\u001b[39m \u001b[38;5;241m*\u001b[39m kx2) \u001b[38;5;241m*\u001b[39m T)\n\u001b[1;32m      7\u001b[0m kx3 \u001b[38;5;241m=\u001b[39m fx(xvn \u001b[38;5;241m+\u001b[39m (\u001b[38;5;241m3\u001b[39m\u001b[38;5;241m/\u001b[39m\u001b[38;5;241m32\u001b[39m \u001b[38;5;241m*\u001b[39m kx1 \u001b[38;5;241m+\u001b[39m \u001b[38;5;241m9\u001b[39m\u001b[38;5;241m/\u001b[39m\u001b[38;5;241m32\u001b[39m \u001b[38;5;241m*\u001b[39m kx2) \u001b[38;5;241m*\u001b[39m T,\n\u001b[1;32m      8\u001b[0m          yvn \u001b[38;5;241m+\u001b[39m \u001b[38;5;241m3\u001b[39m\u001b[38;5;241m/\u001b[39m\u001b[38;5;241m8\u001b[39m \u001b[38;5;241m*\u001b[39m T, a)\n\u001b[0;32m----> 9\u001b[0m kx4 \u001b[38;5;241m=\u001b[39m \u001b[43mfx\u001b[49m\u001b[43m(\u001b[49m\u001b[43mxvn\u001b[49m\u001b[43m \u001b[49m\u001b[38;5;241;43m+\u001b[39;49m\u001b[43m \u001b[49m\u001b[43m(\u001b[49m\u001b[38;5;241;43m1932\u001b[39;49m\u001b[38;5;241;43m/\u001b[39;49m\u001b[38;5;241;43m2197\u001b[39;49m\u001b[43m \u001b[49m\u001b[38;5;241;43m*\u001b[39;49m\u001b[43m \u001b[49m\u001b[43mkx1\u001b[49m\u001b[43m \u001b[49m\u001b[38;5;241;43m-\u001b[39;49m\u001b[43m \u001b[49m\n\u001b[1;32m     10\u001b[0m \u001b[43m         \u001b[49m\u001b[38;5;241;43m7200\u001b[39;49m\u001b[38;5;241;43m/\u001b[39;49m\u001b[38;5;241;43m2197\u001b[39;49m\u001b[43m \u001b[49m\u001b[38;5;241;43m*\u001b[39;49m\u001b[43m \u001b[49m\u001b[43mkx2\u001b[49m\u001b[43m \u001b[49m\u001b[38;5;241;43m+\u001b[39;49m\u001b[43m \u001b[49m\u001b[38;5;241;43m7296\u001b[39;49m\u001b[38;5;241;43m/\u001b[39;49m\u001b[38;5;241;43m2197\u001b[39;49m\u001b[43m \u001b[49m\u001b[38;5;241;43m*\u001b[39;49m\u001b[43m \u001b[49m\u001b[43mkx3\u001b[49m\u001b[43m)\u001b[49m\u001b[43m \u001b[49m\u001b[38;5;241;43m*\u001b[39;49m\u001b[43m \u001b[49m\u001b[43mT\u001b[49m\u001b[43m,\u001b[49m\n\u001b[1;32m     11\u001b[0m \u001b[43m         \u001b[49m\u001b[43myvn\u001b[49m\u001b[43m \u001b[49m\u001b[38;5;241;43m+\u001b[39;49m\u001b[43m \u001b[49m\u001b[38;5;241;43m12\u001b[39;49m\u001b[38;5;241;43m/\u001b[39;49m\u001b[38;5;241;43m13\u001b[39;49m\u001b[43m \u001b[49m\u001b[38;5;241;43m*\u001b[39;49m\u001b[43m \u001b[49m\u001b[43mT\u001b[49m\u001b[43m,\u001b[49m\u001b[43m \u001b[49m\u001b[43ma\u001b[49m\u001b[43m)\u001b[49m\n\u001b[1;32m     12\u001b[0m kx5 \u001b[38;5;241m=\u001b[39m fx(xvn \u001b[38;5;241m+\u001b[39m (\u001b[38;5;241m439\u001b[39m\u001b[38;5;241m/\u001b[39m\u001b[38;5;241m216\u001b[39m \u001b[38;5;241m*\u001b[39m kx1 \u001b[38;5;241m-\u001b[39m \u001b[38;5;241m8\u001b[39m \u001b[38;5;241m*\u001b[39m kx2\n\u001b[1;32m     13\u001b[0m                 \u001b[38;5;241m+\u001b[39m \u001b[38;5;241m3680\u001b[39m\u001b[38;5;241m/\u001b[39m\u001b[38;5;241m513\u001b[39m \u001b[38;5;241m*\u001b[39m kx3 \u001b[38;5;241m-\u001b[39m \u001b[38;5;241m845\u001b[39m\u001b[38;5;241m/\u001b[39m\u001b[38;5;241m4104\u001b[39m \u001b[38;5;241m*\u001b[39m kx4) \u001b[38;5;241m*\u001b[39m T,\n\u001b[1;32m     14\u001b[0m                 yvn \u001b[38;5;241m+\u001b[39m T, a)\n\u001b[1;32m     15\u001b[0m kx6 \u001b[38;5;241m=\u001b[39m fx(xvn \u001b[38;5;241m+\u001b[39m (\u001b[38;5;241m-\u001b[39m\u001b[38;5;241m8\u001b[39m\u001b[38;5;241m/\u001b[39m\u001b[38;5;241m27\u001b[39m \u001b[38;5;241m*\u001b[39m kx1 \u001b[38;5;241m+\u001b[39m \u001b[38;5;241m2\u001b[39m \u001b[38;5;241m*\u001b[39m kx2 \u001b[38;5;241m-\u001b[39m \u001b[38;5;241m3544\u001b[39m\u001b[38;5;241m/\u001b[39m\u001b[38;5;241m2565\u001b[39m \u001b[38;5;241m*\u001b[39m kx3\n\u001b[1;32m     16\u001b[0m                 \u001b[38;5;241m+\u001b[39m \u001b[38;5;241m1859\u001b[39m\u001b[38;5;241m/\u001b[39m\u001b[38;5;241m4104\u001b[39m \u001b[38;5;241m*\u001b[39m kx4 \u001b[38;5;241m+\u001b[39m \u001b[38;5;241m11\u001b[39m\u001b[38;5;241m/\u001b[39m\u001b[38;5;241m40\u001b[39m \u001b[38;5;241m*\u001b[39m kx5) \u001b[38;5;241m*\u001b[39m T,\n\u001b[1;32m     17\u001b[0m                 yvn \u001b[38;5;241m+\u001b[39m \u001b[38;5;241m1\u001b[39m\u001b[38;5;241m/\u001b[39m\u001b[38;5;241m2\u001b[39m \u001b[38;5;241m*\u001b[39m T, a)\n",
            "Cell \u001b[0;32mIn[56], line 3\u001b[0m, in \u001b[0;36mfx\u001b[0;34m(xvn, yvn, a)\u001b[0m\n\u001b[1;32m      1\u001b[0m \u001b[38;5;28;01mdef\u001b[39;00m \u001b[38;5;21mfx\u001b[39m(xvn, yvn, a):\n\u001b[1;32m      2\u001b[0m     \u001b[38;5;28mprint\u001b[39m(xvn, yvn)\n\u001b[0;32m----> 3\u001b[0m     \u001b[38;5;28;01mreturn\u001b[39;00m \u001b[38;5;241m-\u001b[39ma\u001b[38;5;241m*\u001b[39m((\u001b[43mxvn\u001b[49m\u001b[38;5;241;43m*\u001b[39;49m\u001b[38;5;241;43m*\u001b[39;49m\u001b[38;5;241;43m3\u001b[39;49m)\u001b[38;5;241m/\u001b[39m\u001b[38;5;241m3\u001b[39m\u001b[38;5;241m-\u001b[39mxvn)\u001b[38;5;241m+\u001b[39ma\u001b[38;5;241m*\u001b[39myvn\n",
            "\u001b[0;31mOverflowError\u001b[0m: (34, 'Numerical result out of range')"
          ]
        }
      ],
      "source": [
        "T = 0.01\n",
        "\n",
        "t_start = 0\n",
        "t_finish = 20\n",
        "\n",
        "# for a in range(1, 1000, 100):\n",
        "    # b /= 1000\n",
        "# for c in range(1, 100, 30):\n",
        "    # c /= 10\n",
        "    # for b in range(1, 200, 10):\n",
        "a = 50\n",
        "c = 0.5\n",
        "b = 0.740625\n",
        "tn = t_start\n",
        "# Первый элемент это x, второй y\n",
        "# array1 = [(2, 0)]\n",
        "# array2 = [(2, 0)]\n",
        "main_array = []\n",
        "tl = [tn]\n",
        "while tl[-1] <= t_finish:\n",
        "    tl.append(tl[-1] + T)\n",
        "iter = tl[1:]\n",
        "\n",
        "c = 0.1\n",
        "a = 100\n",
        "array3 = [(2, 0)]\n",
        "array4 = [(2, 0)]\n",
        "\n",
        "array3_dif = [(fx(array3[-1][0], array3[-1][1], a),\n",
        "                    fy(array3[-1][0], array3[-1][1], c, b))]\n",
        "\n",
        "for _ in iter:\n",
        "    #явный метод 1-го порядка\n",
        "    # array1.append(explicit_method(T, a, array1[-1][0], array1[-1][1], c, b))\n",
        "    #неявный метод 1-го порядка\n",
        "    # array2.append(implicit_method(T, a, array2[-1][0], array2[-1][1], c, b))\n",
        "    #метод рунге-кутты 4-го порядка\n",
        "    array3.append(explicit4_method(T, a, array3[-1][0], array3[-1][1], c, b))\n",
        "    array4.append(explicit5_method(T, a, array4[-1][0], array4[-1][1], c, b))\n",
        "    \n",
        "    array3_dif.append((fx(array3[-1][0], array3[-1][1], a),\n",
        "                    fy(array3[-1][0], array3[-1][1], c, b)))\n",
        "\n",
        "# arrayx1 = [i[0] for i in array1]\n",
        "# arrayx2 = [i[0] for i in array2]\n",
        "arrayx3 = [i[0] for i in array3]\n",
        "arrayx4 = [i[0] for i in array4]\n",
        "\n",
        "# main_array.append(arrayx3)\n",
        "array_dif_x3 = [[i[0] for i in array3_dif]]\n",
        "# draw(px1, tl, arrayx1, \"явный 1-го порядка\")\n",
        "# draw(px1, tl, arrayx2, \"неявный 1-го порядка\")\n",
        "draw(tl, [arrayx3, arrayx4], f\"{a}, {c} рунге-кутты\")\n",
        "# draw(tl, array_dif_x3, f\"{a} x' from t\")\n",
        "# draw(arrayx3, array_dif_x3, \"x' from x\")"
      ]
    },
    {
      "cell_type": "code",
      "execution_count": null,
      "metadata": {
        "id": "khBGRcG0jGAI"
      },
      "outputs": [],
      "source": []
    }
  ],
  "metadata": {
    "accelerator": "GPU",
    "colab": {
      "gpuType": "T4",
      "provenance": []
    },
    "kernelspec": {
      "display_name": "Python 3",
      "name": "python3"
    },
    "language_info": {
      "codemirror_mode": {
        "name": "ipython",
        "version": 3
      },
      "file_extension": ".py",
      "mimetype": "text/x-python",
      "name": "python",
      "nbconvert_exporter": "python",
      "pygments_lexer": "ipython3",
      "version": "3.11.2"
    }
  },
  "nbformat": 4,
  "nbformat_minor": 0
}
