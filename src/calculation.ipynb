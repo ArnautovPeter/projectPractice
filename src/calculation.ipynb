{
 "cells": [
  {
   "cell_type": "code",
   "execution_count": 4,
   "metadata": {},
   "outputs": [],
   "source": [
    "def fx(t, xvn, yvn, a, b, c):\n",
    "    return -a*((xvn**3)/3-xvn) + a*yvn\n",
    "\n",
    "def fy(t, xvn, yvn, a, b, c):\n",
    "    return -xvn + c - b*yvn"
   ]
  },
  {
   "cell_type": "code",
   "execution_count": 11,
   "metadata": {},
   "outputs": [
    {
     "name": "stdout",
     "output_type": "stream",
     "text": [
      "{-0.0971259939450294 - 0.864359724902905*I: 1, -0.0971259939450294 + 0.864359724902905*I: 1}\n",
      "0.405748012109941*x + y + 0.305396957248018\n",
      "-x - 0.6*y + 0.4\n"
     ]
    }
   ],
   "source": [
    "from sympy import *\n",
    "x0 = 0.7708774143079162\n",
    "y0 = -0.6181508803793435\n",
    "a, b, c = 10, 0.6, 0.4\n",
    "f0 = fx(0, x0, y0, a, b, c)\n",
    "g0 = fy(0, x0, y0, a, b, c)\n",
    "M = Matrix([[-x0**2+1, 1],\n",
    "           [-1, -0.6]])\n",
    "print(M.eigenvals())\n",
    "x = Symbol('x')\n",
    "y = Symbol('y')\n",
    "f = fx(0, x0, y0, a, b, c) + a*(-x0**2+1)*(x-x0) + a*(y - y0)\n",
    "g = fy(0, x0, y0, a, b, c) - (x - x0) - 0.6*(y - y0)\n",
    "print(f)\n",
    "print(g)"
   ]
  }
 ],
 "metadata": {
  "kernelspec": {
   "display_name": "venv",
   "language": "python",
   "name": "python3"
  },
  "language_info": {
   "codemirror_mode": {
    "name": "ipython",
    "version": 3
   },
   "file_extension": ".py",
   "mimetype": "text/x-python",
   "name": "python",
   "nbconvert_exporter": "python",
   "pygments_lexer": "ipython3",
   "version": "3.10.12"
  }
 },
 "nbformat": 4,
 "nbformat_minor": 2
}
