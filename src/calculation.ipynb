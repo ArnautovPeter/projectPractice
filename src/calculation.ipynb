{
 "cells": [
  {
   "cell_type": "code",
   "execution_count": 2,
   "metadata": {},
   "outputs": [],
   "source": [
    "def fx(t, xvn, yvn, a, b, c):\n",
    "    return -a*((xvn**3)/3-xvn) + a*yvn\n",
    "\n",
    "def fy(t, xvn, yvn, a, b, c):\n",
    "    return -xvn + c - b*yvn"
   ]
  },
  {
   "cell_type": "code",
   "execution_count": 8,
   "metadata": {},
   "outputs": [
    {
     "data": {
      "text/plain": [
       "{-0.0971259939450294 - 0.864359724902905*I: 1,\n",
       " -0.0971259939450294 + 0.864359724902905*I: 1}"
      ]
     },
     "execution_count": 8,
     "metadata": {},
     "output_type": "execute_result"
    }
   ],
   "source": [
    "from sympy import *\n",
    "x0 = 0.7708774143079162\n",
    "y0 = -0.6181508803793435\n",
    "a, b, c = 1, 0.6, 0.4\n",
    "f0 = fx(0, x0, y0, a, b, c)\n",
    "g0 = fy(0, x0, y0, a, b, c)\n",
    "M = Matrix([[-x0**2+1, 1],\n",
    "           [-1, -0.6]])\n",
    "M.eigenvals()"
   ]
  }
 ],
 "metadata": {
  "kernelspec": {
   "display_name": "venv",
   "language": "python",
   "name": "python3"
  },
  "language_info": {
   "codemirror_mode": {
    "name": "ipython",
    "version": 3
   },
   "file_extension": ".py",
   "mimetype": "text/x-python",
   "name": "python",
   "nbconvert_exporter": "python",
   "pygments_lexer": "ipython3",
   "version": "3.10.12"
  }
 },
 "nbformat": 4,
 "nbformat_minor": 2
}
