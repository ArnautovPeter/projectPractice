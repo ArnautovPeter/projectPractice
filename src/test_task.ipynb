{
  "cells": [
    {
      "cell_type": "code",
      "execution_count": 18,
      "metadata": {
        "id": "DP3Dj-t-YY3k"
      },
      "outputs": [],
      "source": [
        "import matplotlib.pyplot as plt\n",
        "from math import exp"
      ]
    },
    {
      "cell_type": "code",
      "execution_count": 19,
      "metadata": {
        "id": "y_jBD8icYY3l"
      },
      "outputs": [],
      "source": [
        "def fx(t, xvn, yvn):\n",
        "    return 5*xvn + 3*yvn\n",
        "\n",
        "def fy(t, xvn, yvn):\n",
        "    return -3*xvn - yvn\n",
        "\n",
        "def fx2(t):\n",
        "    return (1 + 6 * t) * exp(2 * t)\n",
        "\n",
        "def fy2(t):\n",
        "    return (1 - 6 * t) * exp(2 * t)"
      ]
    },
    {
      "cell_type": "code",
      "execution_count": 20,
      "metadata": {},
      "outputs": [],
      "source": [
        "# неявный 1\n",
        "def jac1(T, xvn, yvn, t, table, k):\n",
        "  def jac_f(x):\n",
        "    return [[5 * x[0] - 1, 3 * x[1]],\n",
        "            [-3 * x[0], -1 * x[1] - 1]]\n",
        "  return jac_f"
      ]
    },
    {
      "cell_type": "code",
      "execution_count": 21,
      "metadata": {
        "id": "HVU1xKrPYY3m"
      },
      "outputs": [],
      "source": [
        "def jac2(T, xvn, yvn, t, table, k):\n",
        "    def jac(x):\n",
        "        return [[(5 * table.a[1][1]) * T - 1, (3 * table.a[1][1]) * T],\n",
        "                [(-3 * table.a[1][1]) * T, -table.a[1][1] * T - 1]]\n",
        "    return jac"
      ]
    },
    {
      "cell_type": "markdown",
      "metadata": {},
      "source": [
        "[scipy root](https://docs.scipy.org/doc/scipy/reference/generated/scipy.optimize.root.html),\n",
        "[Jacobian](<https://math.libretexts.org/Bookshelves/Calculus/Supplemental_Modules_(Calculus)/Vector_Calculus/3%3A_Multiple_Integrals/3.8%3A_Jacobians>)\n"
      ]
    },
    {
      "cell_type": "code",
      "execution_count": 22,
      "metadata": {},
      "outputs": [],
      "source": [
        "# \"\"\"Неявный метод Хаммера-Холлингсворта 4-го порядка\"\"\"\n",
        "# def implicit2_method_v(T, xvn, yvn):\n",
        "#      # Таблица Бутчера\n",
        "#      a = [[1/4, 1/4 - math.sqrt(3)/6],\n",
        "#           [1/4 + math.sqrt(3)/6, 1/4]]\n",
        "#      # c = [(1/2 - math.sqrt(3)/6), 1/2 + math.sqrt(3)/6]\n",
        "#      b = [1/2, 1/2]\n",
        "\n",
        "#      # 5x+3y\n",
        "#      # -3x-y\n",
        "#      # x[0] = kx1, x[1] = kx2\n",
        "#      def fk(vec):\n",
        "#           # kx1 = T * fx(t, xvn + a[0][0] * kx1 + a[0][1] * kx2, yvn + a[0][0] * ky1 + a[0][1] * ky2)\n",
        "#           # ky1 = T * fy(t, xvn + a[0][0] * kx1 + a[0][1] * kx2, yvn + a[0][0] * ky1 + a[0][1] * ky2)\n",
        "#           # kx2 = T * fx(t, xvn + a[1][0] * kx1 + a[1][1] * kx2, yvn + a[1][0] * ky1 + a[1][1] * ky2)\n",
        "#           # ky2 = T * fx(t, xvn + a[1][0] * kx1 + a[1][1] * kx2, yvn + a[1][0] * ky1 + a[1][1] * ky2)\n",
        "\n",
        "#           # vec = [kx1, kx2, ky1, ky2]\n",
        "#           xn = [xvn + T * (a[0][0] * vec[0] + a[0][1] * vec[1]), xvn + T * (a[1][0] * vec[0] + a[1][1] * vec[1])]\n",
        "#           yn = [yvn + T * (a[0][0] * vec[2] + a[0][1] * vec[3]), yvn + T * (a[1][0] * vec[2] + a[1][1] * vec[3])]\n",
        "          \n",
        "#           # т.к. уравнения равны нулю, вычитаем k\n",
        "#           return [fx(xn[0], yn[0]) - vec[0],  # kx\n",
        "#                   fx(xn[1], yn[1]) - vec[1],\n",
        "#                   fy(xn[0], yn[0]) - vec[2],  # ky\n",
        "#                   fy(xn[1], yn[1]) - vec[3]]\n",
        "     \n",
        "#      def jac_fk(vec):\n",
        "#           # Якобиан системы, частные производные от каждого\n",
        "#           # уравнения по каждой переменной\n",
        "\n",
        "#           # fx dx = 5\n",
        "#           # fx dy = 3\n",
        "#           # fy dx = -3\n",
        "#           # fy dy = -1\n",
        "#           # умножить на производные от xn, yn по vec[i]\n",
        "#           # vec = [kx1, kx2, ky1, ky2] в таком же порядке берем частные производные\n",
        "#           # в таком же порядке матрица вертикально\n",
        "\n",
        "#           return np.array([[5 * T * a[0][0] - 1, 5 * T * a[0][1], 3 * T * a[0][0], 3 * T * a[0][1]],\n",
        "#                           [5 * T * a[1][0], 5 * T * a[1][1] - 1, 3 * T * a[1][0], 3 * T * a[1][1]],\n",
        "#                           [-3 * T * a[0][0], -3 * T * a[0][1], -T * a[0][0] - 1, -T * a[0][1]],\n",
        "#                           [-3 * T * a[1][0], -3 * T * a[1][1], -T * a[1][0], -T * a[1][1] - 1]])\n",
        "\n",
        "\n",
        "#      sol = optimize.root(fun=fk, x0=[0, 0, 0, 0],\n",
        "#                          jac=jac_fk, method='hybr')\n",
        "#      xn = xvn + T * (b[0] * sol.x[0] + b[1] * sol.x[1])\n",
        "#      yn = yvn + T * (b[0] * sol.x[2] + b[1] * sol.x[3])\n",
        "\n",
        "#      return (xn, yn)"
      ]
    },
    {
      "cell_type": "code",
      "execution_count": 23,
      "metadata": {},
      "outputs": [
        {
          "ename": "AttributeError",
          "evalue": "'list' object has no attribute 'a'",
          "output_type": "error",
          "traceback": [
            "\u001b[0;31m---------------------------------------------------------------------------\u001b[0m",
            "\u001b[0;31mAttributeError\u001b[0m                            Traceback (most recent call last)",
            "Cell \u001b[0;32mIn[23], line 8\u001b[0m\n\u001b[1;32m      6\u001b[0m sol \u001b[38;5;241m=\u001b[39m Solver2((fx, fy), [jac1, jac2], [], (fx2(\u001b[38;5;241m0\u001b[39m), fy2(\u001b[38;5;241m0\u001b[39m)), (t_start, t_finish))\n\u001b[1;32m      7\u001b[0m tester \u001b[38;5;241m=\u001b[39m Test2((fx2, fy2))\n\u001b[0;32m----> 8\u001b[0m \u001b[43mtester\u001b[49m\u001b[38;5;241;43m.\u001b[39;49m\u001b[43mtest_methods\u001b[49m\u001b[43m(\u001b[49m\u001b[43m(\u001b[49m\u001b[38;5;241;43m0.009\u001b[39;49m\u001b[43m,\u001b[49m\u001b[43m \u001b[49m\u001b[38;5;241;43m0.1\u001b[39;49m\u001b[43m)\u001b[49m\u001b[43m,\u001b[49m\u001b[43m \u001b[49m\u001b[38;5;241;43m0.01\u001b[39;49m\u001b[43m,\u001b[49m\u001b[43m \u001b[49m\u001b[43msol\u001b[49m\u001b[43m,\u001b[49m\u001b[43m \u001b[49m\u001b[43m[\u001b[49m\u001b[43msol\u001b[49m\u001b[38;5;241;43m.\u001b[39;49m\u001b[43mimplicit2\u001b[49m\u001b[43m]\u001b[49m\u001b[43m)\u001b[49m\n",
            "File \u001b[0;32m~/projectPractice/src/test_methods.py:27\u001b[0m, in \u001b[0;36mTest2.test_methods\u001b[0;34m(self, T_limits, step, sol, methods)\u001b[0m\n\u001b[1;32m     25\u001b[0m max_error \u001b[38;5;241m=\u001b[39m []\n\u001b[1;32m     26\u001b[0m \u001b[38;5;28;01mwhile\u001b[39;00m TL[\u001b[38;5;241m-\u001b[39m\u001b[38;5;241m1\u001b[39m] \u001b[38;5;241m<\u001b[39m\u001b[38;5;241m=\u001b[39m T_limits[\u001b[38;5;241m1\u001b[39m]:\n\u001b[0;32m---> 27\u001b[0m     results \u001b[38;5;241m=\u001b[39m \u001b[43m[\u001b[49m\u001b[43msol\u001b[49m\u001b[38;5;241;43m.\u001b[39;49m\u001b[43mdo_method\u001b[49m\u001b[43m(\u001b[49m\u001b[43mmethod\u001b[49m\u001b[43m,\u001b[49m\u001b[43m \u001b[49m\u001b[43mTL\u001b[49m\u001b[43m[\u001b[49m\u001b[38;5;241;43m-\u001b[39;49m\u001b[38;5;241;43m1\u001b[39;49m\u001b[43m]\u001b[49m\u001b[43m,\u001b[49m\u001b[43m \u001b[49m\u001b[43mdynamic_step\u001b[49m\u001b[38;5;241;43m=\u001b[39;49m\u001b[38;5;28;43;01mFalse\u001b[39;49;00m\u001b[43m)\u001b[49m\u001b[43m \u001b[49m\u001b[38;5;28;43;01mfor\u001b[39;49;00m\u001b[43m \u001b[49m\u001b[43mmethod\u001b[49m\u001b[43m \u001b[49m\u001b[38;5;129;43;01min\u001b[39;49;00m\u001b[43m \u001b[49m\u001b[43mmethods\u001b[49m\u001b[43m]\u001b[49m\n\u001b[1;32m     28\u001b[0m     \u001b[38;5;66;03m# args = np.linspace(T_limits[0], T_limits[1], 500)\u001b[39;00m\n\u001b[1;32m     29\u001b[0m     \u001b[38;5;66;03m# # args = np.linspace(t_start, t_finish, int((t_finish - t_start) / T))\u001b[39;00m\n\u001b[1;32m     30\u001b[0m     \u001b[38;5;66;03m# x_true = list([self._fx(t) for t in args])\u001b[39;00m\n\u001b[1;32m     31\u001b[0m     \u001b[38;5;66;03m# draw([[i for i in results[0][0]], args], [[i[0] for i in results[0][1]], x_true], ['fake', 'real'], ['fake', 'real'])\u001b[39;00m\n\u001b[1;32m     32\u001b[0m     \u001b[38;5;66;03m# return\u001b[39;00m\n\u001b[1;32m     33\u001b[0m     max_error_step \u001b[38;5;241m=\u001b[39m [\u001b[38;5;241m0\u001b[39m] \u001b[38;5;241m*\u001b[39m \u001b[38;5;28mlen\u001b[39m(methods)\n",
            "File \u001b[0;32m~/projectPractice/src/test_methods.py:27\u001b[0m, in \u001b[0;36m<listcomp>\u001b[0;34m(.0)\u001b[0m\n\u001b[1;32m     25\u001b[0m max_error \u001b[38;5;241m=\u001b[39m []\n\u001b[1;32m     26\u001b[0m \u001b[38;5;28;01mwhile\u001b[39;00m TL[\u001b[38;5;241m-\u001b[39m\u001b[38;5;241m1\u001b[39m] \u001b[38;5;241m<\u001b[39m\u001b[38;5;241m=\u001b[39m T_limits[\u001b[38;5;241m1\u001b[39m]:\n\u001b[0;32m---> 27\u001b[0m     results \u001b[38;5;241m=\u001b[39m [\u001b[43msol\u001b[49m\u001b[38;5;241;43m.\u001b[39;49m\u001b[43mdo_method\u001b[49m\u001b[43m(\u001b[49m\u001b[43mmethod\u001b[49m\u001b[43m,\u001b[49m\u001b[43m \u001b[49m\u001b[43mTL\u001b[49m\u001b[43m[\u001b[49m\u001b[38;5;241;43m-\u001b[39;49m\u001b[38;5;241;43m1\u001b[39;49m\u001b[43m]\u001b[49m\u001b[43m,\u001b[49m\u001b[43m \u001b[49m\u001b[43mdynamic_step\u001b[49m\u001b[38;5;241;43m=\u001b[39;49m\u001b[38;5;28;43;01mFalse\u001b[39;49;00m\u001b[43m)\u001b[49m \u001b[38;5;28;01mfor\u001b[39;00m method \u001b[38;5;129;01min\u001b[39;00m methods]\n\u001b[1;32m     28\u001b[0m     \u001b[38;5;66;03m# args = np.linspace(T_limits[0], T_limits[1], 500)\u001b[39;00m\n\u001b[1;32m     29\u001b[0m     \u001b[38;5;66;03m# # args = np.linspace(t_start, t_finish, int((t_finish - t_start) / T))\u001b[39;00m\n\u001b[1;32m     30\u001b[0m     \u001b[38;5;66;03m# x_true = list([self._fx(t) for t in args])\u001b[39;00m\n\u001b[1;32m     31\u001b[0m     \u001b[38;5;66;03m# draw([[i for i in results[0][0]], args], [[i[0] for i in results[0][1]], x_true], ['fake', 'real'], ['fake', 'real'])\u001b[39;00m\n\u001b[1;32m     32\u001b[0m     \u001b[38;5;66;03m# return\u001b[39;00m\n\u001b[1;32m     33\u001b[0m     max_error_step \u001b[38;5;241m=\u001b[39m [\u001b[38;5;241m0\u001b[39m] \u001b[38;5;241m*\u001b[39m \u001b[38;5;28mlen\u001b[39m(methods)\n",
            "File \u001b[0;32m~/projectPractice/src/num_methods.py:189\u001b[0m, in \u001b[0;36mSolver2.do_method\u001b[0;34m(self, method, T0, dynamic_step)\u001b[0m\n\u001b[1;32m    187\u001b[0m array_T \u001b[38;5;241m=\u001b[39m [T]\n\u001b[1;32m    188\u001b[0m \u001b[38;5;28;01mwhile\u001b[39;00m tl[\u001b[38;5;241m-\u001b[39m\u001b[38;5;241m1\u001b[39m] \u001b[38;5;241m<\u001b[39m\u001b[38;5;241m=\u001b[39m \u001b[38;5;28mself\u001b[39m\u001b[38;5;241m.\u001b[39m_t_limits[\u001b[38;5;241m1\u001b[39m]:\n\u001b[0;32m--> 189\u001b[0m     array\u001b[38;5;241m.\u001b[39mappend(\u001b[43mmethod\u001b[49m\u001b[43m(\u001b[49m\u001b[43mT\u001b[49m\u001b[43m,\u001b[49m\u001b[43m \u001b[49m\u001b[43marray\u001b[49m\u001b[43m[\u001b[49m\u001b[38;5;241;43m-\u001b[39;49m\u001b[38;5;241;43m1\u001b[39;49m\u001b[43m]\u001b[49m\u001b[43m[\u001b[49m\u001b[38;5;241;43m0\u001b[39;49m\u001b[43m]\u001b[49m\u001b[43m,\u001b[49m\u001b[43m \u001b[49m\u001b[43marray\u001b[49m\u001b[43m[\u001b[49m\u001b[38;5;241;43m-\u001b[39;49m\u001b[38;5;241;43m1\u001b[39;49m\u001b[43m]\u001b[49m\u001b[43m[\u001b[49m\u001b[38;5;241;43m1\u001b[39;49m\u001b[43m]\u001b[49m\u001b[43m,\u001b[49m\u001b[43m \u001b[49m\u001b[43mtl\u001b[49m\u001b[43m[\u001b[49m\u001b[38;5;241;43m-\u001b[39;49m\u001b[38;5;241;43m1\u001b[39;49m\u001b[43m]\u001b[49m\u001b[43m)\u001b[49m)\n\u001b[1;32m    190\u001b[0m     \u001b[38;5;28;01mif\u001b[39;00m dynamic_step:\n\u001b[1;32m    191\u001b[0m         T \u001b[38;5;241m=\u001b[39m \u001b[38;5;28mself\u001b[39m\u001b[38;5;241m.\u001b[39mnew_T(array_T[\u001b[38;5;241m-\u001b[39m\u001b[38;5;241m1\u001b[39m], T0, array[\u001b[38;5;241m-\u001b[39m\u001b[38;5;241m1\u001b[39m], array[\u001b[38;5;241m-\u001b[39m\u001b[38;5;241m2\u001b[39m],\n\u001b[1;32m    192\u001b[0m                         \u001b[38;5;28mself\u001b[39m\u001b[38;5;241m.\u001b[39m_t_limits[\u001b[38;5;241m1\u001b[39m] \u001b[38;5;241m-\u001b[39m \u001b[38;5;28mself\u001b[39m\u001b[38;5;241m.\u001b[39m_t_limits[\u001b[38;5;241m0\u001b[39m])\n",
            "File \u001b[0;32m~/projectPractice/src/num_methods.py:131\u001b[0m, in \u001b[0;36mSolver2.implicit2\u001b[0;34m(self, T, xvn, yvn, t)\u001b[0m\n\u001b[1;32m    127\u001b[0m     yn \u001b[38;5;241m=\u001b[39m yvn \u001b[38;5;241m+\u001b[39m Solver2\u001b[38;5;241m.\u001b[39m_impl2_table\u001b[38;5;241m.\u001b[39ma[\u001b[38;5;241m1\u001b[39m][\u001b[38;5;241m0\u001b[39m] \u001b[38;5;241m*\u001b[39m k1[\u001b[38;5;241m1\u001b[39m] \u001b[38;5;241m+\u001b[39m Solver2\u001b[38;5;241m.\u001b[39m_impl2_table\u001b[38;5;241m.\u001b[39ma[\u001b[38;5;241m1\u001b[39m][\u001b[38;5;241m1\u001b[39m] \u001b[38;5;241m*\u001b[39m x[\u001b[38;5;241m1\u001b[39m]\n\u001b[1;32m    128\u001b[0m     \u001b[38;5;28;01mreturn\u001b[39;00m [T \u001b[38;5;241m*\u001b[39m \u001b[38;5;28mself\u001b[39m\u001b[38;5;241m.\u001b[39m_fx(t \u001b[38;5;241m+\u001b[39m Solver2\u001b[38;5;241m.\u001b[39m_impl2_table\u001b[38;5;241m.\u001b[39mc[\u001b[38;5;241m0\u001b[39m] \u001b[38;5;241m*\u001b[39m T, xn, yn, \u001b[38;5;241m*\u001b[39m\u001b[38;5;28mself\u001b[39m\u001b[38;5;241m.\u001b[39m_params) \u001b[38;5;241m-\u001b[39m x[\u001b[38;5;241m0\u001b[39m],\n\u001b[1;32m    129\u001b[0m             T \u001b[38;5;241m*\u001b[39m \u001b[38;5;28mself\u001b[39m\u001b[38;5;241m.\u001b[39m_fy(t \u001b[38;5;241m+\u001b[39m Solver2\u001b[38;5;241m.\u001b[39m_impl2_table\u001b[38;5;241m.\u001b[39mc[\u001b[38;5;241m0\u001b[39m] \u001b[38;5;241m*\u001b[39m T, xn, yn, \u001b[38;5;241m*\u001b[39m\u001b[38;5;28mself\u001b[39m\u001b[38;5;241m.\u001b[39m_params) \u001b[38;5;241m-\u001b[39m x[\u001b[38;5;241m1\u001b[39m]]\n\u001b[0;32m--> 131\u001b[0m sol \u001b[38;5;241m=\u001b[39m \u001b[43moptimize\u001b[49m\u001b[38;5;241;43m.\u001b[39;49m\u001b[43mroot\u001b[49m\u001b[43m(\u001b[49m\u001b[43mfun\u001b[49m\u001b[38;5;241;43m=\u001b[39;49m\u001b[43mf\u001b[49m\u001b[43m,\u001b[49m\n\u001b[1;32m    132\u001b[0m \u001b[43m                    \u001b[49m\u001b[43mx0\u001b[49m\u001b[38;5;241;43m=\u001b[39;49m\u001b[38;5;28;43mself\u001b[39;49m\u001b[38;5;241;43m.\u001b[39;49m\u001b[43m_guess\u001b[49m\u001b[43m(\u001b[49m\u001b[43mT\u001b[49m\u001b[43m,\u001b[49m\u001b[43m \u001b[49m\u001b[43mxvn\u001b[49m\u001b[43m,\u001b[49m\u001b[43m \u001b[49m\u001b[43myvn\u001b[49m\u001b[43m,\u001b[49m\u001b[43m \u001b[49m\u001b[43mt\u001b[49m\u001b[43m)\u001b[49m\u001b[43m,\u001b[49m\n\u001b[1;32m    133\u001b[0m \u001b[43m                    \u001b[49m\u001b[43mjac\u001b[49m\u001b[38;5;241;43m=\u001b[39;49m\u001b[38;5;28;43mself\u001b[39;49m\u001b[38;5;241;43m.\u001b[39;49m\u001b[43m_jac\u001b[49m\u001b[43m[\u001b[49m\u001b[38;5;241;43m1\u001b[39;49m\u001b[43m]\u001b[49m\u001b[43m(\u001b[49m\u001b[43mT\u001b[49m\u001b[43m,\u001b[49m\u001b[43m \u001b[49m\u001b[43mxvn\u001b[49m\u001b[43m,\u001b[49m\u001b[43m \u001b[49m\u001b[43myvn\u001b[49m\u001b[43m,\u001b[49m\u001b[43m \u001b[49m\u001b[43mt\u001b[49m\u001b[43m,\u001b[49m\u001b[43m \u001b[49m\u001b[43mSolver2\u001b[49m\u001b[38;5;241;43m.\u001b[39;49m\u001b[43m_impl2_table\u001b[49m\u001b[43m,\u001b[49m\u001b[43m \u001b[49m\u001b[43mk1\u001b[49m\u001b[43m,\u001b[49m\u001b[43m \u001b[49m\u001b[38;5;241;43m*\u001b[39;49m\u001b[38;5;28;43mself\u001b[39;49m\u001b[38;5;241;43m.\u001b[39;49m\u001b[43m_params\u001b[49m\u001b[43m)\u001b[49m\u001b[43m,\u001b[49m\n\u001b[1;32m    134\u001b[0m \u001b[43m                    \u001b[49m\u001b[43mmethod\u001b[49m\u001b[38;5;241;43m=\u001b[39;49m\u001b[38;5;124;43m'\u001b[39;49m\u001b[38;5;124;43mhybr\u001b[39;49m\u001b[38;5;124;43m'\u001b[39;49m\u001b[43m)\u001b[49m\n\u001b[1;32m    135\u001b[0m xn2 \u001b[38;5;241m=\u001b[39m xvn \u001b[38;5;241m+\u001b[39m Solver2\u001b[38;5;241m.\u001b[39m_impl2_table\u001b[38;5;241m.\u001b[39mb[\u001b[38;5;241m0\u001b[39m] \u001b[38;5;241m*\u001b[39m k1[\u001b[38;5;241m0\u001b[39m] \u001b[38;5;241m+\u001b[39m\\\n\u001b[1;32m    136\u001b[0m     Solver2\u001b[38;5;241m.\u001b[39m_impl2_table\u001b[38;5;241m.\u001b[39mb[\u001b[38;5;241m1\u001b[39m] \u001b[38;5;241m*\u001b[39m sol\u001b[38;5;241m.\u001b[39mx[\u001b[38;5;241m0\u001b[39m]\n\u001b[1;32m    137\u001b[0m yn2 \u001b[38;5;241m=\u001b[39m yvn \u001b[38;5;241m+\u001b[39m Solver2\u001b[38;5;241m.\u001b[39m_impl2_table\u001b[38;5;241m.\u001b[39mb[\u001b[38;5;241m0\u001b[39m] \u001b[38;5;241m*\u001b[39m k1[\u001b[38;5;241m1\u001b[39m] \u001b[38;5;241m+\u001b[39m\\\n\u001b[1;32m    138\u001b[0m     Solver2\u001b[38;5;241m.\u001b[39m_impl2_table\u001b[38;5;241m.\u001b[39mb[\u001b[38;5;241m1\u001b[39m] \u001b[38;5;241m*\u001b[39m sol\u001b[38;5;241m.\u001b[39mx[\u001b[38;5;241m1\u001b[39m]\n",
            "File \u001b[0;32m~/projectPractice/.venv/lib/python3.11/site-packages/scipy/optimize/_root.py:236\u001b[0m, in \u001b[0;36mroot\u001b[0;34m(fun, x0, args, method, jac, tol, callback, options)\u001b[0m\n\u001b[1;32m    233\u001b[0m         options\u001b[38;5;241m.\u001b[39msetdefault(\u001b[38;5;124m'\u001b[39m\u001b[38;5;124mfatol\u001b[39m\u001b[38;5;124m'\u001b[39m, np\u001b[38;5;241m.\u001b[39minf)\n\u001b[1;32m    235\u001b[0m \u001b[38;5;28;01mif\u001b[39;00m meth \u001b[38;5;241m==\u001b[39m \u001b[38;5;124m'\u001b[39m\u001b[38;5;124mhybr\u001b[39m\u001b[38;5;124m'\u001b[39m:\n\u001b[0;32m--> 236\u001b[0m     sol \u001b[38;5;241m=\u001b[39m \u001b[43m_root_hybr\u001b[49m\u001b[43m(\u001b[49m\u001b[43mfun\u001b[49m\u001b[43m,\u001b[49m\u001b[43m \u001b[49m\u001b[43mx0\u001b[49m\u001b[43m,\u001b[49m\u001b[43m \u001b[49m\u001b[43margs\u001b[49m\u001b[38;5;241;43m=\u001b[39;49m\u001b[43margs\u001b[49m\u001b[43m,\u001b[49m\u001b[43m \u001b[49m\u001b[43mjac\u001b[49m\u001b[38;5;241;43m=\u001b[39;49m\u001b[43mjac\u001b[49m\u001b[43m,\u001b[49m\u001b[43m \u001b[49m\u001b[38;5;241;43m*\u001b[39;49m\u001b[38;5;241;43m*\u001b[39;49m\u001b[43moptions\u001b[49m\u001b[43m)\u001b[49m\n\u001b[1;32m    237\u001b[0m \u001b[38;5;28;01melif\u001b[39;00m meth \u001b[38;5;241m==\u001b[39m \u001b[38;5;124m'\u001b[39m\u001b[38;5;124mlm\u001b[39m\u001b[38;5;124m'\u001b[39m:\n\u001b[1;32m    238\u001b[0m     sol \u001b[38;5;241m=\u001b[39m _root_leastsq(fun, x0, args\u001b[38;5;241m=\u001b[39margs, jac\u001b[38;5;241m=\u001b[39mjac, \u001b[38;5;241m*\u001b[39m\u001b[38;5;241m*\u001b[39moptions)\n",
            "File \u001b[0;32m~/projectPractice/.venv/lib/python3.11/site-packages/scipy/optimize/_minpack_py.py:246\u001b[0m, in \u001b[0;36m_root_hybr\u001b[0;34m(func, x0, args, jac, col_deriv, xtol, maxfev, band, eps, factor, diag, **unknown_options)\u001b[0m\n\u001b[1;32m    243\u001b[0m     retval \u001b[38;5;241m=\u001b[39m _minpack\u001b[38;5;241m.\u001b[39m_hybrd(func, x0, args, \u001b[38;5;241m1\u001b[39m, xtol, maxfev,\n\u001b[1;32m    244\u001b[0m                              ml, mu, epsfcn, factor, diag)\n\u001b[1;32m    245\u001b[0m \u001b[38;5;28;01melse\u001b[39;00m:\n\u001b[0;32m--> 246\u001b[0m     \u001b[43m_check_func\u001b[49m\u001b[43m(\u001b[49m\u001b[38;5;124;43m'\u001b[39;49m\u001b[38;5;124;43mfsolve\u001b[39;49m\u001b[38;5;124;43m'\u001b[39;49m\u001b[43m,\u001b[49m\u001b[43m \u001b[49m\u001b[38;5;124;43m'\u001b[39;49m\u001b[38;5;124;43mfprime\u001b[39;49m\u001b[38;5;124;43m'\u001b[39;49m\u001b[43m,\u001b[49m\u001b[43m \u001b[49m\u001b[43mDfun\u001b[49m\u001b[43m,\u001b[49m\u001b[43m \u001b[49m\u001b[43mx0\u001b[49m\u001b[43m,\u001b[49m\u001b[43m \u001b[49m\u001b[43margs\u001b[49m\u001b[43m,\u001b[49m\u001b[43m \u001b[49m\u001b[43mn\u001b[49m\u001b[43m,\u001b[49m\u001b[43m \u001b[49m\u001b[43m(\u001b[49m\u001b[43mn\u001b[49m\u001b[43m,\u001b[49m\u001b[43m \u001b[49m\u001b[43mn\u001b[49m\u001b[43m)\u001b[49m\u001b[43m)\u001b[49m\n\u001b[1;32m    247\u001b[0m     \u001b[38;5;28;01mif\u001b[39;00m (maxfev \u001b[38;5;241m==\u001b[39m \u001b[38;5;241m0\u001b[39m):\n\u001b[1;32m    248\u001b[0m         maxfev \u001b[38;5;241m=\u001b[39m \u001b[38;5;241m100\u001b[39m \u001b[38;5;241m*\u001b[39m (n \u001b[38;5;241m+\u001b[39m \u001b[38;5;241m1\u001b[39m)\n",
            "File \u001b[0;32m~/projectPractice/.venv/lib/python3.11/site-packages/scipy/optimize/_minpack_py.py:29\u001b[0m, in \u001b[0;36m_check_func\u001b[0;34m(checker, argname, thefunc, x0, args, numinputs, output_shape)\u001b[0m\n\u001b[1;32m     27\u001b[0m \u001b[38;5;28;01mdef\u001b[39;00m \u001b[38;5;21m_check_func\u001b[39m(checker, argname, thefunc, x0, args, numinputs,\n\u001b[1;32m     28\u001b[0m                 output_shape\u001b[38;5;241m=\u001b[39m\u001b[38;5;28;01mNone\u001b[39;00m):\n\u001b[0;32m---> 29\u001b[0m     res \u001b[38;5;241m=\u001b[39m atleast_1d(\u001b[43mthefunc\u001b[49m\u001b[43m(\u001b[49m\u001b[38;5;241;43m*\u001b[39;49m\u001b[43m(\u001b[49m\u001b[43m(\u001b[49m\u001b[43mx0\u001b[49m\u001b[43m[\u001b[49m\u001b[43m:\u001b[49m\u001b[43mnuminputs\u001b[49m\u001b[43m]\u001b[49m\u001b[43m,\u001b[49m\u001b[43m)\u001b[49m\u001b[43m \u001b[49m\u001b[38;5;241;43m+\u001b[39;49m\u001b[43m \u001b[49m\u001b[43margs\u001b[49m\u001b[43m)\u001b[49m\u001b[43m)\u001b[49m)\n\u001b[1;32m     30\u001b[0m     \u001b[38;5;28;01mif\u001b[39;00m (output_shape \u001b[38;5;129;01mis\u001b[39;00m \u001b[38;5;129;01mnot\u001b[39;00m \u001b[38;5;28;01mNone\u001b[39;00m) \u001b[38;5;129;01mand\u001b[39;00m (shape(res) \u001b[38;5;241m!=\u001b[39m output_shape):\n\u001b[1;32m     31\u001b[0m         \u001b[38;5;28;01mif\u001b[39;00m (output_shape[\u001b[38;5;241m0\u001b[39m] \u001b[38;5;241m!=\u001b[39m \u001b[38;5;241m1\u001b[39m):\n",
            "Cell \u001b[0;32mIn[21], line 3\u001b[0m, in \u001b[0;36mjac2.<locals>.jac\u001b[0;34m(x)\u001b[0m\n\u001b[1;32m      2\u001b[0m \u001b[38;5;28;01mdef\u001b[39;00m \u001b[38;5;21mjac\u001b[39m(x):\n\u001b[0;32m----> 3\u001b[0m     \u001b[38;5;28;01mreturn\u001b[39;00m [[(\u001b[38;5;241m5\u001b[39m \u001b[38;5;241m*\u001b[39m \u001b[43mtable\u001b[49m\u001b[38;5;241;43m.\u001b[39;49m\u001b[43ma\u001b[49m[\u001b[38;5;241m1\u001b[39m][\u001b[38;5;241m1\u001b[39m]) \u001b[38;5;241m*\u001b[39m T \u001b[38;5;241m-\u001b[39m \u001b[38;5;241m1\u001b[39m, (\u001b[38;5;241m3\u001b[39m \u001b[38;5;241m*\u001b[39m table\u001b[38;5;241m.\u001b[39ma[\u001b[38;5;241m1\u001b[39m][\u001b[38;5;241m1\u001b[39m]) \u001b[38;5;241m*\u001b[39m T],\n\u001b[1;32m      4\u001b[0m             [(\u001b[38;5;241m-\u001b[39m\u001b[38;5;241m3\u001b[39m \u001b[38;5;241m*\u001b[39m table\u001b[38;5;241m.\u001b[39ma[\u001b[38;5;241m1\u001b[39m][\u001b[38;5;241m1\u001b[39m]) \u001b[38;5;241m*\u001b[39m T, \u001b[38;5;241m-\u001b[39mtable\u001b[38;5;241m.\u001b[39ma[\u001b[38;5;241m1\u001b[39m][\u001b[38;5;241m1\u001b[39m] \u001b[38;5;241m*\u001b[39m T \u001b[38;5;241m-\u001b[39m \u001b[38;5;241m1\u001b[39m]]\n",
            "\u001b[0;31mAttributeError\u001b[0m: 'list' object has no attribute 'a'"
          ]
        }
      ],
      "source": [
        "from num_methods import Solver2\n",
        "from test_methods import Test2\n",
        "\n",
        "t_start = 0\n",
        "t_finish = 4\n",
        "sol = Solver2((fx, fy), [jac1, jac2], [], (fx2(0), fy2(0)), (t_start, t_finish))\n",
        "tester = Test2((fx2, fy2))\n",
        "tester.test_methods((0.009, 0.1), 0.01, sol, [sol.implicit2])"
      ]
    }
  ],
  "metadata": {
    "accelerator": "GPU",
    "colab": {
      "gpuType": "T4",
      "provenance": []
    },
    "kernelspec": {
      "display_name": "Python 3",
      "name": "python3"
    },
    "language_info": {
      "codemirror_mode": {
        "name": "ipython",
        "version": 3
      },
      "file_extension": ".py",
      "mimetype": "text/x-python",
      "name": "python",
      "nbconvert_exporter": "python",
      "pygments_lexer": "ipython3",
      "version": "3.11.2"
    }
  },
  "nbformat": 4,
  "nbformat_minor": 0
}
