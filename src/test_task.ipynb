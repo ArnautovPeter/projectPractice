{
  "cells": [
    {
      "cell_type": "code",
      "execution_count": 2,
      "metadata": {
        "id": "DP3Dj-t-YY3k"
      },
      "outputs": [],
      "source": [
        "import matplotlib.pyplot as plt\n",
        "import math\n",
        "import numpy as np\n",
        "from scipy import optimize"
      ]
    },
    {
      "cell_type": "code",
      "execution_count": 3,
      "metadata": {
        "id": "y_jBD8icYY3l"
      },
      "outputs": [],
      "source": [
        "def fx(t, xvn, yvn):\n",
        "    return 5*xvn + 3*yvn\n",
        "\n",
        "def fy(t, xvn, yvn):\n",
        "    return -3*xvn - yvn\n",
        "\n",
        "def fx2(t, xvn, yvn):\n",
        "    return 5*xvn + 3*yvn\n",
        "\n",
        "def fy2(t, xvn, yvn):\n",
        "    return -3*xvn - yvn"
      ]
    },
    {
      "cell_type": "markdown",
      "metadata": {},
      "source": [
        "$$\\frac{(y_{n+1} - y_n)}{T} = f(x_n, y_{n+1})$$\n",
        "\n",
        "$$\n",
        "$$\n"
      ]
    },
    {
      "cell_type": "code",
      "execution_count": 4,
      "metadata": {
        "id": "HVU1xKrPYY3m"
      },
      "outputs": [],
      "source": [
        "# TODO: remove list, можно использовать предыдущее значение\n",
        "def newtonsMethod(T, x, y):\n",
        "    prev_x = x  # list of x(y) values\n",
        "    for _ in range(100):\n",
        "        xn = prev_x  # previous value of x\n",
        "        y_x = ((-3*xn)*T+y)/(1+T)  # y выраженный через х\n",
        "\n",
        "        f = -xn+(5*xn + 3*y_x)*T+x\n",
        "        g = -1+T*(5) - 9*T*T/(1+T)\n",
        "        \n",
        "        prev_x = prev_x - f/g\n",
        "        # print(x)\n",
        "    return prev_x"
      ]
    },
    {
      "cell_type": "code",
      "execution_count": 5,
      "metadata": {
        "id": "AZONbGh6YY3m"
      },
      "outputs": [],
      "source": [
        "\"\"\"Неявный метод Эйлера 1-го порядка\"\"\"\n",
        "def implicit_method(T, xvn, yvn):\n",
        "    xn2 = newtonsMethod(T, xvn, yvn)\n",
        "    yn2 = (T*-3*xn2 + yvn)/(1+T)\n",
        "    return (xn2, yn2)"
      ]
    },
    {
      "cell_type": "code",
      "execution_count": 6,
      "metadata": {},
      "outputs": [],
      "source": [
        "from scipy import optimize\n",
        "\"\"\"Неявный метод Эйлера 1-го порядка\"\"\"\n",
        "def implicit2_method_v(T, xvn, yvn, t):\n",
        "    a = [[0, 0],\n",
        "         [1/2, 1/2]]\n",
        "    c = [1/2]\n",
        "    b = [1/2, 1/2]\n",
        "    \n",
        "    k1 = [T * fx(t, xvn, yvn), T * fy(t, xvn, yvn)]\n",
        "    #0 0 0\n",
        "    #1 1/2 1/2\n",
        "    #0 1/2 1/2\n",
        "    # kx1\n",
        "    def fk(x):\n",
        "        # x = k2\n",
        "        xn = [xvn + a[1][0] * k1[0] + a[1][1] * x[0], xvn + a[1][0] * k1[0] + a[1][1] * x[0]]\n",
        "        yn = [yvn + a[1][0] * k1[1] + a[1][1] * x[1], yvn + a[1][0] * k1[1] + a[1][1] * x[1]]\n",
        "        return [T * fx(t + c[0] * T, xn[0], yn[0]) - x[0],\n",
        "              T * fy(t + c[0] * T, xn[1], yn[1]) - x[1],]\n",
        "\n",
        "# def fx(t, xvn, yvn):\n",
        "# return 5*xvn + 3*yvn\n",
        "\n",
        "# def fy(t, xvn, yvn):\n",
        "# return -3*xvn - yvn\n",
        "\n",
        "    def jac_fk(x):        \n",
        "        xn = [xvn + a[1][0] * k1[0] + a[1][1] * x[0], xvn + a[1][0] * k1[0] + a[1][1] * x[0]]\n",
        "        yn = [yvn + a[1][0] * k1[1] + a[1][1] * x[1], yvn + a[1][0] * k1[1] + a[1][1] * x[1]]\n",
        "        return [[(5 * a[1][1]) * T - 1, (3 * a[1][1]) * T],\n",
        "                [(-3 * a[1][1]) * T, -a[1][1] * T - 1]]\n",
        "\n",
        "    sol = optimize.root(fun=fk, x0=[fx(t, xvn, yvn), fy(t, xvn, yvn)],\n",
        "                    jac=jac_fk, method='hybr')\n",
        "    xn2 = xvn + b[0] * k1[0] + b[1] * sol.x[0]\n",
        "    yn2 = yvn + b[0] * k1[1] + b[1] * sol.x[1]\n",
        "    return (xn2, yn2)"
      ]
    },
    {
      "cell_type": "code",
      "execution_count": 7,
      "metadata": {},
      "outputs": [],
      "source": [
        "# def implicit2_method(T, xvn, yvn, t):\n",
        "#     xn = (xvn*(T + 1)*(1+T**2/2) + T**2/2*fx(t, xvn, yvn)*(1+T**2/2) + yvn*(T+1)*3*T**2/2 + 3*T**4/4*fy(t, xvn, yvn))/(1 + T**2/2 - 5*(1 + T**2/2)*(T**2/2) + 9*T**4/3)\n",
        "#     yn = (yvn*(T + 1) + T**2/2*(fy(t, xvn, yvn) - 3*xn)) / (1+T**2/2)\n",
        "#     return (xn, yn)"
      ]
    },
    {
      "cell_type": "markdown",
      "metadata": {},
      "source": [
        "[scipy root](https://docs.scipy.org/doc/scipy/reference/generated/scipy.optimize.root.html),\n",
        "[Jacobian](<https://math.libretexts.org/Bookshelves/Calculus/Supplemental_Modules_(Calculus)/Vector_Calculus/3%3A_Multiple_Integrals/3.8%3A_Jacobians>)\n"
      ]
    },
    {
      "cell_type": "code",
      "execution_count": 8,
      "metadata": {},
      "outputs": [],
      "source": [
        "# \"\"\"Неявный метод Хаммера-Холлингсворта 4-го порядка\"\"\"\n",
        "# def implicit2_method_v(T, xvn, yvn):\n",
        "#      # Таблица Бутчера\n",
        "#      a = [[1/4, 1/4 - math.sqrt(3)/6],\n",
        "#           [1/4 + math.sqrt(3)/6, 1/4]]\n",
        "#      # c = [(1/2 - math.sqrt(3)/6), 1/2 + math.sqrt(3)/6]\n",
        "#      b = [1/2, 1/2]\n",
        "\n",
        "#      # 5x+3y\n",
        "#      # -3x-y\n",
        "#      # x[0] = kx1, x[1] = kx2\n",
        "#      def fk(vec):\n",
        "#           # kx1 = T * fx(t, xvn + a[0][0] * kx1 + a[0][1] * kx2, yvn + a[0][0] * ky1 + a[0][1] * ky2)\n",
        "#           # ky1 = T * fy(t, xvn + a[0][0] * kx1 + a[0][1] * kx2, yvn + a[0][0] * ky1 + a[0][1] * ky2)\n",
        "#           # kx2 = T * fx(t, xvn + a[1][0] * kx1 + a[1][1] * kx2, yvn + a[1][0] * ky1 + a[1][1] * ky2)\n",
        "#           # ky2 = T * fx(t, xvn + a[1][0] * kx1 + a[1][1] * kx2, yvn + a[1][0] * ky1 + a[1][1] * ky2)\n",
        "\n",
        "#           # vec = [kx1, kx2, ky1, ky2]\n",
        "#           xn = [xvn + T * (a[0][0] * vec[0] + a[0][1] * vec[1]), xvn + T * (a[1][0] * vec[0] + a[1][1] * vec[1])]\n",
        "#           yn = [yvn + T * (a[0][0] * vec[2] + a[0][1] * vec[3]), yvn + T * (a[1][0] * vec[2] + a[1][1] * vec[3])]\n",
        "          \n",
        "#           # т.к. уравнения равны нулю, вычитаем k\n",
        "#           return [fx(xn[0], yn[0]) - vec[0],  # kx\n",
        "#                   fx(xn[1], yn[1]) - vec[1],\n",
        "#                   fy(xn[0], yn[0]) - vec[2],  # ky\n",
        "#                   fy(xn[1], yn[1]) - vec[3]]\n",
        "     \n",
        "#      def jac_fk(vec):\n",
        "#           # Якобиан системы, частные производные от каждого\n",
        "#           # уравнения по каждой переменной\n",
        "\n",
        "#           # fx dx = 5\n",
        "#           # fx dy = 3\n",
        "#           # fy dx = -3\n",
        "#           # fy dy = -1\n",
        "#           # умножить на производные от xn, yn по vec[i]\n",
        "#           # vec = [kx1, kx2, ky1, ky2] в таком же порядке берем частные производные\n",
        "#           # в таком же порядке матрица вертикально\n",
        "\n",
        "#           return np.array([[5 * T * a[0][0] - 1, 5 * T * a[0][1], 3 * T * a[0][0], 3 * T * a[0][1]],\n",
        "#                           [5 * T * a[1][0], 5 * T * a[1][1] - 1, 3 * T * a[1][0], 3 * T * a[1][1]],\n",
        "#                           [-3 * T * a[0][0], -3 * T * a[0][1], -T * a[0][0] - 1, -T * a[0][1]],\n",
        "#                           [-3 * T * a[1][0], -3 * T * a[1][1], -T * a[1][0], -T * a[1][1] - 1]])\n",
        "\n",
        "\n",
        "#      sol = optimize.root(fun=fk, x0=[0, 0, 0, 0],\n",
        "#                          jac=jac_fk, method='hybr')\n",
        "#      xn = xvn + T * (b[0] * sol.x[0] + b[1] * sol.x[1])\n",
        "#      yn = yvn + T * (b[0] * sol.x[2] + b[1] * sol.x[3])\n",
        "\n",
        "#      return (xn, yn)"
      ]
    },
    {
      "cell_type": "code",
      "execution_count": 9,
      "metadata": {},
      "outputs": [],
      "source": [
        "# новый шаг\n",
        "def get_p(array):\n",
        "    s = sum([i ** 2 for i in array])\n",
        "    return math.sqrt(s)\n",
        "\n",
        "# T0 - максимальный возможный шаг\n",
        "def new_T(last_T, T0, array, array_prev, L):\n",
        "    p = get_p(array)\n",
        "    F = [i / p for i in array]\n",
        "    p_prev = get_p(array_prev)\n",
        "    F_prev = [i / p_prev for i in array_prev]\n",
        "    X = [(F[i] - F_prev[i]) / last_T for i in range(len(F))]\n",
        "    XX = sum([i ** 2 for i in X])\n",
        "    new_T = T0 / (1 + math.sqrt(L) * XX ** (1/4))\n",
        "    return new_T"
      ]
    },
    {
      "cell_type": "code",
      "execution_count": 10,
      "metadata": {},
      "outputs": [],
      "source": [
        "def implicit2_method(T, xvn3, yvn3, t):\n",
        "    yn3 = (2*(1-5/2*T)*yvn3-(3*xvn3+yvn3)*(T-5/2*T*T)-3/2*T*T*(5*xvn3 + 3*yvn3)-3*T*xvn3)/(2*(1-2*T+T*T))\n",
        "    xn3 = (1/2*(5*xvn3+3*yvn3+3*yn3)*T + xvn3)/(1-5/2*T)\n",
        "    return (xn3, yn3)"
      ]
    },
    {
      "cell_type": "code",
      "execution_count": 11,
      "metadata": {},
      "outputs": [],
      "source": [
        "def do_method(method, t_start, t_finish, array, T):\n",
        "    tl = [t_start]\n",
        "    array_dif = [(fx(0, array[-1][0], array[-1][1]),\n",
        "                    fy(0, array[-1][0], array[-1][1]))]\n",
        "    while tl[-1] <= t_finish:\n",
        "        array.append(method(T, array[-1][0], array[-1][1], 0))\n",
        "        array_dif.append((fx(0, array[-1][0], array[-1][1]),\n",
        "                fy(0, array[-1][0], array[-1][1])))\n",
        "        tl.append(tl[-1] + T)\n",
        "    return (tl, array, array_dif)"
      ]
    },
    {
      "cell_type": "code",
      "execution_count": 17,
      "metadata": {},
      "outputs": [
        {
          "data": {
            "text/plain": [
              "<matplotlib.legend.Legend at 0x7f48bd076050>"
            ]
          },
          "execution_count": 17,
          "metadata": {},
          "output_type": "execute_result"
        },
        {
          "data": {
            "image/png": "[encoded data removed]",
            "text/plain": [
              "<Figure size 600x600 with 1 Axes>"
            ]
          },
          "metadata": {},
          "output_type": "display_data"
        },
        {
          "data": {
            "image/png": "[encoded data removed]",
            "text/plain": [
              "<Figure size 600x600 with 1 Axes>"
            ]
          },
          "metadata": {},
          "output_type": "display_data"
        }
      ],
      "source": [
        "import math\n",
        "from statistics import mean\n",
        "import matplotlib.pyplot as plt\n",
        "from typing import Callable\n",
        "\n",
        "from num_methods import Solver2\n",
        "from drawing import draw\n",
        "\n",
        "def f(T_in):\n",
        "    T = T_in\n",
        "    C1 = 1\n",
        "    C2 = 2\n",
        "    # T = 0.001\n",
        "    t_start = 0\n",
        "    t_finish = 5\n",
        "    # Первый элемент это x, второй y\n",
        "    # array0 = [(2, 0)]\n",
        "    \n",
        "    lst =  ((C1+3*C2*t_start) * math.e**(2*t_start), (C2 - C1 - 3 * C2 * t_start) * math.e**(2*t_start))\n",
        "    sol = Solver2((fx, fy), [], lst, (t_start, t_finish))\n",
        "    array3 = do_method(implicit2_method, t_start, t_finish, [lst], T_in)\n",
        "    # array2 = do_method(implicit2_method, t_start, t_finish, [lst], variables, False)\n",
        "    # array2 = sol.do_method(sol.explicit4_method, T_in, False)\n",
        "    array2 = do_method(implicit2_method, t_start, t_finish, [lst], T_in)\n",
        "    array1 = sol.do_method(sol.explicit5_method, T_in, False)\n",
        "    # array3 = do_method(implicit2_method_v, t_start, t_finish, [lst], T_in)\n",
        "\n",
        "    arrayx1 = [i[0] for i in array1[1]]\n",
        "    arrayy1 = [i[1] for i in array1[1]]\n",
        "    arrayx2 = [i[0] for i in array2[1]]\n",
        "    arrayy2 = [i[1] for i in array2[1]]\n",
        "    arrayx3 = [i[0] for i in array3[1]]\n",
        "    arrayy3 = [i[1] for i in array3[1]]\n",
        "    # arrayx4 = [i[0] for i in array3[1]]\n",
        "    # arrayy4 = [i[1] for i in array3[1]]\n",
        "    # print(len(array1[0]), len(array2[0]), len(array3[0]))\n",
        "    max_dif = [0, 0, 0]\n",
        "    tl = array2[0]\n",
        "    for i in range(len(array1[0])):\n",
        "        real_x = (C1+3*C2*tl[i]) * math.e**(2*tl[i])\n",
        "        real_y = (C2 - C1 - 3 * C2 * tl[i]) * math.e**(2*tl[i])\n",
        "        max_dif[0] = max(max_dif[0], abs(arrayx1[i] - real_x))\n",
        "        max_dif[0] = max(max_dif[0], abs(arrayy1[i] - real_y))\n",
        "        max_dif[1] = max(max_dif[1], abs(arrayx2[i] - real_x))\n",
        "        max_dif[1] = max(max_dif[1], abs(arrayy2[i] - real_y))\n",
        "        max_dif[2] = max(max_dif[2], abs(arrayx3[i] - real_x))\n",
        "        max_dif[2] = max(max_dif[2], abs(arrayy3[i] - real_y))\n",
        "        # print(real_x, arrayx2[i], arrayx3[i])\n",
        "    # check\n",
        "    # args = np.linspace(t_start, t_finish, 500)\n",
        "    # # args = np.linspace(t_start, t_finish, int((t_finish - t_start) / T))\n",
        "    # x_true = list([(C1+3*C2*t) * math.e**(2*t) for t in args])\n",
        "    # draw([array3[0], args], [arrayx3, x_true], ['fake', 'real'])\n",
        "    # print(arrayx1)\n",
        "    # print(arrayx3)\n",
        "    # print(x_true)\n",
        "    # return \n",
        "    return max_dif\n",
        "\n",
        "t_l = list()\n",
        "diff_l1 = list()\n",
        "diff_l2 = list()\n",
        "diff_l3 = list()\n",
        "\n",
        "t = 0.009\n",
        "dif = f(t)\n",
        "crd_move_y1 = math.log(dif[0])\n",
        "crd_move_x = math.log(t)\n",
        "crd_move_y2 = math.log(dif[1])\n",
        "crd_move_y3 = math.log(dif[2])\n",
        "T = 0.1\n",
        "while t <= T:\n",
        "    if abs(t - 0.2)<0.000001 or abs(t-0.5)<0.0000001:\n",
        "        t += 0.001\n",
        "        continue\n",
        "    # print(t, end=\" \")\n",
        "    dif = f(t)\n",
        "    # break\n",
        "    # print(t, dif[2])\n",
        "    diff_l1.append(math.log(dif[0]) - crd_move_y1)\n",
        "    diff_l2.append(math.log(dif[1]) - crd_move_y2)\n",
        "    diff_l3.append(math.log(dif[2]) - crd_move_y3)\n",
        "    t_l.append(math.log(t) - crd_move_x)\n",
        "    t += 0.001\n",
        "    # TODO:\n",
        "    # break\n",
        "\n",
        "# mdif = min(diff_l1)\n",
        "# for i in range(len(t_l)):\n",
        "#     if diff_l1[i] == mdif:\n",
        "#         print(t_l[i], mdif)\n",
        "\n",
        "# fig1 = plt.figure(figsize=(8, 8))\n",
        "# plt = fig1.add_subplot(221)\n",
        "# plt = fig1.add_subplot(222)\n",
        "# plt = fig1.add_subplot(223)\n",
        "\n",
        "ls = 15\n",
        "fs = 6\n",
        "fonts = 15\n",
        "fig = plt.figure(figsize=(fs,fs))\n",
        "px1 = fig.add_subplot(111)\n",
        "px1.plot(t_l, diff_l1, label=\"Неявный метод первого порядка\" + f\" {round(mean(diff_l1[i]/t_l[i] for i in range(1, len(t_l))), 3)}\")\n",
        "px1.set_xticks(np.arange(0, math.ceil(math.log(T) - crd_move_x) + 1, step=1))\n",
        "px1.set_yticks(np.arange(0, math.ceil(math.log(T) - crd_move_x) + 1, step=1))\n",
        "px1.tick_params(axis=\"both\", which=\"major\", labelsize=ls)\n",
        "px1.set_xlabel(\"ln(T)\", fontsize = fonts)\n",
        "px1.set_ylabel(\"ln(E(T))\", fontsize = fonts)\n",
        "px1.legend(fontsize=fonts-3)\n",
        "\n",
        "fig2 = plt.figure(figsize=(fs, fs))\n",
        "px2 = fig2.add_subplot(111)\n",
        "px2.plot(t_l, diff_l2, label=\"Неявный метод второго порядка\" + f\" {round(mean(diff_l2[i]/t_l[i] for i in range(1, len(t_l))), 3)}\", color=\"green\")\n",
        "to = max(math.ceil(math.log(dif[1]) - crd_move_y2), math.ceil(math.log(T) - crd_move_x))\n",
        "px2.set_xticks(np.arange(0, to + 1, step=1))\n",
        "px2.set_yticks(np.arange(0, to + 1, step=1))\n",
        "px2.tick_params(axis=\"both\", which=\"major\", labelsize=ls)\n",
        "px2.set_xlabel(\"ln(T)\", fontsize=fonts)\n",
        "px2.set_ylabel(\"ln(E(T))\", fontsize=fonts)\n",
        "px2.legend(fontsize=fonts-3)\n",
        "\n",
        "# plt.plot(t_l, diff_l3, label=\"рунге 4 порядка\" + f\" {mean(diff_l3[i]/t_l[i] for i in range(1, len(t_l)))}\", color=\"red\")\n",
        "# to = max(math.ceil(math.log(dif[2]) - crd_move_y3), math.ceil(math.log(T) - crd_move_x))\n",
        "# plt.set_xticks(np.arange(0, to + 1, step=1))\n",
        "# plt.set_yticks(np.arange(0, to + 1, step=1))\n",
        "# plt.set_xlabel(\"ln(T)\")\n",
        "# plt.set_ylabel(\"ln(E(T))\")\n",
        "# plt.legend()\n",
        "# plt.show()\n",
        "\n",
        "    "
      ]
    }
  ],
  "metadata": {
    "accelerator": "GPU",
    "colab": {
      "gpuType": "T4",
      "provenance": []
    },
    "kernelspec": {
      "display_name": "Python 3",
      "name": "python3"
    },
    "language_info": {
      "codemirror_mode": {
        "name": "ipython",
        "version": 3
      },
      "file_extension": ".py",
      "mimetype": "text/x-python",
      "name": "python",
      "nbconvert_exporter": "python",
      "pygments_lexer": "ipython3",
      "version": "3.10.12"
    }
  },
  "nbformat": 4,
  "nbformat_minor": 0
}
