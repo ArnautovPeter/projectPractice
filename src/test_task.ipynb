{
  "cells": [
    {
      "cell_type": "code",
      "execution_count": 1,
      "metadata": {
        "id": "DP3Dj-t-YY3k"
      },
      "outputs": [],
      "source": [
        "import matplotlib.pyplot as plt\n",
        "from math import exp"
      ]
    },
    {
      "cell_type": "code",
      "execution_count": 2,
      "metadata": {
        "id": "y_jBD8icYY3l"
      },
      "outputs": [],
      "source": [
        "def fx(t, xvn, yvn):\n",
        "    return 5*xvn + 3*yvn\n",
        "\n",
        "def fy(t, xvn, yvn):\n",
        "    return -3*xvn - yvn\n",
        "\n",
        "def fx2(t):\n",
        "    return (1 + 6 * t) * exp(2 * t)\n",
        "\n",
        "def fy2(t):\n",
        "    return (1 - 6 * t) * exp(2 * t)"
      ]
    },
    {
      "cell_type": "code",
      "execution_count": 3,
      "metadata": {
        "id": "HVU1xKrPYY3m"
      },
      "outputs": [],
      "source": [
        "def jac2(T, xvn, yvn, t, k1, table):\n",
        "    def jac(x):\n",
        "        xn = xvn + table.a[1][0] * k1[0] + table.a[1][1] * x[0]\n",
        "        yn = yvn + table.a[1][0] * k1[1] + table.a[1][1] * x[1]\n",
        "        return [[(5 * table.a[1][1]) * T - 1, (3 * table.a[1][1]) * T],\n",
        "                [(-3 * table.a[1][1]) * T, -table.a[1][1] * T - 1]]\n",
        "    return jac"
      ]
    },
    {
      "cell_type": "markdown",
      "metadata": {},
      "source": [
        "[scipy root](https://docs.scipy.org/doc/scipy/reference/generated/scipy.optimize.root.html),\n",
        "[Jacobian](<https://math.libretexts.org/Bookshelves/Calculus/Supplemental_Modules_(Calculus)/Vector_Calculus/3%3A_Multiple_Integrals/3.8%3A_Jacobians>)\n"
      ]
    },
    {
      "cell_type": "code",
      "execution_count": 4,
      "metadata": {},
      "outputs": [],
      "source": [
        "# \"\"\"Неявный метод Хаммера-Холлингсворта 4-го порядка\"\"\"\n",
        "# def implicit2_method_v(T, xvn, yvn):\n",
        "#      # Таблица Бутчера\n",
        "#      a = [[1/4, 1/4 - math.sqrt(3)/6],\n",
        "#           [1/4 + math.sqrt(3)/6, 1/4]]\n",
        "#      # c = [(1/2 - math.sqrt(3)/6), 1/2 + math.sqrt(3)/6]\n",
        "#      b = [1/2, 1/2]\n",
        "\n",
        "#      # 5x+3y\n",
        "#      # -3x-y\n",
        "#      # x[0] = kx1, x[1] = kx2\n",
        "#      def fk(vec):\n",
        "#           # kx1 = T * fx(t, xvn + a[0][0] * kx1 + a[0][1] * kx2, yvn + a[0][0] * ky1 + a[0][1] * ky2)\n",
        "#           # ky1 = T * fy(t, xvn + a[0][0] * kx1 + a[0][1] * kx2, yvn + a[0][0] * ky1 + a[0][1] * ky2)\n",
        "#           # kx2 = T * fx(t, xvn + a[1][0] * kx1 + a[1][1] * kx2, yvn + a[1][0] * ky1 + a[1][1] * ky2)\n",
        "#           # ky2 = T * fx(t, xvn + a[1][0] * kx1 + a[1][1] * kx2, yvn + a[1][0] * ky1 + a[1][1] * ky2)\n",
        "\n",
        "#           # vec = [kx1, kx2, ky1, ky2]\n",
        "#           xn = [xvn + T * (a[0][0] * vec[0] + a[0][1] * vec[1]), xvn + T * (a[1][0] * vec[0] + a[1][1] * vec[1])]\n",
        "#           yn = [yvn + T * (a[0][0] * vec[2] + a[0][1] * vec[3]), yvn + T * (a[1][0] * vec[2] + a[1][1] * vec[3])]\n",
        "          \n",
        "#           # т.к. уравнения равны нулю, вычитаем k\n",
        "#           return [fx(xn[0], yn[0]) - vec[0],  # kx\n",
        "#                   fx(xn[1], yn[1]) - vec[1],\n",
        "#                   fy(xn[0], yn[0]) - vec[2],  # ky\n",
        "#                   fy(xn[1], yn[1]) - vec[3]]\n",
        "     \n",
        "#      def jac_fk(vec):\n",
        "#           # Якобиан системы, частные производные от каждого\n",
        "#           # уравнения по каждой переменной\n",
        "\n",
        "#           # fx dx = 5\n",
        "#           # fx dy = 3\n",
        "#           # fy dx = -3\n",
        "#           # fy dy = -1\n",
        "#           # умножить на производные от xn, yn по vec[i]\n",
        "#           # vec = [kx1, kx2, ky1, ky2] в таком же порядке берем частные производные\n",
        "#           # в таком же порядке матрица вертикально\n",
        "\n",
        "#           return np.array([[5 * T * a[0][0] - 1, 5 * T * a[0][1], 3 * T * a[0][0], 3 * T * a[0][1]],\n",
        "#                           [5 * T * a[1][0], 5 * T * a[1][1] - 1, 3 * T * a[1][0], 3 * T * a[1][1]],\n",
        "#                           [-3 * T * a[0][0], -3 * T * a[0][1], -T * a[0][0] - 1, -T * a[0][1]],\n",
        "#                           [-3 * T * a[1][0], -3 * T * a[1][1], -T * a[1][0], -T * a[1][1] - 1]])\n",
        "\n",
        "\n",
        "#      sol = optimize.root(fun=fk, x0=[0, 0, 0, 0],\n",
        "#                          jac=jac_fk, method='hybr')\n",
        "#      xn = xvn + T * (b[0] * sol.x[0] + b[1] * sol.x[1])\n",
        "#      yn = yvn + T * (b[0] * sol.x[2] + b[1] * sol.x[3])\n",
        "\n",
        "#      return (xn, yn)"
      ]
    },
    {
      "cell_type": "code",
      "execution_count": 5,
      "metadata": {},
      "outputs": [
        {
          "ename": "TypeError",
          "evalue": "fx() takes 3 positional arguments but 4 were given",
          "output_type": "error",
          "traceback": [
            "\u001b[0;31m---------------------------------------------------------------------------\u001b[0m",
            "\u001b[0;31mTypeError\u001b[0m                                 Traceback (most recent call last)",
            "Cell \u001b[0;32mIn[5], line 9\u001b[0m\n\u001b[1;32m      7\u001b[0m sol \u001b[38;5;241m=\u001b[39m Solver2((fx, fy), [\u001b[38;5;28;01mNone\u001b[39;00m, jac2], [a], (fx2(\u001b[38;5;241m0\u001b[39m), fy2(\u001b[38;5;241m0\u001b[39m)), (t_start, t_finish))\n\u001b[1;32m      8\u001b[0m tester \u001b[38;5;241m=\u001b[39m Test2((fx2, fy2))\n\u001b[0;32m----> 9\u001b[0m \u001b[43mtester\u001b[49m\u001b[38;5;241;43m.\u001b[39;49m\u001b[43mtest_methods\u001b[49m\u001b[43m(\u001b[49m\u001b[43m(\u001b[49m\u001b[38;5;241;43m0.009\u001b[39;49m\u001b[43m,\u001b[49m\u001b[43m \u001b[49m\u001b[38;5;241;43m0.1\u001b[39;49m\u001b[43m)\u001b[49m\u001b[43m,\u001b[49m\u001b[43m \u001b[49m\u001b[38;5;241;43m0.01\u001b[39;49m\u001b[43m,\u001b[49m\u001b[43m \u001b[49m\u001b[43msol\u001b[49m\u001b[43m,\u001b[49m\u001b[43m \u001b[49m\u001b[43m[\u001b[49m\u001b[43msol\u001b[49m\u001b[38;5;241;43m.\u001b[39;49m\u001b[43mexplicit1\u001b[49m\u001b[43m]\u001b[49m\u001b[43m)\u001b[49m\n",
            "File \u001b[0;32m~/projectPractice/src/test_methods.py:27\u001b[0m, in \u001b[0;36mTest2.test_methods\u001b[0;34m(self, T_limits, step, sol, methods)\u001b[0m\n\u001b[1;32m     25\u001b[0m max_error \u001b[38;5;241m=\u001b[39m []\n\u001b[1;32m     26\u001b[0m \u001b[38;5;28;01mwhile\u001b[39;00m TL[\u001b[38;5;241m-\u001b[39m\u001b[38;5;241m1\u001b[39m] \u001b[38;5;241m<\u001b[39m\u001b[38;5;241m=\u001b[39m T_limits[\u001b[38;5;241m1\u001b[39m]:\n\u001b[0;32m---> 27\u001b[0m     results \u001b[38;5;241m=\u001b[39m \u001b[43m[\u001b[49m\u001b[43msol\u001b[49m\u001b[38;5;241;43m.\u001b[39;49m\u001b[43mdo_method\u001b[49m\u001b[43m(\u001b[49m\u001b[43mmethod\u001b[49m\u001b[43m,\u001b[49m\u001b[43m \u001b[49m\u001b[43mTL\u001b[49m\u001b[43m[\u001b[49m\u001b[38;5;241;43m-\u001b[39;49m\u001b[38;5;241;43m1\u001b[39;49m\u001b[43m]\u001b[49m\u001b[43m,\u001b[49m\u001b[43m \u001b[49m\u001b[43mdynamic_step\u001b[49m\u001b[38;5;241;43m=\u001b[39;49m\u001b[38;5;28;43;01mFalse\u001b[39;49;00m\u001b[43m)\u001b[49m\u001b[43m \u001b[49m\u001b[38;5;28;43;01mfor\u001b[39;49;00m\u001b[43m \u001b[49m\u001b[43mmethod\u001b[49m\u001b[43m \u001b[49m\u001b[38;5;129;43;01min\u001b[39;49;00m\u001b[43m \u001b[49m\u001b[43mmethods\u001b[49m\u001b[43m]\u001b[49m\n\u001b[1;32m     28\u001b[0m     max_error_step \u001b[38;5;241m=\u001b[39m [\u001b[38;5;241m0\u001b[39m] \u001b[38;5;241m*\u001b[39m \u001b[38;5;28mlen\u001b[39m(methods)\n\u001b[1;32m     29\u001b[0m     tl \u001b[38;5;241m=\u001b[39m results[\u001b[38;5;241m0\u001b[39m][\u001b[38;5;241m0\u001b[39m]  \u001b[38;5;66;03m# т.к. для всех одинаковое количество шагов\u001b[39;00m\n",
            "File \u001b[0;32m~/projectPractice/src/test_methods.py:27\u001b[0m, in \u001b[0;36m<listcomp>\u001b[0;34m(.0)\u001b[0m\n\u001b[1;32m     25\u001b[0m max_error \u001b[38;5;241m=\u001b[39m []\n\u001b[1;32m     26\u001b[0m \u001b[38;5;28;01mwhile\u001b[39;00m TL[\u001b[38;5;241m-\u001b[39m\u001b[38;5;241m1\u001b[39m] \u001b[38;5;241m<\u001b[39m\u001b[38;5;241m=\u001b[39m T_limits[\u001b[38;5;241m1\u001b[39m]:\n\u001b[0;32m---> 27\u001b[0m     results \u001b[38;5;241m=\u001b[39m [\u001b[43msol\u001b[49m\u001b[38;5;241;43m.\u001b[39;49m\u001b[43mdo_method\u001b[49m\u001b[43m(\u001b[49m\u001b[43mmethod\u001b[49m\u001b[43m,\u001b[49m\u001b[43m \u001b[49m\u001b[43mTL\u001b[49m\u001b[43m[\u001b[49m\u001b[38;5;241;43m-\u001b[39;49m\u001b[38;5;241;43m1\u001b[39;49m\u001b[43m]\u001b[49m\u001b[43m,\u001b[49m\u001b[43m \u001b[49m\u001b[43mdynamic_step\u001b[49m\u001b[38;5;241;43m=\u001b[39;49m\u001b[38;5;28;43;01mFalse\u001b[39;49;00m\u001b[43m)\u001b[49m \u001b[38;5;28;01mfor\u001b[39;00m method \u001b[38;5;129;01min\u001b[39;00m methods]\n\u001b[1;32m     28\u001b[0m     max_error_step \u001b[38;5;241m=\u001b[39m [\u001b[38;5;241m0\u001b[39m] \u001b[38;5;241m*\u001b[39m \u001b[38;5;28mlen\u001b[39m(methods)\n\u001b[1;32m     29\u001b[0m     tl \u001b[38;5;241m=\u001b[39m results[\u001b[38;5;241m0\u001b[39m][\u001b[38;5;241m0\u001b[39m]  \u001b[38;5;66;03m# т.к. для всех одинаковое количество шагов\u001b[39;00m\n",
            "File \u001b[0;32m~/projectPractice/src/num_methods.py:189\u001b[0m, in \u001b[0;36mSolver2.do_method\u001b[0;34m(self, method, T0, dynamic_step)\u001b[0m\n\u001b[1;32m    187\u001b[0m array_T \u001b[38;5;241m=\u001b[39m [T]\n\u001b[1;32m    188\u001b[0m \u001b[38;5;28;01mwhile\u001b[39;00m tl[\u001b[38;5;241m-\u001b[39m\u001b[38;5;241m1\u001b[39m] \u001b[38;5;241m<\u001b[39m\u001b[38;5;241m=\u001b[39m \u001b[38;5;28mself\u001b[39m\u001b[38;5;241m.\u001b[39m_t_limits[\u001b[38;5;241m1\u001b[39m]:\n\u001b[0;32m--> 189\u001b[0m     array\u001b[38;5;241m.\u001b[39mappend(\u001b[43mmethod\u001b[49m\u001b[43m(\u001b[49m\u001b[43mT\u001b[49m\u001b[43m,\u001b[49m\u001b[43m \u001b[49m\u001b[43marray\u001b[49m\u001b[43m[\u001b[49m\u001b[38;5;241;43m-\u001b[39;49m\u001b[38;5;241;43m1\u001b[39;49m\u001b[43m]\u001b[49m\u001b[43m[\u001b[49m\u001b[38;5;241;43m0\u001b[39;49m\u001b[43m]\u001b[49m\u001b[43m,\u001b[49m\u001b[43m \u001b[49m\u001b[43marray\u001b[49m\u001b[43m[\u001b[49m\u001b[38;5;241;43m-\u001b[39;49m\u001b[38;5;241;43m1\u001b[39;49m\u001b[43m]\u001b[49m\u001b[43m[\u001b[49m\u001b[38;5;241;43m1\u001b[39;49m\u001b[43m]\u001b[49m\u001b[43m,\u001b[49m\u001b[43m \u001b[49m\u001b[43mtl\u001b[49m\u001b[43m[\u001b[49m\u001b[38;5;241;43m-\u001b[39;49m\u001b[38;5;241;43m1\u001b[39;49m\u001b[43m]\u001b[49m\u001b[43m)\u001b[49m)\n\u001b[1;32m    190\u001b[0m     \u001b[38;5;28;01mif\u001b[39;00m dynamic_step:\n\u001b[1;32m    191\u001b[0m         T \u001b[38;5;241m=\u001b[39m \u001b[38;5;28mself\u001b[39m\u001b[38;5;241m.\u001b[39mnew_T(array_T[\u001b[38;5;241m-\u001b[39m\u001b[38;5;241m1\u001b[39m], T0, array[\u001b[38;5;241m-\u001b[39m\u001b[38;5;241m1\u001b[39m], array[\u001b[38;5;241m-\u001b[39m\u001b[38;5;241m2\u001b[39m],\n\u001b[1;32m    192\u001b[0m                         \u001b[38;5;28mself\u001b[39m\u001b[38;5;241m.\u001b[39m_t_limits[\u001b[38;5;241m1\u001b[39m] \u001b[38;5;241m-\u001b[39m \u001b[38;5;28mself\u001b[39m\u001b[38;5;241m.\u001b[39m_t_limits[\u001b[38;5;241m0\u001b[39m])\n",
            "File \u001b[0;32m~/projectPractice/src/num_methods.py:70\u001b[0m, in \u001b[0;36mSolver2.explicit1\u001b[0;34m(self, T, xvn, yvn, t)\u001b[0m\n\u001b[1;32m     68\u001b[0m \u001b[38;5;28;01mdef\u001b[39;00m \u001b[38;5;21mexplicit1\u001b[39m(\u001b[38;5;28mself\u001b[39m, T, xvn, yvn, t):\n\u001b[1;32m     69\u001b[0m \u001b[38;5;250m    \u001b[39m\u001b[38;5;124;03m\"\"\"Явный метод Эйлера 1-го порядка\"\"\"\u001b[39;00m\n\u001b[0;32m---> 70\u001b[0m     \u001b[38;5;28;01mreturn\u001b[39;00m \u001b[38;5;28;43mself\u001b[39;49m\u001b[38;5;241;43m.\u001b[39;49m\u001b[43m_runge_kutta_exp\u001b[49m\u001b[43m(\u001b[49m\u001b[43mT\u001b[49m\u001b[43m,\u001b[49m\u001b[43m \u001b[49m\u001b[43mxvn\u001b[49m\u001b[43m,\u001b[49m\u001b[43m \u001b[49m\u001b[43myvn\u001b[49m\u001b[43m,\u001b[49m\u001b[43m \u001b[49m\u001b[43mt\u001b[49m\u001b[43m,\u001b[49m\u001b[43m \u001b[49m\u001b[43mSolver2\u001b[49m\u001b[38;5;241;43m.\u001b[39;49m\u001b[43m_expl1_table\u001b[49m\u001b[43m)\u001b[49m\n",
            "File \u001b[0;32m~/projectPractice/src/num_methods.py:81\u001b[0m, in \u001b[0;36mSolver2._runge_kutta_exp\u001b[0;34m(self, T, xvn, yvn, t, table)\u001b[0m\n\u001b[1;32m     80\u001b[0m \u001b[38;5;28;01mdef\u001b[39;00m \u001b[38;5;21m_runge_kutta_exp\u001b[39m(\u001b[38;5;28mself\u001b[39m, T: \u001b[38;5;28mfloat\u001b[39m, xvn: \u001b[38;5;28mfloat\u001b[39m, yvn: \u001b[38;5;28mfloat\u001b[39m, t: \u001b[38;5;28mfloat\u001b[39m, table: ButcherTable):\n\u001b[0;32m---> 81\u001b[0m     kx \u001b[38;5;241m=\u001b[39m [T \u001b[38;5;241m*\u001b[39m \u001b[38;5;28;43mself\u001b[39;49m\u001b[38;5;241;43m.\u001b[39;49m\u001b[43m_fx\u001b[49m\u001b[43m(\u001b[49m\u001b[43mt\u001b[49m\u001b[43m,\u001b[49m\u001b[43m \u001b[49m\u001b[43mxvn\u001b[49m\u001b[43m,\u001b[49m\u001b[43m \u001b[49m\u001b[43myvn\u001b[49m\u001b[43m,\u001b[49m\u001b[43m \u001b[49m\u001b[38;5;241;43m*\u001b[39;49m\u001b[38;5;28;43mself\u001b[39;49m\u001b[38;5;241;43m.\u001b[39;49m\u001b[43m_params\u001b[49m\u001b[43m)\u001b[49m]\n\u001b[1;32m     82\u001b[0m     ky \u001b[38;5;241m=\u001b[39m [T \u001b[38;5;241m*\u001b[39m \u001b[38;5;28mself\u001b[39m\u001b[38;5;241m.\u001b[39m_fy(t, xvn, yvn, \u001b[38;5;241m*\u001b[39m\u001b[38;5;28mself\u001b[39m\u001b[38;5;241m.\u001b[39m_params)]\n\u001b[1;32m     84\u001b[0m     \u001b[38;5;28;01mfor\u001b[39;00m i \u001b[38;5;129;01min\u001b[39;00m \u001b[38;5;28mrange\u001b[39m(table\u001b[38;5;241m.\u001b[39ms):\n",
            "\u001b[0;31mTypeError\u001b[0m: fx() takes 3 positional arguments but 4 were given"
          ]
        }
      ],
      "source": [
        "from num_methods import Solver2\n",
        "from test_methods import Test2\n",
        "\n",
        "t_start = 0\n",
        "t_finish = 4\n",
        "sol = Solver2((fx, fy), [None, jac2], [], (fx2(0), fy2(0)), (t_start, t_finish))\n",
        "tester = Test2((fx2, fy2))\n",
        "tester.test_methods((0.009, 0.1), 0.01, sol, [sol.explicit1])"
      ]
    }
  ],
  "metadata": {
    "accelerator": "GPU",
    "colab": {
      "gpuType": "T4",
      "provenance": []
    },
    "kernelspec": {
      "display_name": "Python 3",
      "name": "python3"
    },
    "language_info": {
      "codemirror_mode": {
        "name": "ipython",
        "version": 3
      },
      "file_extension": ".py",
      "mimetype": "text/x-python",
      "name": "python",
      "nbconvert_exporter": "python",
      "pygments_lexer": "ipython3",
      "version": "3.11.2"
    }
  },
  "nbformat": 4,
  "nbformat_minor": 0
}
