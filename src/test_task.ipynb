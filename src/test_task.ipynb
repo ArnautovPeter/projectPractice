{
  "cells": [
    {
      "cell_type": "code",
      "execution_count": 24,
      "metadata": {
        "id": "DP3Dj-t-YY3k"
      },
      "outputs": [],
      "source": [
        "import matplotlib.pyplot as plt\n",
        "from math import exp"
      ]
    },
    {
      "cell_type": "code",
      "execution_count": 25,
      "metadata": {
        "id": "y_jBD8icYY3l"
      },
      "outputs": [],
      "source": [
        "def fx(t, xvn, yvn):\n",
        "    return 5*xvn + 3*yvn\n",
        "\n",
        "def fy(t, xvn, yvn):\n",
        "    return -3*xvn - yvn\n",
        "\n",
        "def fx2(t):\n",
        "    return (1 + 6 * t) * exp(2 * t)\n",
        "\n",
        "def fy2(t):\n",
        "    return (1 - 6 * t) * exp(2 * t)"
      ]
    },
    {
      "cell_type": "code",
      "execution_count": 26,
      "metadata": {},
      "outputs": [],
      "source": [
        "# неявный 1\n",
        "def jac1(T, xvn, yvn, t, table, k):\n",
        "  def jac_f(x):\n",
        "    return [[5 * x[0] - 1, 3 * x[1]],\n",
        "            [-3 * x[0], -1 * x[1] - 1]]\n",
        "  return jac_f"
      ]
    },
    {
      "cell_type": "code",
      "execution_count": 27,
      "metadata": {
        "id": "HVU1xKrPYY3m"
      },
      "outputs": [],
      "source": [
        "def jac2(T, xvn, yvn, t, table, k):\n",
        "    def jac(x):\n",
        "        return [[(5 * table.a[1][1]) * T - 1, (3 * table.a[1][1]) * T],\n",
        "                [(-3 * table.a[1][1]) * T, -table.a[1][1] * T - 1]]\n",
        "    return jac"
      ]
    },
    {
      "cell_type": "markdown",
      "metadata": {},
      "source": [
        "[scipy root](https://docs.scipy.org/doc/scipy/reference/generated/scipy.optimize.root.html),\n",
        "[Jacobian](<https://math.libretexts.org/Bookshelves/Calculus/Supplemental_Modules_(Calculus)/Vector_Calculus/3%3A_Multiple_Integrals/3.8%3A_Jacobians>)\n"
      ]
    },
    {
      "cell_type": "code",
      "execution_count": 28,
      "metadata": {},
      "outputs": [],
      "source": [
        "# \"\"\"Неявный метод Хаммера-Холлингсворта 4-го порядка\"\"\"\n",
        "# def implicit2_method_v(T, xvn, yvn):\n",
        "#      # Таблица Бутчера\n",
        "#      a = [[1/4, 1/4 - math.sqrt(3)/6],\n",
        "#           [1/4 + math.sqrt(3)/6, 1/4]]\n",
        "#      # c = [(1/2 - math.sqrt(3)/6), 1/2 + math.sqrt(3)/6]\n",
        "#      b = [1/2, 1/2]\n",
        "\n",
        "#      # 5x+3y\n",
        "#      # -3x-y\n",
        "#      # x[0] = kx1, x[1] = kx2\n",
        "#      def fk(vec):\n",
        "#           # kx1 = T * fx(t, xvn + a[0][0] * kx1 + a[0][1] * kx2, yvn + a[0][0] * ky1 + a[0][1] * ky2)\n",
        "#           # ky1 = T * fy(t, xvn + a[0][0] * kx1 + a[0][1] * kx2, yvn + a[0][0] * ky1 + a[0][1] * ky2)\n",
        "#           # kx2 = T * fx(t, xvn + a[1][0] * kx1 + a[1][1] * kx2, yvn + a[1][0] * ky1 + a[1][1] * ky2)\n",
        "#           # ky2 = T * fx(t, xvn + a[1][0] * kx1 + a[1][1] * kx2, yvn + a[1][0] * ky1 + a[1][1] * ky2)\n",
        "\n",
        "#           # vec = [kx1, kx2, ky1, ky2]\n",
        "#           xn = [xvn + T * (a[0][0] * vec[0] + a[0][1] * vec[1]), xvn + T * (a[1][0] * vec[0] + a[1][1] * vec[1])]\n",
        "#           yn = [yvn + T * (a[0][0] * vec[2] + a[0][1] * vec[3]), yvn + T * (a[1][0] * vec[2] + a[1][1] * vec[3])]\n",
        "          \n",
        "#           # т.к. уравнения равны нулю, вычитаем k\n",
        "#           return [fx(xn[0], yn[0]) - vec[0],  # kx\n",
        "#                   fx(xn[1], yn[1]) - vec[1],\n",
        "#                   fy(xn[0], yn[0]) - vec[2],  # ky\n",
        "#                   fy(xn[1], yn[1]) - vec[3]]\n",
        "     \n",
        "#      def jac_fk(vec):\n",
        "#           # Якобиан системы, частные производные от каждого\n",
        "#           # уравнения по каждой переменной\n",
        "\n",
        "#           # fx dx = 5\n",
        "#           # fx dy = 3\n",
        "#           # fy dx = -3\n",
        "#           # fy dy = -1\n",
        "#           # умножить на производные от xn, yn по vec[i]\n",
        "#           # vec = [kx1, kx2, ky1, ky2] в таком же порядке берем частные производные\n",
        "#           # в таком же порядке матрица вертикально\n",
        "\n",
        "#           return np.array([[5 * T * a[0][0] - 1, 5 * T * a[0][1], 3 * T * a[0][0], 3 * T * a[0][1]],\n",
        "#                           [5 * T * a[1][0], 5 * T * a[1][1] - 1, 3 * T * a[1][0], 3 * T * a[1][1]],\n",
        "#                           [-3 * T * a[0][0], -3 * T * a[0][1], -T * a[0][0] - 1, -T * a[0][1]],\n",
        "#                           [-3 * T * a[1][0], -3 * T * a[1][1], -T * a[1][0], -T * a[1][1] - 1]])\n",
        "\n",
        "\n",
        "#      sol = optimize.root(fun=fk, x0=[0, 0, 0, 0],\n",
        "#                          jac=jac_fk, method='hybr')\n",
        "#      xn = xvn + T * (b[0] * sol.x[0] + b[1] * sol.x[1])\n",
        "#      yn = yvn + T * (b[0] * sol.x[2] + b[1] * sol.x[3])\n",
        "\n",
        "#      return (xn, yn)"
      ]
    },
    {
      "cell_type": "code",
      "execution_count": 29,
      "metadata": {},
      "outputs": [
        {
          "name": "stdout",
          "output_type": "stream",
          "text": [
            "[0.0, 0.7472144018302211, 1.1700712526502546, 1.4663370687934272, 1.6945957207744073, 1.8803128665695001, 2.03688192726104, 2.172223275130802, 2.2914117923959205, 2.3978952727983707]\n"
          ]
        },
        {
          "name": "stderr",
          "output_type": "stream",
          "text": [
            "/home/eva012/projectPractice/src/test_methods.py:71: UserWarning: FigureCanvasAgg is non-interactive, and thus cannot be shown\n",
            "  fig.show()\n"
          ]
        },
        {
          "data": {
            "image/png": "[encoded data removed]",
            "text/plain": [
              "<Figure size 600x600 with 1 Axes>"
            ]
          },
          "metadata": {},
          "output_type": "display_data"
        }
      ],
      "source": [
        "from num_methods import Solver2\n",
        "from test_methods import Test2\n",
        "\n",
        "t_start = 0\n",
        "t_finish = 4\n",
        "sol = Solver2((fx, fy), [jac1, jac2], [], (fx2(0), fy2(0)), (t_start, t_finish))\n",
        "tester = Test2((fx2, fy2))\n",
        "tester.test_methods((0.009, 0.1), 0.01, sol, [sol.implicit2])"
      ]
    }
  ],
  "metadata": {
    "accelerator": "GPU",
    "colab": {
      "gpuType": "T4",
      "provenance": []
    },
    "kernelspec": {
      "display_name": "Python 3",
      "name": "python3"
    },
    "language_info": {
      "codemirror_mode": {
        "name": "ipython",
        "version": 3
      },
      "file_extension": ".py",
      "mimetype": "text/x-python",
      "name": "python",
      "nbconvert_exporter": "python",
      "pygments_lexer": "ipython3",
      "version": "3.11.2"
    }
  },
  "nbformat": 4,
  "nbformat_minor": 0
}
