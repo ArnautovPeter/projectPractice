{
  "cells": [
    {
      "cell_type": "code",
      "execution_count": 3,
      "metadata": {
        "id": "DP3Dj-t-YY3k"
      },
      "outputs": [],
      "source": [
        "import matplotlib.pyplot as plt\n",
        "import numpy as np\n",
        "import math"
      ]
    },
    {
      "cell_type": "code",
      "execution_count": 19,
      "metadata": {
        "id": "T_w4Sd0UZUbh"
      },
      "outputs": [],
      "source": [
        "def draw(Ox, Oy: list[list], name: str, scatter: bool = False):\n",
        "    f = plt.figure(figsize=(7, 7))\n",
        "    px1 = f.add_subplot(111)\n",
        "    if not scatter:\n",
        "        for y in Oy:\n",
        "            px1.plot(Ox, y, label=name)\n",
        "    else:\n",
        "        for y in Oy:\n",
        "            px1.scatter(Ox, y, label=name)\n",
        "    px1.legend()\n",
        "    f.show()"
      ]
    },
    {
      "cell_type": "code",
      "execution_count": 5,
      "metadata": {
        "id": "y_jBD8icYY3l"
      },
      "outputs": [],
      "source": [
        "def fx(xvn, yvn, a):\n",
        "    return -a*((xvn**3)/3-xvn)+a*yvn\n",
        "\n",
        "def fy(xvn, yvn, c, b):\n",
        "    return -xvn + c - b*yvn"
      ]
    },
    {
      "cell_type": "code",
      "execution_count": 6,
      "metadata": {
        "id": "HVU1xKrPYY3m"
      },
      "outputs": [],
      "source": [
        "def newtonsMethod(a, c, T, y, b, x):\n",
        "    l = [x]\n",
        "    for i in range(100):\n",
        "        xn = l[-1]\n",
        "        f = -xn+(-a*(xn**3/3-xn)+a*((-xn+c)*T+y)/(1+b*T))*T+x\n",
        "        g = -1+a*T*(-T/(b*T+1)-xn**2+1)\n",
        "        l.append(l[-1] - f/g)\n",
        "    return l[-1]"
      ]
    },
    {
      "cell_type": "code",
      "execution_count": 7,
      "metadata": {
        "id": "CFItnfRVYY3m"
      },
      "outputs": [],
      "source": [
        "def explicit_method(T, a, xvn, yvn, c, b):\n",
        "    xn1 = T*fx(xvn, yvn, a) + xvn\n",
        "    yn1 = T*fy(xvn, yvn, c, b) + yvn\n",
        "    return (xn1, yn1)"
      ]
    },
    {
      "cell_type": "code",
      "execution_count": 8,
      "metadata": {
        "id": "AZONbGh6YY3m"
      },
      "outputs": [],
      "source": [
        "def implicit_method(T, a, xvn, yvn, c, b):\n",
        "    xn2 = newtonsMethod(a, c, T, yvn, b, xvn)\n",
        "    yn2 = (T*(-xn2+c) + yvn)/(1+b*T)\n",
        "    return (xn2, yn2)"
      ]
    },
    {
      "cell_type": "code",
      "execution_count": 9,
      "metadata": {
        "id": "sS5MTp_JYY3m"
      },
      "outputs": [],
      "source": [
        "def explicit4_method(T, a, xvn, yvn, c, b):\n",
        "    kx1 = fx(xvn, yvn, a)\n",
        "    kx2 = fx(xvn + T/2*kx1, yvn + T/2, a)\n",
        "    kx3 = fx(xvn + T/2*kx2, yvn + T/2, a)\n",
        "    kx4 = fx(xvn + T*kx3, yvn + T, a)\n",
        "    xn = xvn + T/6*(kx1 + 2 * kx2 + 2 * kx3 + kx4)\n",
        "    ky1 = fy(xvn, yvn, c, b)\n",
        "    ky2 = fy(xvn + T/2, yvn + T/2 * ky1, c, b)\n",
        "    ky3 = fy(xvn + T/2, yvn + T/2 * ky2, c, b)\n",
        "    ky4 = fy(xvn + T/2, yvn + T * ky3, c, b)\n",
        "    yn = yvn + T/6*(ky1 + 2 * ky2 + 2 * ky3 + ky4)\n",
        "    return (xn, yn)"
      ]
    },
    {
      "cell_type": "code",
      "execution_count": 11,
      "metadata": {
        "id": "ohW4PjTiYY3m"
      },
      "outputs": [],
      "source": [
        "def explicit5_method(T, a, xvn, yvn, c, b):\n",
        "    pass"
      ]
    },
    {
      "cell_type": "markdown",
      "metadata": {
        "id": "q2J23PIwYY3m"
      },
      "source": [
        "$x' = -a(\\frac{x^3}{3} - x) - ay$\\\n",
        "$y' = -x - by + c$\\\n",
        "$x(0) = 2,\\quad y(0) = 0$\\\n",
        "Здесь 1 $\\leq$ _a_ $\\leq$ 10^3, 0 < _c_ < 1.\n",
        "Провести исследование поведения решений в зависимости от значений «большого» параметра _a_."
      ]
    },
    {
      "cell_type": "code",
      "execution_count": 49,
      "metadata": {
        "colab": {
          "base_uri": "https://localhost:8080/",
          "height": 599
        },
        "id": "r3levVLtYY3n",
        "outputId": "6798d138-daa7-4fa8-8835-49e52dc78794"
      },
      "outputs": [
        {
          "data": {
            "image/png": "[encoded data removed]",
            "text/plain": [
              "<Figure size 700x700 with 1 Axes>"
            ]
          },
          "metadata": {},
          "output_type": "display_data"
        }
      ],
      "source": [
        "T = 0.01\n",
        "\n",
        "t_start = 0\n",
        "t_finish = 200 * 12\n",
        "\n",
        "# for a in range(1, 1000, 100):\n",
        "    # b /= 1000\n",
        "# for c in range(1, 100, 30):\n",
        "    # c /= 10\n",
        "    # for b in range(1, 200, 10):\n",
        "a = 50\n",
        "c = 0.5\n",
        "b = 0.740625\n",
        "tn = t_start\n",
        "# Первый элемент это x, второй y\n",
        "# array1 = [(2, 0)]\n",
        "# array2 = [(2, 0)]\n",
        "main_array = []\n",
        "tl = [tn]\n",
        "while tl[-1] <= t_finish:\n",
        "    tl.append(tl[-1] + T)\n",
        "iter = tl[1:]\n",
        "\n",
        "c = 0.1\n",
        "a = 100\n",
        "array3 = [(2, 0)]\n",
        "\n",
        "array3_dif = []\n",
        "array3_dif.append((fx(array3[-1][0], array3[-1][1], a),\n",
        "                    fy(array3[-1][0], array3[-1][1], c, b)))\n",
        "\n",
        "for _ in iter:\n",
        "    #явный метод 1-го порядка\n",
        "    # array1.append(explicit_method(T, a, array1[-1][0], array1[-1][1], c, b))\n",
        "    #неявный метод 1-го порядка\n",
        "    # array2.append(implicit_method(T, a, array2[-1][0], array2[-1][1], c, b))\n",
        "    #метод рунге-кутты 4-го порядка\n",
        "    array3.append(explicit4_method(T, a, array3[-1][0], array3[-1][1], c, b))\n",
        "    array3_dif.append((fx(array3[-1][0], array3[-1][1], a),\n",
        "                    fy(array3[-1][0], array3[-1][1], c, b)))\n",
        "\n",
        "# arrayx1 = [i[0] for i in array1]\n",
        "# arrayx2 = [i[0] for i in array2]\n",
        "arrayx3 = [i[0] for i in array3]\n",
        "main_array.append(arrayx3)\n",
        "array_dif_x3 = [[i[0] for i in array3_dif]]\n",
        "# draw(px1, tl, arrayx1, \"явный 1-го порядка\")\n",
        "# draw(px1, tl, arrayx2, \"неявный 1-го порядка\")\n",
        "draw(tl, [arrayx3], f\"{a}, {c} рунге-кутты\")\n",
        "# draw(tl, array_dif_x3, f\"{a} x' from t\")\n",
        "# draw(arrayx3, array_dif_x3, \"x' from x\")"
      ]
    },
    {
      "cell_type": "code",
      "execution_count": null,
      "metadata": {
        "id": "khBGRcG0jGAI"
      },
      "outputs": [],
      "source": []
    }
  ],
  "metadata": {
    "accelerator": "GPU",
    "colab": {
      "gpuType": "T4",
      "provenance": []
    },
    "kernelspec": {
      "display_name": "Python 3",
      "name": "python3"
    },
    "language_info": {
      "codemirror_mode": {
        "name": "ipython",
        "version": 3
      },
      "file_extension": ".py",
      "mimetype": "text/x-python",
      "name": "python",
      "nbconvert_exporter": "python",
      "pygments_lexer": "ipython3",
      "version": "3.11.2"
    }
  },
  "nbformat": 4,
  "nbformat_minor": 0
}
