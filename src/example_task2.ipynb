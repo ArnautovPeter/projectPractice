{
  "cells": [
    {
      "cell_type": "code",
      "execution_count": 33,
      "metadata": {
        "id": "DP3Dj-t-YY3k"
      },
      "outputs": [],
      "source": [
        "import matplotlib.pyplot as plt\n",
        "import numpy as np\n",
        "import math\n",
        "import decimal"
      ]
    },
    {
      "cell_type": "code",
      "execution_count": 34,
      "metadata": {
        "id": "T_w4Sd0UZUbh"
      },
      "outputs": [],
      "source": [
        "def draw(Ox, Oy: list[list], name: str, scatter: bool = False):\n",
        "    f = plt.figure(figsize=(7, 7))\n",
        "    px1 = f.add_subplot(111)\n",
        "    if not scatter:\n",
        "        for y in Oy:\n",
        "            px1.plot(Ox, y, label=name)\n",
        "    else:\n",
        "        for y in Oy:\n",
        "            px1.scatter(Ox, y, label=name)\n",
        "    px1.legend()\n",
        "    f.show()"
      ]
    },
    {
      "cell_type": "code",
      "execution_count": 35,
      "metadata": {
        "id": "y_jBD8icYY3l"
      },
      "outputs": [],
      "source": [
        "def f(ksi, a, c, T1, T2):\n",
        "    if 0 < ksi <= T1:\n",
        "        return a\n",
        "    elif T1 < ksi <= T2:\n",
        "        return ((a - c) * ksi  + c * T1 - a * T2)/(T1 - T2)\n",
        "    else:\n",
        "        return ((c - a) * ksi  + a * T2  - c) / (T2 - 1)\n",
        "\n",
        "def fx(xvn, yvn, a):\n",
        "    # print(xvn, yvn)\n",
        "    # return -a*((xvn**3)/3-xvn)+a*yvn\n",
        "    return yvn\n",
        "\n",
        "# def fy(xvn, yvn, c, b):\n",
        "def fy(xvn, yvn, c, b, T1, T2, a, t, Tbig, K, eps, Tau, arrayx, T):\n",
        "    # return -xvn + c - b*yvn\n",
        "    print(yvn * (f(t/Tbig + 1/4, a, c, T1, T2) - xvn ** 2) - xvn + K + eps * (arrayx[-(Tau/2/T)] - xvn), \" || \", xvn)\n",
        "    print( )\n",
        "    return yvn * (f(t/Tbig + 1/4, a, c, T1, T2) - xvn ** 2) - xvn + K + eps * (arrayx[-(Tau/2/T)] - xvn)\n",
        "    # return -xvn"
      ]
    },
    {
      "cell_type": "code",
      "execution_count": 36,
      "metadata": {
        "id": "HVU1xKrPYY3m"
      },
      "outputs": [],
      "source": [
        "def newtonsMethod(a, c, T, y, b, x):\n",
        "    l = [x]\n",
        "    for i in range(100):\n",
        "        xn = l[-1]\n",
        "        f = -xn+(-a*(xn**3/3-xn)+a*((-xn+c)*T+y)/(1+b*T))*T+x\n",
        "        g = -1+a*T*(-T/(b*T+1)-xn**2+1)\n",
        "        l.append(l[-1] - f/g)\n",
        "    return l[-1]"
      ]
    },
    {
      "cell_type": "code",
      "execution_count": 37,
      "metadata": {
        "id": "CFItnfRVYY3m"
      },
      "outputs": [],
      "source": [
        "# def explicit_method(T, a, xvn, yvn, c, b):\n",
        "def explicit_method(T, a, xvn, yvn, c, b, T1, T2, t, Tbig, K, eps, Tau, arrayx):\n",
        "    xn1 = T*fx(xvn, yvn, a) + xvn\n",
        "    # yn1 = T*fy(xvn, yvn, c, b) + yvn\n",
        "    yn1 = T*fy(xvn, yvn, c, b, T1, T2, a, t, Tbig, K, eps, Tau, arrayx, T) + yvn\n",
        "    return (xn1, yn1)"
      ]
    },
    {
      "cell_type": "code",
      "execution_count": 38,
      "metadata": {
        "id": "AZONbGh6YY3m"
      },
      "outputs": [],
      "source": [
        "def implicit_method(T, a, xvn, yvn, c, b):\n",
        "    xn2 = newtonsMethod(a, c, T, yvn, b, xvn)\n",
        "    yn2 = (T*(-xn2+c) + yvn)/(1+b*T)\n",
        "    return (xn2, yn2)"
      ]
    },
    {
      "cell_type": "code",
      "execution_count": 39,
      "metadata": {
        "id": "sS5MTp_JYY3m"
      },
      "outputs": [],
      "source": [
        "def explicit4_method(T, a, xvn, yvn, c, b):\n",
        "    kx1 = fx(xvn, yvn, a)\n",
        "    kx2 = fx(xvn + T/2*kx1, yvn + T/2, a)\n",
        "    kx3 = fx(xvn + T/2*kx2, yvn + T/2, a)\n",
        "    kx4 = fx(xvn + T*kx3, yvn + T, a)\n",
        "    xn = xvn + T/6*(kx1 + 2 * kx2 + 2 * kx3 + kx4)\n",
        "\n",
        "    ky1 = fy(xvn, yvn, c, b)\n",
        "    ky2 = fy(xvn + T/2, yvn + T/2 * ky1, c, b)\n",
        "    ky3 = fy(xvn + T/2, yvn + T/2 * ky2, c, b)\n",
        "    ky4 = fy(xvn + T/2, yvn + T * ky3, c, b)\n",
        "    yn = yvn + T/6*(ky1 + 2 * ky2 + 2 * ky3 + ky4)\n",
        "    \n",
        "    return (xn, yn)"
      ]
    },
    {
      "cell_type": "code",
      "execution_count": 40,
      "metadata": {
        "id": "ohW4PjTiYY3m"
      },
      "outputs": [],
      "source": [
        "def explicit5_method(T, a, xvn, yvn, c, b):\n",
        "    kx1 = fx(xvn, yvn, a)\n",
        "    kx2 = fx(xvn + 1/4 * T * kx1,\n",
        "             yvn + 3/2 * T, a)\n",
        "    # if xvn + (3/32 * kx1 + 9/32 * kx2) * T > 10:\n",
        "    #     print(xvn + (3/32 * kx1 + 9/32 * kx2) * T)\n",
        "    kx3 = fx(xvn + (3/32 * kx1 + 9/32 * kx2) * T,\n",
        "             yvn + 3/8 * T, a)\n",
        "    kx4 = fx(xvn + (1932/2197 * kx1 - \n",
        "             7200/2197 * kx2 + 7296/2197 * kx3) * T,\n",
        "             yvn + 12/13 * T, a)\n",
        "    kx5 = fx(xvn + (439/216 * kx1 - 8 * kx2\n",
        "                    + 3680/513 * kx3 - 845/4104 * kx4) * T,\n",
        "                    yvn + T, a)\n",
        "    kx6 = fx(xvn + (-8/27 * kx1 + 2 * kx2 - 3544/2565 * kx3\n",
        "                    + 1859/4104 * kx4 + 11/40 * kx5) * T,\n",
        "                    yvn + 1/2 * T, a)\n",
        "    xn = xvn + (16/135 * kx1 + 6656/12825 * kx3\n",
        "                + 28561/56430 * kx4 + 2/55 * kx5\n",
        "                - 9/50 * kx6) * T\n",
        "    \n",
        "    ky1 = fy(xvn, yvn, c, b)\n",
        "    ky2 = fy(xvn + 3/2 * T,\n",
        "             yvn + 1/4 * T * ky1, c, b)\n",
        "    ky3 = fy(xvn + 3/8 * T,\n",
        "             yvn + (3/32 * ky1 + 9/32 * ky2) * T, c, b)\n",
        "    ky4 = fy(xvn + 12/13 * T, yvn + (1932/2197 * ky1 - \n",
        "            7200/2197 * ky2 + 7296/2197 * ky3) * T, c, b)\n",
        "    ky5 = fy(xvn + T, yvn + (439/216 * ky1 - 8 * ky2\n",
        "             + 3680/513 * ky3 - 845/4104 * ky4) * T, c, b)\n",
        "    ky6 = fy(xvn + 1/2 * T,\n",
        "             yvn + (-8/27 * ky1 + 2 * ky2 - 3544/2565 * ky3\n",
        "             + 1859/4104 * ky4 + 11/40 * ky5) * T, c, b)\n",
        "    yn = yvn + (16/135 * ky1 + 6656/12825 * ky3\n",
        "                + 28561/56430 * ky4 + 2/55 * ky5\n",
        "                - 9/50 * ky6) * T\n",
        "\n",
        "    return (xn, yn)"
      ]
    },
    {
      "cell_type": "markdown",
      "metadata": {
        "id": "q2J23PIwYY3m"
      },
      "source": [
        "$x' = -a(\\frac{x^3}{3} - x) - ay$\\\n",
        "$y' = -x - by + c$\\\n",
        "$x(0) = 2,\\quad y(0) = 0$\\\n",
        "Здесь 1 $\\leq$ _a_ $\\leq$ 10^3, 0 < _c_ < 1.\n",
        "Провести исследование поведения решений в зависимости от значений «большого» параметра _a_.\n"
      ]
    },
    {
      "cell_type": "code",
      "execution_count": 41,
      "metadata": {
        "colab": {
          "base_uri": "https://localhost:8080/",
          "height": 599
        },
        "id": "r3levVLtYY3n",
        "outputId": "6798d138-daa7-4fa8-8835-49e52dc78794"
      },
      "outputs": [
        {
          "name": "stdout",
          "output_type": "stream",
          "text": [
            "69.08  ||  2\n",
            "\n",
            "18565.75  ||  0\n",
            "\n",
            "-83562891.4996  ||  69.08\n",
            "\n",
            "2.8803025654729612e+16  ||  18565.75\n",
            "\n",
            "-2.011245242815269e+32  ||  -83562891.4996\n",
            "\n",
            "1.6685577878328602e+65  ||  2.8803025654729612e+16\n",
            "\n",
            "-6.749495499519331e+129  ||  -2.011245242815269e+32\n",
            "\n",
            "1.8791169794262595e+260  ||  1.6685577878328602e+65\n",
            "\n",
            "-inf  ||  -6.749495499519331e+129\n",
            "\n"
          ]
        },
        {
          "ename": "OverflowError",
          "evalue": "(34, 'Numerical result out of range')",
          "output_type": "error",
          "traceback": [
            "\u001b[0;31m---------------------------------------------------------------------------\u001b[0m",
            "\u001b[0;31mOverflowError\u001b[0m                             Traceback (most recent call last)",
            "Cell \u001b[0;32mIn[41], line 46\u001b[0m\n\u001b[1;32m     42\u001b[0m     t \u001b[38;5;241m=\u001b[39m tl[i]\n\u001b[1;32m     43\u001b[0m \u001b[38;5;66;03m# for _ in iter:\u001b[39;00m\n\u001b[1;32m     44\u001b[0m     \u001b[38;5;66;03m#явный метод 1-го порядка\u001b[39;00m\n\u001b[1;32m     45\u001b[0m     \u001b[38;5;66;03m# array1.append(explicit_method(T, a, array1[-1][0], array1[-1][1], c, b, T1, T2, t, Tbig, K, eps, Tau))\u001b[39;00m\n\u001b[0;32m---> 46\u001b[0m     array1\u001b[38;5;241m.\u001b[39mappend((fx(array1[\u001b[38;5;241m-\u001b[39m\u001b[38;5;241m1\u001b[39m][\u001b[38;5;241m0\u001b[39m], array1[\u001b[38;5;241m-\u001b[39m\u001b[38;5;241m1\u001b[39m][\u001b[38;5;241m1\u001b[39m], a), \u001b[43mfy\u001b[49m\u001b[43m(\u001b[49m\u001b[43marray1\u001b[49m\u001b[43m[\u001b[49m\u001b[38;5;241;43m-\u001b[39;49m\u001b[38;5;241;43m1\u001b[39;49m\u001b[43m]\u001b[49m\u001b[43m[\u001b[49m\u001b[38;5;241;43m0\u001b[39;49m\u001b[43m]\u001b[49m\u001b[43m,\u001b[49m\u001b[43m \u001b[49m\u001b[43marray1\u001b[49m\u001b[43m[\u001b[49m\u001b[38;5;241;43m-\u001b[39;49m\u001b[38;5;241;43m1\u001b[39;49m\u001b[43m]\u001b[49m\u001b[43m[\u001b[49m\u001b[38;5;241;43m1\u001b[39;49m\u001b[43m]\u001b[49m\u001b[43m,\u001b[49m\u001b[43m \u001b[49m\u001b[43mc\u001b[49m\u001b[43m,\u001b[49m\u001b[43m \u001b[49m\u001b[43mb\u001b[49m\u001b[43m,\u001b[49m\u001b[43m \u001b[49m\u001b[43mT1\u001b[49m\u001b[43m,\u001b[49m\u001b[43m \u001b[49m\u001b[43mT2\u001b[49m\u001b[43m,\u001b[49m\u001b[43m \u001b[49m\u001b[43ma\u001b[49m\u001b[43m,\u001b[49m\u001b[43m \u001b[49m\u001b[43mt\u001b[49m\u001b[43m,\u001b[49m\u001b[43m \u001b[49m\u001b[43mTbig\u001b[49m\u001b[43m,\u001b[49m\u001b[43m \u001b[49m\u001b[43mK\u001b[49m\u001b[43m,\u001b[49m\u001b[43m \u001b[49m\u001b[43meps\u001b[49m\u001b[43m,\u001b[49m\u001b[43m \u001b[49m\u001b[43mTau\u001b[49m\u001b[43m)\u001b[49m))\n\u001b[1;32m     47\u001b[0m     \u001b[38;5;66;03m#неявный метод 1-го порядка\u001b[39;00m\n\u001b[1;32m     48\u001b[0m     \u001b[38;5;66;03m# array2.append(implicit_method(T, a, array2[-1][0], array2[-1][1], c, b))\u001b[39;00m\n\u001b[1;32m     49\u001b[0m     \u001b[38;5;66;03m#метод рунге-кутты 4-го порядка\u001b[39;00m\n\u001b[0;32m   (...)\u001b[0m\n\u001b[1;32m     53\u001b[0m     \u001b[38;5;66;03m# array3_dif.append((fx(array3[-1][0], array3[-1][1], a),\u001b[39;00m\n\u001b[1;32m     54\u001b[0m     \u001b[38;5;66;03m#                 fy(array3[-1][0], array3[-1][1], c, b)))\u001b[39;00m\n\u001b[1;32m     56\u001b[0m arrayx1 \u001b[38;5;241m=\u001b[39m [i[\u001b[38;5;241m0\u001b[39m] \u001b[38;5;28;01mfor\u001b[39;00m i \u001b[38;5;129;01min\u001b[39;00m array1]\n",
            "Cell \u001b[0;32mIn[35], line 17\u001b[0m, in \u001b[0;36mfy\u001b[0;34m(xvn, yvn, c, b, T1, T2, a, t, Tbig, K, eps, T)\u001b[0m\n\u001b[1;32m     15\u001b[0m \u001b[38;5;28;01mdef\u001b[39;00m \u001b[38;5;21mfy\u001b[39m(xvn, yvn, c, b, T1, T2, a, t, Tbig, K, eps, T):\n\u001b[1;32m     16\u001b[0m     \u001b[38;5;66;03m# return -xvn + c - b*yvn\u001b[39;00m\n\u001b[0;32m---> 17\u001b[0m     \u001b[38;5;28mprint\u001b[39m(yvn \u001b[38;5;241m*\u001b[39m (f(t\u001b[38;5;241m/\u001b[39mTbig \u001b[38;5;241m+\u001b[39m \u001b[38;5;241m1\u001b[39m\u001b[38;5;241m/\u001b[39m\u001b[38;5;241m4\u001b[39m, a, c, T1, T2) \u001b[38;5;241m-\u001b[39m \u001b[43mxvn\u001b[49m\u001b[43m \u001b[49m\u001b[38;5;241;43m*\u001b[39;49m\u001b[38;5;241;43m*\u001b[39;49m\u001b[43m \u001b[49m\u001b[38;5;241;43m2\u001b[39;49m) \u001b[38;5;241m-\u001b[39m xvn \u001b[38;5;241m+\u001b[39m K \u001b[38;5;241m+\u001b[39m eps \u001b[38;5;241m*\u001b[39m (xvn\u001b[38;5;241m*\u001b[39m(t \u001b[38;5;241m-\u001b[39m T \u001b[38;5;241m-\u001b[39m \u001b[38;5;241m1\u001b[39m)), \u001b[38;5;124m\"\u001b[39m\u001b[38;5;124m || \u001b[39m\u001b[38;5;124m\"\u001b[39m, xvn)\n\u001b[1;32m     18\u001b[0m     \u001b[38;5;28mprint\u001b[39m( )\n\u001b[1;32m     19\u001b[0m     \u001b[38;5;28;01mreturn\u001b[39;00m yvn \u001b[38;5;241m*\u001b[39m (f(t\u001b[38;5;241m/\u001b[39mTbig \u001b[38;5;241m+\u001b[39m \u001b[38;5;241m1\u001b[39m\u001b[38;5;241m/\u001b[39m\u001b[38;5;241m4\u001b[39m, a, c, T1, T2) \u001b[38;5;241m-\u001b[39m xvn \u001b[38;5;241m*\u001b[39m\u001b[38;5;241m*\u001b[39m \u001b[38;5;241m2\u001b[39m) \u001b[38;5;241m-\u001b[39m xvn \u001b[38;5;241m+\u001b[39m K \u001b[38;5;241m+\u001b[39m eps \u001b[38;5;241m*\u001b[39m (xvn\u001b[38;5;241m*\u001b[39m(t \u001b[38;5;241m-\u001b[39m T \u001b[38;5;241m-\u001b[39m \u001b[38;5;241m1\u001b[39m))\n",
            "\u001b[0;31mOverflowError\u001b[0m: (34, 'Numerical result out of range')"
          ]
        }
      ],
      "source": [
        "T = 30\n",
        "\n",
        "K = 0.5\n",
        "c = -2\n",
        "T1 = 0.4\n",
        "T2 = 0.5\n",
        "eps = 0.01\n",
        "Tbig = 200\n",
        "Tau = Tbig/2\n",
        "\n",
        "t_start = 18 * Tbig\n",
        "t_finish = 20 * Tbig\n",
        "\n",
        "# for a in range(1, 1000, 100):\n",
        "    # b /= 1000\n",
        "# for c in range(1, 100, 30):\n",
        "    # c /= 10\n",
        "    # for b in range(1, 200, 10):\n",
        "a = 5.5\n",
        "b = 0\n",
        "tn = t_start\n",
        "# Первый элемент это x, второй y\n",
        "# array1 = [(2, 0)]\n",
        "# array2 = [(2, 0)]\n",
        "main_array = []\n",
        "tl = [tn]\n",
        "while tl[-1] <= t_finish:\n",
        "    tl.append(tl[-1] + T)\n",
        "iter = tl[1:]\n",
        "\n",
        "# c = 0.5\n",
        "# a = 100\n",
        "array1 = [(2, 0)]\n",
        "array2 = [(2, 0)]\n",
        "array3 = [(2, 0)]\n",
        "array4 = [(2, 0)]\n",
        "\n",
        "# array3_dif = [(fx(array3[-1][0], array3[-1][1], a),\n",
        "#                     fy(array3[-1][0], array3[-1][1], c, b))]\n",
        "\n",
        "for i in range(1, len(tl)):\n",
        "    t = tl[i]\n",
        "# for _ in iter:\n",
        "    #явный метод 1-го порядка\n",
        "    # array1.append(explicit_method(T, a, array1[-1][0], array1[-1][1], c, b, T1, T2, t, Tbig, K, eps, Tau))\n",
        "    array1.append((fx(array1[-1][0], array1[-1][1], a), fy(array1[-1][0], array1[-1][1], c, b, T1, T2, a, t, Tbig, K, eps, Tau)))\n",
        "    #неявный метод 1-го порядка\n",
        "    # array2.append(implicit_method(T, a, array2[-1][0], array2[-1][1], c, b))\n",
        "    #метод рунге-кутты 4-го порядка\n",
        "    # array3.append(explicit4_method(T, a, array3[-1][0], array3[-1][1], c, b))\n",
        "    # array4.append(explicit5_method(T, a, array4[-1][0], array4[-1][1], c, b))\n",
        "    \n",
        "    # array3_dif.append((fx(array3[-1][0], array3[-1][1], a),\n",
        "    #                 fy(array3[-1][0], array3[-1][1], c, b)))\n",
        "\n",
        "arrayx1 = [i[0] for i in array1]\n",
        "# arrayx2 = [i[0] for i in array2]\n",
        "arrayx3 = [i[0] for i in array3]\n",
        "arrayx4 = [i[0] for i in array4]\n",
        "\n",
        "# main_array.append(arrayx3)\n",
        "# array_dif_x3 = [[i[0] for i in array3_dif]]\n",
        "# draw(px1, tl, arrayx1, \"явный 1-го порядка\")\n",
        "# draw(px1, tl, arrayx2, \"неявный 1-го порядка\")\n",
        "draw(tl, [arrayx1], f\"{a}, {c} рунге-кутты\")\n",
        "# draw(tl, array_dif_x3, f\"{a} x' from t\")\n",
        "# draw(arrayx3, array_dif_x3, \"x' from x\")"
      ]
    },
    {
      "cell_type": "code",
      "execution_count": null,
      "metadata": {
        "id": "khBGRcG0jGAI"
      },
      "outputs": [],
      "source": []
    }
  ],
  "metadata": {
    "accelerator": "GPU",
    "colab": {
      "gpuType": "T4",
      "provenance": []
    },
    "kernelspec": {
      "display_name": "Python 3",
      "name": "python3"
    },
    "language_info": {
      "codemirror_mode": {
        "name": "ipython",
        "version": 3
      },
      "file_extension": ".py",
      "mimetype": "text/x-python",
      "name": "python",
      "nbconvert_exporter": "python",
      "pygments_lexer": "ipython3",
      "version": "3.10.12"
    }
  },
  "nbformat": 4,
  "nbformat_minor": 0
}
